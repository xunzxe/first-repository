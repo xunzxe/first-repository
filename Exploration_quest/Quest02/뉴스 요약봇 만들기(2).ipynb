{
  "cells": [
    {
      "cell_type": "code",
      "execution_count": 1,
      "metadata": {
        "colab": {
          "base_uri": "https://localhost:8080/"
        },
        "id": "QTUcJ9Bg91JV",
        "outputId": "d0b07273-eda7-4ffe-e525-5fea230dbf29"
      },
      "outputs": [
        {
          "name": "stderr",
          "output_type": "stream",
          "text": [
            "[nltk_data] Downloading package stopwords to\n",
            "[nltk_data]     C:\\Users\\ligoan\\AppData\\Roaming\\nltk_data...\n",
            "[nltk_data]   Package stopwords is already up-to-date!\n"
          ]
        },
        {
          "name": "stdout",
          "output_type": "stream",
          "text": [
            "3.5\n",
            "2.4.0\n",
            "1.1.5\n",
            "1.2.0\n"
          ]
        }
      ],
      "source": [
        "from importlib.metadata import version\n",
        "import tensorflow\n",
        "import summa\n",
        "import pandas as pd\n",
        "from nltk.corpus import stopwords\n",
        "import nltk\n",
        "nltk.download('stopwords')\n",
        "\n",
        "import numpy as np\n",
        "import pandas as pd\n",
        "import os\n",
        "import re\n",
        "import matplotlib.pyplot as plt\n",
        "from bs4 import BeautifulSoup\n",
        "from tensorflow.keras.preprocessing.text import Tokenizer\n",
        "from tensorflow.keras.preprocessing.sequence import pad_sequences\n",
        "import urllib.request\n",
        "import warnings\n",
        "warnings.filterwarnings(\"ignore\", category=UserWarning, module='bs4')\n",
        "\n",
        "print(nltk.__version__)\n",
        "print(tensorflow.__version__)\n",
        "print(pd.__version__)\n",
        "print(version('summa'))"
      ]
    },
    {
      "cell_type": "markdown",
      "metadata": {
        "id": "sEpxMGmg-Jqb"
      },
      "source": [
        "# 데이터 수집과 확인"
      ]
    },
    {
      "cell_type": "code",
      "execution_count": 5,
      "metadata": {
        "id": "BLSltxaa-um3"
      },
      "outputs": [],
      "source": [
        "import urllib.request\n",
        "urllib.request.urlretrieve(\"https://raw.githubusercontent.com/sunnysai12345/News_Summary/master/news_summary_more.csv\", filename=\"news_summary_more.csv\")\n",
        "data = pd.read_csv('news_summary_more.csv', encoding='iso-8859-1')"
      ]
    },
    {
      "cell_type": "code",
      "execution_count": 3,
      "metadata": {
        "colab": {
          "base_uri": "https://localhost:8080/",
          "height": 363
        },
        "id": "FsYHomVn-60c",
        "outputId": "4a7107e3-fcf5-4889-8d5f-32ab6fceba33"
      },
      "outputs": [
        {
          "data": {
            "text/html": [
              "<div>\n",
              "<style scoped>\n",
              "    .dataframe tbody tr th:only-of-type {\n",
              "        vertical-align: middle;\n",
              "    }\n",
              "\n",
              "    .dataframe tbody tr th {\n",
              "        vertical-align: top;\n",
              "    }\n",
              "\n",
              "    .dataframe thead th {\n",
              "        text-align: right;\n",
              "    }\n",
              "</style>\n",
              "<table border=\"1\" class=\"dataframe\">\n",
              "  <thead>\n",
              "    <tr style=\"text-align: right;\">\n",
              "      <th></th>\n",
              "      <th>headlines</th>\n",
              "      <th>text</th>\n",
              "    </tr>\n",
              "  </thead>\n",
              "  <tbody>\n",
              "    <tr>\n",
              "      <th>0</th>\n",
              "      <td>upGrad learner switches to career in ML &amp; Al w...</td>\n",
              "      <td>Saurav Kant, an alumnus of upGrad and IIIT-B's...</td>\n",
              "    </tr>\n",
              "    <tr>\n",
              "      <th>1</th>\n",
              "      <td>Delhi techie wins free food from Swiggy for on...</td>\n",
              "      <td>Kunal Shah's credit card bill payment platform...</td>\n",
              "    </tr>\n",
              "    <tr>\n",
              "      <th>2</th>\n",
              "      <td>New Zealand end Rohit Sharma-led India's 12-ma...</td>\n",
              "      <td>New Zealand defeated India by 8 wickets in the...</td>\n",
              "    </tr>\n",
              "    <tr>\n",
              "      <th>3</th>\n",
              "      <td>Aegon life iTerm insurance plan helps customer...</td>\n",
              "      <td>With Aegon Life iTerm Insurance plan, customer...</td>\n",
              "    </tr>\n",
              "    <tr>\n",
              "      <th>4</th>\n",
              "      <td>Have known Hirani for yrs, what if MeToo claim...</td>\n",
              "      <td>Speaking about the sexual harassment allegatio...</td>\n",
              "    </tr>\n",
              "    <tr>\n",
              "      <th>5</th>\n",
              "      <td>Rahat Fateh Ali Khan denies getting notice for...</td>\n",
              "      <td>Pakistani singer Rahat Fateh Ali Khan has deni...</td>\n",
              "    </tr>\n",
              "    <tr>\n",
              "      <th>6</th>\n",
              "      <td>India get all out for 92, their lowest ODI tot...</td>\n",
              "      <td>India recorded their lowest ODI total in New Z...</td>\n",
              "    </tr>\n",
              "    <tr>\n",
              "      <th>7</th>\n",
              "      <td>Govt directs Alok Verma to join work 1 day bef...</td>\n",
              "      <td>Weeks after ex-CBI Director Alok Verma told th...</td>\n",
              "    </tr>\n",
              "    <tr>\n",
              "      <th>8</th>\n",
              "      <td>Called PM Modi 'sir' 10 times to satisfy his e...</td>\n",
              "      <td>Andhra Pradesh CM N Chandrababu Naidu has said...</td>\n",
              "    </tr>\n",
              "    <tr>\n",
              "      <th>9</th>\n",
              "      <td>Cong wins Ramgarh bypoll in Rajasthan, takes t...</td>\n",
              "      <td>Congress candidate Shafia Zubair won the Ramga...</td>\n",
              "    </tr>\n",
              "  </tbody>\n",
              "</table>\n",
              "</div>"
            ],
            "text/plain": [
              "                                           headlines  \\\n",
              "0  upGrad learner switches to career in ML & Al w...   \n",
              "1  Delhi techie wins free food from Swiggy for on...   \n",
              "2  New Zealand end Rohit Sharma-led India's 12-ma...   \n",
              "3  Aegon life iTerm insurance plan helps customer...   \n",
              "4  Have known Hirani for yrs, what if MeToo claim...   \n",
              "5  Rahat Fateh Ali Khan denies getting notice for...   \n",
              "6  India get all out for 92, their lowest ODI tot...   \n",
              "7  Govt directs Alok Verma to join work 1 day bef...   \n",
              "8  Called PM Modi 'sir' 10 times to satisfy his e...   \n",
              "9  Cong wins Ramgarh bypoll in Rajasthan, takes t...   \n",
              "\n",
              "                                                text  \n",
              "0  Saurav Kant, an alumnus of upGrad and IIIT-B's...  \n",
              "1  Kunal Shah's credit card bill payment platform...  \n",
              "2  New Zealand defeated India by 8 wickets in the...  \n",
              "3  With Aegon Life iTerm Insurance plan, customer...  \n",
              "4  Speaking about the sexual harassment allegatio...  \n",
              "5  Pakistani singer Rahat Fateh Ali Khan has deni...  \n",
              "6  India recorded their lowest ODI total in New Z...  \n",
              "7  Weeks after ex-CBI Director Alok Verma told th...  \n",
              "8  Andhra Pradesh CM N Chandrababu Naidu has said...  \n",
              "9  Congress candidate Shafia Zubair won the Ramga...  "
            ]
          },
          "execution_count": 3,
          "metadata": {},
          "output_type": "execute_result"
        }
      ],
      "source": [
        "data.head(10)"
      ]
    },
    {
      "cell_type": "markdown",
      "metadata": {
        "id": "wDcOvy5hA3jx"
      },
      "source": [
        "# 데이터 전처리\n",
        "---"
      ]
    },
    {
      "cell_type": "markdown",
      "metadata": {
        "id": "R_CtNDzwBEbL"
      },
      "source": [
        "## 결측치 확인: 없음"
      ]
    },
    {
      "cell_type": "code",
      "execution_count": 4,
      "metadata": {
        "colab": {
          "base_uri": "https://localhost:8080/",
          "height": 147
        },
        "id": "OdmfCPBfBcXV",
        "outputId": "db1d3453-a4ec-4eac-e21c-e581a96011fa"
      },
      "outputs": [
        {
          "data": {
            "text/plain": [
              "headlines    0\n",
              "text         0\n",
              "dtype: int64"
            ]
          },
          "execution_count": 4,
          "metadata": {},
          "output_type": "execute_result"
        }
      ],
      "source": [
        "data.isnull().sum()"
      ]
    },
    {
      "cell_type": "markdown",
      "metadata": {
        "id": "pFh6y44pBqiT"
      },
      "source": [
        "---"
      ]
    },
    {
      "cell_type": "markdown",
      "metadata": {
        "id": "KaWVlflcBrJ0"
      },
      "source": [
        "## 중복값 확인: 41 개"
      ]
    },
    {
      "cell_type": "code",
      "execution_count": 5,
      "metadata": {
        "colab": {
          "base_uri": "https://localhost:8080/"
        },
        "id": "hpS4FPcwBuxb",
        "outputId": "3a8f2fcd-6ee7-4f6e-ccc0-ad3b5128c60e"
      },
      "outputs": [
        {
          "name": "stdout",
          "output_type": "stream",
          "text": [
            "<class 'pandas.core.frame.DataFrame'>\n",
            "Int64Index: 41 entries, 20754 to 86430\n",
            "Data columns (total 2 columns):\n",
            " #   Column     Non-Null Count  Dtype \n",
            "---  ------     --------------  ----- \n",
            " 0   headlines  41 non-null     object\n",
            " 1   text       41 non-null     object\n",
            "dtypes: object(2)\n",
            "memory usage: 984.0+ bytes\n"
          ]
        }
      ],
      "source": [
        "data[data.duplicated(subset=['text'])].info()"
      ]
    },
    {
      "cell_type": "code",
      "execution_count": 6,
      "metadata": {
        "colab": {
          "base_uri": "https://localhost:8080/",
          "height": 1000
        },
        "id": "5EMHAhfhCqMa",
        "outputId": "7a4d1723-78ad-444c-b424-7683a70c23e2"
      },
      "outputs": [
        {
          "data": {
            "text/html": [
              "<div>\n",
              "<style scoped>\n",
              "    .dataframe tbody tr th:only-of-type {\n",
              "        vertical-align: middle;\n",
              "    }\n",
              "\n",
              "    .dataframe tbody tr th {\n",
              "        vertical-align: top;\n",
              "    }\n",
              "\n",
              "    .dataframe thead th {\n",
              "        text-align: right;\n",
              "    }\n",
              "</style>\n",
              "<table border=\"1\" class=\"dataframe\">\n",
              "  <thead>\n",
              "    <tr style=\"text-align: right;\">\n",
              "      <th></th>\n",
              "      <th>headlines</th>\n",
              "      <th>text</th>\n",
              "    </tr>\n",
              "  </thead>\n",
              "  <tbody>\n",
              "    <tr>\n",
              "      <th>20754</th>\n",
              "      <td>Aegon Life iTerm offers long-term care with en...</td>\n",
              "      <td>Safeguard yourself against life's unpleasant s...</td>\n",
              "    </tr>\n",
              "    <tr>\n",
              "      <th>44594</th>\n",
              "      <td>Berger introduces T20 of painting with Express...</td>\n",
              "      <td>Berger Paints has launched Berger Express Pain...</td>\n",
              "    </tr>\n",
              "    <tr>\n",
              "      <th>51012</th>\n",
              "      <td>Longest Test innings was longer than 10 footba...</td>\n",
              "      <td>Former Pakistani cricketer Hanif Mohammad batt...</td>\n",
              "    </tr>\n",
              "    <tr>\n",
              "      <th>52021</th>\n",
              "      <td>Aus bowler took hat-trick in his 3rd ODI, neve...</td>\n",
              "      <td>Australia's Anthony Stuart took a hat-trick in...</td>\n",
              "    </tr>\n",
              "    <tr>\n",
              "      <th>53578</th>\n",
              "      <td>Lara named daughter after Sydney where he hit ...</td>\n",
              "      <td>Former Windies' captain Brian Lara named his f...</td>\n",
              "    </tr>\n",
              "    <tr>\n",
              "      <th>53731</th>\n",
              "      <td>Captain once dropped himself, replacement brok...</td>\n",
              "      <td>England captain Mike Denness left himself out ...</td>\n",
              "    </tr>\n",
              "    <tr>\n",
              "      <th>53865</th>\n",
              "      <td>Bradman once hit 270 at no 7 after reversing b...</td>\n",
              "      <td>Cricket legend Don Bradman reversed the Austra...</td>\n",
              "    </tr>\n",
              "    <tr>\n",
              "      <th>53892</th>\n",
              "      <td>Schumacher got kart license aged 12 from anoth...</td>\n",
              "      <td>German Formula One legend Michael Schumacher, ...</td>\n",
              "    </tr>\n",
              "    <tr>\n",
              "      <th>54078</th>\n",
              "      <td>Warne gave 150 runs, took only Shastri's wkt o...</td>\n",
              "      <td>Former Australian leg-spinner Shane Warne was ...</td>\n",
              "    </tr>\n",
              "    <tr>\n",
              "      <th>55208</th>\n",
              "      <td>Fans once threw pig's head at Madrid player in...</td>\n",
              "      <td>During an El ClÃÂ¡sico match in 2002, Barcelo...</td>\n",
              "    </tr>\n",
              "    <tr>\n",
              "      <th>55374</th>\n",
              "      <td>India marks National Mathematics Day in memory...</td>\n",
              "      <td>National Mathematics Day is celebrated on Dece...</td>\n",
              "    </tr>\n",
              "    <tr>\n",
              "      <th>57402</th>\n",
              "      <td>Sehwag's 219 is the highest score by a captain...</td>\n",
              "      <td>Virender Sehwag was captaining India when he h...</td>\n",
              "    </tr>\n",
              "    <tr>\n",
              "      <th>58715</th>\n",
              "      <td>1st-ever int'l football match was played on a ...</td>\n",
              "      <td>The first-ever official international football...</td>\n",
              "    </tr>\n",
              "    <tr>\n",
              "      <th>58769</th>\n",
              "      <td>Indian bowler once took 2 hat-tricks in a sing...</td>\n",
              "      <td>Former Services' medium-pacer Joginder Rao pic...</td>\n",
              "    </tr>\n",
              "    <tr>\n",
              "      <th>58934</th>\n",
              "      <td>Player once won Man of the Match without batti...</td>\n",
              "      <td>Windies' Gus Logie was adjudged Man of the Mat...</td>\n",
              "    </tr>\n",
              "    <tr>\n",
              "      <th>59705</th>\n",
              "      <td>Why is England-Australia Test series called 'T...</td>\n",
              "      <td>England was beaten at home for the first time ...</td>\n",
              "    </tr>\n",
              "    <tr>\n",
              "      <th>60724</th>\n",
              "      <td>Sachin's debut was not telecast in India due t...</td>\n",
              "      <td>The Test in which Sachin Tendulkar made his in...</td>\n",
              "    </tr>\n",
              "    <tr>\n",
              "      <th>60885</th>\n",
              "      <td>Who is the cricketer with longest known surnam...</td>\n",
              "      <td>Fijian cricketer Ilikena Lasarusa Talebulamain...</td>\n",
              "    </tr>\n",
              "    <tr>\n",
              "      <th>61055</th>\n",
              "      <td>Tests' 1st catch and 1st wicket were taken by ...</td>\n",
              "      <td>The first wicket and first catch in Test crick...</td>\n",
              "    </tr>\n",
              "    <tr>\n",
              "      <th>61445</th>\n",
              "      <td>Out of McGrath's 563 Test dismissals, 104 were...</td>\n",
              "      <td>Former Australian fast bowler Glenn McGrath, w...</td>\n",
              "    </tr>\n",
              "    <tr>\n",
              "      <th>62063</th>\n",
              "      <td>An ODI was once played in the middle of a Test...</td>\n",
              "      <td>Zimbabwe played an ODI against New Zealand in ...</td>\n",
              "    </tr>\n",
              "    <tr>\n",
              "      <th>62575</th>\n",
              "      <td>Virat Kohli took a wicket on the 0th ball of h...</td>\n",
              "      <td>Virat Kohli dismissed England's Kevin Pieterse...</td>\n",
              "    </tr>\n",
              "    <tr>\n",
              "      <th>62639</th>\n",
              "      <td>Sachin crossed 17,000 ODI runs during 175-run ...</td>\n",
              "      <td>Former batsman Sachin Tendulkar became the fir...</td>\n",
              "    </tr>\n",
              "    <tr>\n",
              "      <th>62785</th>\n",
              "      <td>India once conceded ODI vs Pak in protest agai...</td>\n",
              "      <td>India conceded an ODI against Pakistan on Nove...</td>\n",
              "    </tr>\n",
              "    <tr>\n",
              "      <th>63533</th>\n",
              "      <td>Bhabha convinced PM Nehru to start India's nuc...</td>\n",
              "      <td>Born on October 30, 1909, Padma Bhushan-awarde...</td>\n",
              "    </tr>\n",
              "    <tr>\n",
              "      <th>64468</th>\n",
              "      <td>WeWork offers collaborative co-working space f...</td>\n",
              "      <td>WeWork is a platform for creators, which provi...</td>\n",
              "    </tr>\n",
              "    <tr>\n",
              "      <th>69673</th>\n",
              "      <td>3 pairs of brothers once played for the same t...</td>\n",
              "      <td>The New Zealand-Zimbabwe Test, which started o...</td>\n",
              "    </tr>\n",
              "    <tr>\n",
              "      <th>70249</th>\n",
              "      <td>Inzamam once attacked fan with bat for calling...</td>\n",
              "      <td>Former Pakistan captain Inzamam-ul-Haq attacke...</td>\n",
              "    </tr>\n",
              "    <tr>\n",
              "      <th>70392</th>\n",
              "      <td>Warne rightly predicted India-Eng 2011 WC matc...</td>\n",
              "      <td>Before India-England 2011 World Cup match, for...</td>\n",
              "    </tr>\n",
              "    <tr>\n",
              "      <th>71887</th>\n",
              "      <td>Eng players once flew planes over stadium duri...</td>\n",
              "      <td>Former England players David Gower and John Mo...</td>\n",
              "    </tr>\n",
              "    <tr>\n",
              "      <th>74095</th>\n",
              "      <td>A solar eclipse once proved Einstein right, Ne...</td>\n",
              "      <td>English astronomer Arthur Eddington used 1919'...</td>\n",
              "    </tr>\n",
              "    <tr>\n",
              "      <th>75349</th>\n",
              "      <td>Bradman averaged 101.39 before last Test, ende...</td>\n",
              "      <td>Legendary Australian batsman Donald Bradman ha...</td>\n",
              "    </tr>\n",
              "    <tr>\n",
              "      <th>78244</th>\n",
              "      <td>1st player to hit 6 sixes in 1 over was born w...</td>\n",
              "      <td>Former Windies' cricketer Garry Sobers, the fi...</td>\n",
              "    </tr>\n",
              "    <tr>\n",
              "      <th>78519</th>\n",
              "      <td>SBI left banking data of millions of users unp...</td>\n",
              "      <td>A TechCrunch report has claimed that IndiaÃ¢Â...</td>\n",
              "    </tr>\n",
              "    <tr>\n",
              "      <th>78521</th>\n",
              "      <td>CARS24 enables car owners to sell their cars i...</td>\n",
              "      <td>CARS24 has enabled car owners to sell their ca...</td>\n",
              "    </tr>\n",
              "    <tr>\n",
              "      <th>78522</th>\n",
              "      <td>Reebok launches FlexWeave technology in its la...</td>\n",
              "      <td>Reebok has launched FlexweaveÃ¢ÂÂan innovati...</td>\n",
              "    </tr>\n",
              "    <tr>\n",
              "      <th>80355</th>\n",
              "      <td>Over 54,000 balls are used at Wimbledon every ...</td>\n",
              "      <td>As many as 54,250 fluorescent-yellow tennis ba...</td>\n",
              "    </tr>\n",
              "    <tr>\n",
              "      <th>81352</th>\n",
              "      <td>Nikola Tesla once worked for his arch rival Th...</td>\n",
              "      <td>Born on July 10, 1856, Serbian inventor Nikola...</td>\n",
              "    </tr>\n",
              "    <tr>\n",
              "      <th>84195</th>\n",
              "      <td>Northern Hemisphere witnesses longest day of t...</td>\n",
              "      <td>June 21 marks the beginning of summer in Earth...</td>\n",
              "    </tr>\n",
              "    <tr>\n",
              "      <th>84724</th>\n",
              "      <td>Australia won the 1999 World Cup after a tied ...</td>\n",
              "      <td>Australia won the 1999 Cricket World Cup after...</td>\n",
              "    </tr>\n",
              "    <tr>\n",
              "      <th>86430</th>\n",
              "      <td>Warne produced 'ball of century' with his 1st ...</td>\n",
              "      <td>Legendary Australian spinner Shane Warne bowle...</td>\n",
              "    </tr>\n",
              "  </tbody>\n",
              "</table>\n",
              "</div>"
            ],
            "text/plain": [
              "                                               headlines  \\\n",
              "20754  Aegon Life iTerm offers long-term care with en...   \n",
              "44594  Berger introduces T20 of painting with Express...   \n",
              "51012  Longest Test innings was longer than 10 footba...   \n",
              "52021  Aus bowler took hat-trick in his 3rd ODI, neve...   \n",
              "53578  Lara named daughter after Sydney where he hit ...   \n",
              "53731  Captain once dropped himself, replacement brok...   \n",
              "53865  Bradman once hit 270 at no 7 after reversing b...   \n",
              "53892  Schumacher got kart license aged 12 from anoth...   \n",
              "54078  Warne gave 150 runs, took only Shastri's wkt o...   \n",
              "55208  Fans once threw pig's head at Madrid player in...   \n",
              "55374  India marks National Mathematics Day in memory...   \n",
              "57402  Sehwag's 219 is the highest score by a captain...   \n",
              "58715  1st-ever int'l football match was played on a ...   \n",
              "58769  Indian bowler once took 2 hat-tricks in a sing...   \n",
              "58934  Player once won Man of the Match without batti...   \n",
              "59705  Why is England-Australia Test series called 'T...   \n",
              "60724  Sachin's debut was not telecast in India due t...   \n",
              "60885  Who is the cricketer with longest known surnam...   \n",
              "61055  Tests' 1st catch and 1st wicket were taken by ...   \n",
              "61445  Out of McGrath's 563 Test dismissals, 104 were...   \n",
              "62063  An ODI was once played in the middle of a Test...   \n",
              "62575  Virat Kohli took a wicket on the 0th ball of h...   \n",
              "62639  Sachin crossed 17,000 ODI runs during 175-run ...   \n",
              "62785  India once conceded ODI vs Pak in protest agai...   \n",
              "63533  Bhabha convinced PM Nehru to start India's nuc...   \n",
              "64468  WeWork offers collaborative co-working space f...   \n",
              "69673  3 pairs of brothers once played for the same t...   \n",
              "70249  Inzamam once attacked fan with bat for calling...   \n",
              "70392  Warne rightly predicted India-Eng 2011 WC matc...   \n",
              "71887  Eng players once flew planes over stadium duri...   \n",
              "74095  A solar eclipse once proved Einstein right, Ne...   \n",
              "75349  Bradman averaged 101.39 before last Test, ende...   \n",
              "78244  1st player to hit 6 sixes in 1 over was born w...   \n",
              "78519  SBI left banking data of millions of users unp...   \n",
              "78521  CARS24 enables car owners to sell their cars i...   \n",
              "78522  Reebok launches FlexWeave technology in its la...   \n",
              "80355  Over 54,000 balls are used at Wimbledon every ...   \n",
              "81352  Nikola Tesla once worked for his arch rival Th...   \n",
              "84195  Northern Hemisphere witnesses longest day of t...   \n",
              "84724  Australia won the 1999 World Cup after a tied ...   \n",
              "86430  Warne produced 'ball of century' with his 1st ...   \n",
              "\n",
              "                                                    text  \n",
              "20754  Safeguard yourself against life's unpleasant s...  \n",
              "44594  Berger Paints has launched Berger Express Pain...  \n",
              "51012  Former Pakistani cricketer Hanif Mohammad batt...  \n",
              "52021  Australia's Anthony Stuart took a hat-trick in...  \n",
              "53578  Former Windies' captain Brian Lara named his f...  \n",
              "53731  England captain Mike Denness left himself out ...  \n",
              "53865  Cricket legend Don Bradman reversed the Austra...  \n",
              "53892  German Formula One legend Michael Schumacher, ...  \n",
              "54078  Former Australian leg-spinner Shane Warne was ...  \n",
              "55208  During an El ClÃÂ¡sico match in 2002, Barcelo...  \n",
              "55374  National Mathematics Day is celebrated on Dece...  \n",
              "57402  Virender Sehwag was captaining India when he h...  \n",
              "58715  The first-ever official international football...  \n",
              "58769  Former Services' medium-pacer Joginder Rao pic...  \n",
              "58934  Windies' Gus Logie was adjudged Man of the Mat...  \n",
              "59705  England was beaten at home for the first time ...  \n",
              "60724  The Test in which Sachin Tendulkar made his in...  \n",
              "60885  Fijian cricketer Ilikena Lasarusa Talebulamain...  \n",
              "61055  The first wicket and first catch in Test crick...  \n",
              "61445  Former Australian fast bowler Glenn McGrath, w...  \n",
              "62063  Zimbabwe played an ODI against New Zealand in ...  \n",
              "62575  Virat Kohli dismissed England's Kevin Pieterse...  \n",
              "62639  Former batsman Sachin Tendulkar became the fir...  \n",
              "62785  India conceded an ODI against Pakistan on Nove...  \n",
              "63533  Born on October 30, 1909, Padma Bhushan-awarde...  \n",
              "64468  WeWork is a platform for creators, which provi...  \n",
              "69673  The New Zealand-Zimbabwe Test, which started o...  \n",
              "70249  Former Pakistan captain Inzamam-ul-Haq attacke...  \n",
              "70392  Before India-England 2011 World Cup match, for...  \n",
              "71887  Former England players David Gower and John Mo...  \n",
              "74095  English astronomer Arthur Eddington used 1919'...  \n",
              "75349  Legendary Australian batsman Donald Bradman ha...  \n",
              "78244  Former Windies' cricketer Garry Sobers, the fi...  \n",
              "78519  A TechCrunch report has claimed that IndiaÃ¢Â...  \n",
              "78521  CARS24 has enabled car owners to sell their ca...  \n",
              "78522  Reebok has launched FlexweaveÃ¢ÂÂan innovati...  \n",
              "80355  As many as 54,250 fluorescent-yellow tennis ba...  \n",
              "81352  Born on July 10, 1856, Serbian inventor Nikola...  \n",
              "84195  June 21 marks the beginning of summer in Earth...  \n",
              "84724  Australia won the 1999 Cricket World Cup after...  \n",
              "86430  Legendary Australian spinner Shane Warne bowle...  "
            ]
          },
          "execution_count": 6,
          "metadata": {},
          "output_type": "execute_result"
        }
      ],
      "source": [
        "data[data.duplicated(subset=['text'])]"
      ]
    },
    {
      "cell_type": "code",
      "execution_count": 7,
      "metadata": {
        "colab": {
          "base_uri": "https://localhost:8080/",
          "height": 214
        },
        "id": "rMWyHA-DCCQk",
        "outputId": "738c3a60-a79a-4da2-beb1-0ce04a0e8bfa"
      },
      "outputs": [
        {
          "data": {
            "text/html": [
              "<div>\n",
              "<style scoped>\n",
              "    .dataframe tbody tr th:only-of-type {\n",
              "        vertical-align: middle;\n",
              "    }\n",
              "\n",
              "    .dataframe tbody tr th {\n",
              "        vertical-align: top;\n",
              "    }\n",
              "\n",
              "    .dataframe thead th {\n",
              "        text-align: right;\n",
              "    }\n",
              "</style>\n",
              "<table border=\"1\" class=\"dataframe\">\n",
              "  <thead>\n",
              "    <tr style=\"text-align: right;\">\n",
              "      <th></th>\n",
              "      <th>headlines</th>\n",
              "      <th>text</th>\n",
              "    </tr>\n",
              "  </thead>\n",
              "  <tbody>\n",
              "    <tr>\n",
              "      <th>44594</th>\n",
              "      <td>Berger introduces T20 of painting with Express...</td>\n",
              "      <td>Berger Paints has launched Berger Express Pain...</td>\n",
              "    </tr>\n",
              "    <tr>\n",
              "      <th>44595</th>\n",
              "      <td>India win their sixth consecutive T20I against...</td>\n",
              "      <td>India defeated Bangladesh by six wickets in th...</td>\n",
              "    </tr>\n",
              "  </tbody>\n",
              "</table>\n",
              "</div>"
            ],
            "text/plain": [
              "                                               headlines  \\\n",
              "44594  Berger introduces T20 of painting with Express...   \n",
              "44595  India win their sixth consecutive T20I against...   \n",
              "\n",
              "                                                    text  \n",
              "44594  Berger Paints has launched Berger Express Pain...  \n",
              "44595  India defeated Bangladesh by six wickets in th...  "
            ]
          },
          "execution_count": 7,
          "metadata": {},
          "output_type": "execute_result"
        }
      ],
      "source": [
        "data[44594:44596]"
      ]
    },
    {
      "cell_type": "code",
      "execution_count": 8,
      "metadata": {
        "colab": {
          "base_uri": "https://localhost:8080/",
          "height": 112
        },
        "id": "NBppLwMhD3xW",
        "outputId": "6a7e3df3-e624-4a61-8df3-781781259b41"
      },
      "outputs": [
        {
          "data": {
            "text/html": [
              "<div>\n",
              "<style scoped>\n",
              "    .dataframe tbody tr th:only-of-type {\n",
              "        vertical-align: middle;\n",
              "    }\n",
              "\n",
              "    .dataframe tbody tr th {\n",
              "        vertical-align: top;\n",
              "    }\n",
              "\n",
              "    .dataframe thead th {\n",
              "        text-align: right;\n",
              "    }\n",
              "</style>\n",
              "<table border=\"1\" class=\"dataframe\">\n",
              "  <thead>\n",
              "    <tr style=\"text-align: right;\">\n",
              "      <th></th>\n",
              "      <th>headlines</th>\n",
              "      <th>text</th>\n",
              "    </tr>\n",
              "  </thead>\n",
              "  <tbody>\n",
              "    <tr>\n",
              "      <th>44243</th>\n",
              "      <td>Berger Express Painting introduces fast and du...</td>\n",
              "      <td>Berger Paints has launched Berger Express Pain...</td>\n",
              "    </tr>\n",
              "    <tr>\n",
              "      <th>44594</th>\n",
              "      <td>Berger introduces T20 of painting with Express...</td>\n",
              "      <td>Berger Paints has launched Berger Express Pain...</td>\n",
              "    </tr>\n",
              "  </tbody>\n",
              "</table>\n",
              "</div>"
            ],
            "text/plain": [
              "                                               headlines  \\\n",
              "44243  Berger Express Painting introduces fast and du...   \n",
              "44594  Berger introduces T20 of painting with Express...   \n",
              "\n",
              "                                                    text  \n",
              "44243  Berger Paints has launched Berger Express Pain...  \n",
              "44594  Berger Paints has launched Berger Express Pain...  "
            ]
          },
          "execution_count": 8,
          "metadata": {},
          "output_type": "execute_result"
        }
      ],
      "source": [
        "data[data['text'] == 'Berger Paints has launched Berger Express Painting, a fast, dust-free & hassle-free way to paint your home by trained painters using automatic tools. The service offers on-site technical support, trained applicators, mechanized tools and advanced products for faster, cleaner and better results. Berger also offers a trained customer executive to handhold you through the entire experience.']"
      ]
    },
    {
      "cell_type": "code",
      "execution_count": 9,
      "metadata": {
        "id": "iAWOC5vnDgz0"
      },
      "outputs": [],
      "source": [
        "data.drop_duplicates(subset=['text'], inplace=True)"
      ]
    },
    {
      "cell_type": "code",
      "execution_count": 10,
      "metadata": {
        "colab": {
          "base_uri": "https://localhost:8080/"
        },
        "id": "edTFmMmlEV4J",
        "outputId": "411c1d12-bad3-43ec-c3e5-e7653ff38a2a"
      },
      "outputs": [
        {
          "name": "stdout",
          "output_type": "stream",
          "text": [
            "<class 'pandas.core.frame.DataFrame'>\n",
            "Int64Index: 98360 entries, 0 to 98400\n",
            "Data columns (total 2 columns):\n",
            " #   Column     Non-Null Count  Dtype \n",
            "---  ------     --------------  ----- \n",
            " 0   headlines  98360 non-null  object\n",
            " 1   text       98360 non-null  object\n",
            "dtypes: object(2)\n",
            "memory usage: 2.3+ MB\n"
          ]
        }
      ],
      "source": [
        "data.info()"
      ]
    },
    {
      "cell_type": "markdown",
      "metadata": {
        "id": "NCgu1-loFeWS"
      },
      "source": [
        "---"
      ]
    },
    {
      "cell_type": "markdown",
      "metadata": {
        "id": "LYUGkMgbFfLg"
      },
      "source": [
        "## 텍스트 정규화와 불용어 제거"
      ]
    },
    {
      "cell_type": "code",
      "execution_count": 11,
      "metadata": {
        "colab": {
          "base_uri": "https://localhost:8080/"
        },
        "id": "-c-QYMeYFftm",
        "outputId": "af894497-79c0-4f46-f9a7-583c8d4286e6"
      },
      "outputs": [
        {
          "name": "stdout",
          "output_type": "stream",
          "text": [
            "정규화 사전의 수:  120\n"
          ]
        }
      ],
      "source": [
        "contractions = {\"ain't\": \"is not\", \"aren't\": \"are not\",\"can't\": \"cannot\", \"'cause\": \"because\", \"could've\": \"could have\", \"couldn't\": \"could not\",\n",
        "                           \"didn't\": \"did not\",  \"doesn't\": \"does not\", \"don't\": \"do not\", \"hadn't\": \"had not\", \"hasn't\": \"has not\", \"haven't\": \"have not\",\n",
        "                           \"he'd\": \"he would\",\"he'll\": \"he will\", \"he's\": \"he is\", \"how'd\": \"how did\", \"how'd'y\": \"how do you\", \"how'll\": \"how will\", \"how's\": \"how is\",\n",
        "                           \"I'd\": \"I would\", \"I'd've\": \"I would have\", \"I'll\": \"I will\", \"I'll've\": \"I will have\",\"I'm\": \"I am\", \"I've\": \"I have\", \"i'd\": \"i would\",\n",
        "                           \"i'd've\": \"i would have\", \"i'll\": \"i will\",  \"i'll've\": \"i will have\",\"i'm\": \"i am\", \"i've\": \"i have\", \"isn't\": \"is not\", \"it'd\": \"it would\",\n",
        "                           \"it'd've\": \"it would have\", \"it'll\": \"it will\", \"it'll've\": \"it will have\",\"it's\": \"it is\", \"let's\": \"let us\", \"ma'am\": \"madam\",\n",
        "                           \"mayn't\": \"may not\", \"might've\": \"might have\",\"mightn't\": \"might not\",\"mightn't've\": \"might not have\", \"must've\": \"must have\",\n",
        "                           \"mustn't\": \"must not\", \"mustn't've\": \"must not have\", \"needn't\": \"need not\", \"needn't've\": \"need not have\",\"o'clock\": \"of the clock\",\n",
        "                           \"oughtn't\": \"ought not\", \"oughtn't've\": \"ought not have\", \"shan't\": \"shall not\", \"sha'n't\": \"shall not\", \"shan't've\": \"shall not have\",\n",
        "                           \"she'd\": \"she would\", \"she'd've\": \"she would have\", \"she'll\": \"she will\", \"she'll've\": \"she will have\", \"she's\": \"she is\",\n",
        "                           \"should've\": \"should have\", \"shouldn't\": \"should not\", \"shouldn't've\": \"should not have\", \"so've\": \"so have\",\"so's\": \"so as\",\n",
        "                           \"this's\": \"this is\",\"that'd\": \"that would\", \"that'd've\": \"that would have\", \"that's\": \"that is\", \"there'd\": \"there would\",\n",
        "                           \"there'd've\": \"there would have\", \"there's\": \"there is\", \"here's\": \"here is\",\"they'd\": \"they would\", \"they'd've\": \"they would have\",\n",
        "                           \"they'll\": \"they will\", \"they'll've\": \"they will have\", \"they're\": \"they are\", \"they've\": \"they have\", \"to've\": \"to have\",\n",
        "                           \"wasn't\": \"was not\", \"we'd\": \"we would\", \"we'd've\": \"we would have\", \"we'll\": \"we will\", \"we'll've\": \"we will have\", \"we're\": \"we are\",\n",
        "                           \"we've\": \"we have\", \"weren't\": \"were not\", \"what'll\": \"what will\", \"what'll've\": \"what will have\", \"what're\": \"what are\",\n",
        "                           \"what's\": \"what is\", \"what've\": \"what have\", \"when's\": \"when is\", \"when've\": \"when have\", \"where'd\": \"where did\", \"where's\": \"where is\",\n",
        "                           \"where've\": \"where have\", \"who'll\": \"who will\", \"who'll've\": \"who will have\", \"who's\": \"who is\", \"who've\": \"who have\",\n",
        "                           \"why's\": \"why is\", \"why've\": \"why have\", \"will've\": \"will have\", \"won't\": \"will not\", \"won't've\": \"will not have\",\n",
        "                           \"would've\": \"would have\", \"wouldn't\": \"would not\", \"wouldn't've\": \"would not have\", \"y'all\": \"you all\",\n",
        "                           \"y'all'd\": \"you all would\",\"y'all'd've\": \"you all would have\",\"y'all're\": \"you all are\",\"y'all've\": \"you all have\",\n",
        "                           \"you'd\": \"you would\", \"you'd've\": \"you would have\", \"you'll\": \"you will\", \"you'll've\": \"you will have\",\n",
        "                           \"you're\": \"you are\", \"you've\": \"you have\"}\n",
        "\n",
        "print(\"정규화 사전의 수: \", len(contractions))"
      ]
    },
    {
      "cell_type": "code",
      "execution_count": 12,
      "metadata": {
        "id": "dhKKUKRsFixV"
      },
      "outputs": [],
      "source": [
        "# 데이터 전처리 함수\n",
        "def preprocess_sentence(sentence, remove_stopwords=True):\n",
        "    sentence = sentence.lower() # 텍스트 소문자화\n",
        "    sentence = BeautifulSoup(sentence, \"lxml\").text # <br />, <a href = ...> 등의 html 태그 제거\n",
        "    sentence = re.sub(r'\\([^)]*\\)', '', sentence) # 괄호로 닫힌 문자열 (...) 제거 Ex) my husband (and myself!) for => my husband for\n",
        "    sentence = re.sub('\"','', sentence) # 쌍따옴표 \" 제거\n",
        "    sentence = ' '.join([contractions[t] if t in contractions else t for t in sentence.split(\" \")]) # 약어 정규화\n",
        "    sentence = re.sub(r\"'s\\b\",\"\", sentence) # 소유격 제거. Ex) roland's -> roland\n",
        "    sentence = re.sub(\"[^a-zA-Z]\", \" \", sentence) # 영어 외 문자(숫자, 특수문자 등) 공백으로 변환\n",
        "    sentence = re.sub('[m]{2,}', 'mm', sentence) # m이 3개 이상이면 2개로 변경. Ex) ummmmmmm yeah -> umm yeah\n",
        "\n",
        "    # 불용어 제거 (Text)\n",
        "    if remove_stopwords:\n",
        "        tokens = ' '.join(word for word in sentence.split() if not word in stopwords.words('english') if len(word) > 1)\n",
        "    # 불용어 미제거 (Summary)\n",
        "    else:\n",
        "        tokens = ' '.join(word for word in sentence.split() if len(word) > 1)\n",
        "    return tokens"
      ]
    },
    {
      "cell_type": "code",
      "execution_count": 13,
      "metadata": {
        "id": "-PPPa-I7F6yy"
      },
      "outputs": [],
      "source": [
        "clean_text = data['text'].apply(preprocess_sentence)\n",
        "#data['Text'].str.split().apply(lambda x: x[-1])"
      ]
    },
    {
      "cell_type": "code",
      "execution_count": 15,
      "metadata": {
        "colab": {
          "base_uri": "https://localhost:8080/",
          "height": 398
        },
        "id": "MyflSRNfF8Y9",
        "outputId": "78d373ba-aee6-414e-e61f-3dbf274c9116"
      },
      "outputs": [
        {
          "data": {
            "text/plain": [
              "0    saurav kant alumnus upgrad iiit pg program mac...\n",
              "1    kunal shah credit card bill payment platform c...\n",
              "2    new zealand defeated india wickets fourth odi ...\n",
              "3    aegon life iterm insurance plan customers enjo...\n",
              "4    speaking sexual harassment allegations rajkuma...\n",
              "5    pakistani singer rahat fateh ali khan denied r...\n",
              "6    india recorded lowest odi total new zealand ge...\n",
              "7    weeks ex cbi director alok verma told departme...\n",
              "8    andhra pradesh cm chandrababu naidu said met u...\n",
              "9    congress candidate shafia zubair ramgarh assem...\n",
              "Name: text, dtype: object"
            ]
          },
          "execution_count": 15,
          "metadata": {},
          "output_type": "execute_result"
        }
      ],
      "source": [
        "# 전처리 후 출력\n",
        "clean_text.head(10)"
      ]
    },
    {
      "cell_type": "code",
      "execution_count": 16,
      "metadata": {
        "colab": {
          "base_uri": "https://localhost:8080/",
          "height": 84
        },
        "id": "mVN9xm7xHCfW",
        "outputId": "5d958a65-d309-48cd-c082-dbe466932cfe"
      },
      "outputs": [
        {
          "data": {
            "text/plain": [
              "Series([], Name: text, dtype: object)"
            ]
          },
          "execution_count": 16,
          "metadata": {},
          "output_type": "execute_result"
        }
      ],
      "source": [
        "clean_text[clean_text.isnull()]"
      ]
    },
    {
      "cell_type": "code",
      "execution_count": 17,
      "metadata": {
        "id": "OQUTARWRGmdL"
      },
      "outputs": [
        {
          "name": "stdout",
          "output_type": "stream",
          "text": [
            "headlines 전처리 후 결과:  0    upgrad learner switches to career in ml al wit...\n",
            "1    delhi techie wins free food from swiggy for on...\n",
            "2    new zealand end rohit sharma led india match w...\n",
            "3    aegon life iterm insurance plan helps customer...\n",
            "4    have known hirani for yrs what if metoo claims...\n",
            "5    rahat fateh ali khan denies getting notice for...\n",
            "6    india get all out for their lowest odi total i...\n",
            "7    govt directs alok verma to join work day befor...\n",
            "8    called pm modi sir times to satisfy his ego an...\n",
            "9    cong wins ramgarh bypoll in rajasthan takes to...\n",
            "Name: headlines, dtype: object\n"
          ]
        }
      ],
      "source": [
        "clean_headlines = data['headlines'].apply(lambda x: preprocess_sentence(x, remove_stopwords=False))\n",
        "\n",
        "# 전처리 후 출력\n",
        "print(\"headlines 전처리 후 결과: \", clean_headlines[:10])"
      ]
    },
    {
      "cell_type": "code",
      "execution_count": 18,
      "metadata": {
        "id": "m7-yjdRWHDbB"
      },
      "outputs": [
        {
          "data": {
            "text/plain": [
              "Series([], Name: headlines, dtype: object)"
            ]
          },
          "execution_count": 18,
          "metadata": {},
          "output_type": "execute_result"
        }
      ],
      "source": [
        "clean_headlines[clean_headlines.isnull()]"
      ]
    },
    {
      "cell_type": "code",
      "execution_count": 19,
      "metadata": {},
      "outputs": [],
      "source": [
        "data['text'] = clean_text\n",
        "data['headlines'] = clean_headlines\n",
        "# 빈 값을 Null 값으로 변환\n",
        "data.replace('', np.nan, inplace=True)"
      ]
    },
    {
      "cell_type": "code",
      "execution_count": 20,
      "metadata": {},
      "outputs": [
        {
          "data": {
            "text/plain": [
              "headlines    0\n",
              "text         0\n",
              "dtype: int64"
            ]
          },
          "execution_count": 20,
          "metadata": {},
          "output_type": "execute_result"
        }
      ],
      "source": [
        "data.isnull().sum()"
      ]
    },
    {
      "cell_type": "code",
      "execution_count": 21,
      "metadata": {},
      "outputs": [
        {
          "name": "stdout",
          "output_type": "stream",
          "text": [
            "전체 샘플수 : 98360\n"
          ]
        }
      ],
      "source": [
        "print('전체 샘플수 :', (len(data)))"
      ]
    },
    {
      "cell_type": "markdown",
      "metadata": {},
      "source": [
        "## 샘플 최대 길이 정하기"
      ]
    },
    {
      "cell_type": "code",
      "execution_count": 22,
      "metadata": {},
      "outputs": [
        {
          "name": "stdout",
          "output_type": "stream",
          "text": [
            "텍스트의 최소 길이 : 1\n",
            "텍스트의 최대 길이 : 60\n",
            "텍스트의 평균 길이 : 35.09968483123221\n",
            "요약의 최소 길이 : 1\n",
            "요약의 최대 길이 : 16\n",
            "요약의 평균 길이 : 9.299532330215534\n"
          ]
        },
        {
          "data": {
            "image/png": "[encoded data removed]",
            "text/plain": [
              "<Figure size 640x480 with 2 Axes>"
            ]
          },
          "metadata": {},
          "output_type": "display_data"
        },
        {
          "data": {
            "image/png": "[encoded data removed]",
            "text/plain": [
              "<Figure size 640x480 with 1 Axes>"
            ]
          },
          "metadata": {},
          "output_type": "display_data"
        },
        {
          "data": {
            "image/png": "[encoded data removed]",
            "text/plain": [
              "<Figure size 640x480 with 1 Axes>"
            ]
          },
          "metadata": {},
          "output_type": "display_data"
        }
      ],
      "source": [
        "# 길이 분포 출력\n",
        "import matplotlib.pyplot as plt\n",
        "\n",
        "text_len = [len(s.split()) for s in data['text']]\n",
        "headlines_len = [len(s.split()) for s in data['headlines']]\n",
        "\n",
        "print('텍스트의 최소 길이 : {}'.format(np.min(text_len)))\n",
        "print('텍스트의 최대 길이 : {}'.format(np.max(text_len)))\n",
        "print('텍스트의 평균 길이 : {}'.format(np.mean(text_len)))\n",
        "print('요약의 최소 길이 : {}'.format(np.min(headlines_len)))\n",
        "print('요약의 최대 길이 : {}'.format(np.max(headlines_len)))\n",
        "print('요약의 평균 길이 : {}'.format(np.mean(headlines_len)))\n",
        "\n",
        "plt.subplot(1,2,1)\n",
        "plt.boxplot(text_len)\n",
        "plt.title('Text')\n",
        "plt.subplot(1,2,2)\n",
        "plt.boxplot(headlines_len)\n",
        "plt.title('Headlines')\n",
        "plt.tight_layout()\n",
        "plt.show()\n",
        "\n",
        "plt.title('Text')\n",
        "plt.hist(text_len, bins = 100)\n",
        "plt.xlabel('length of samples')\n",
        "plt.ylabel('number of samples')\n",
        "plt.show()\n",
        "\n",
        "plt.title('Headlines')\n",
        "plt.hist(headlines_len, bins = 100)\n",
        "plt.xlabel('length of samples')\n",
        "plt.ylabel('number of samples')\n",
        "plt.show()"
      ]
    },
    {
      "cell_type": "code",
      "execution_count": 23,
      "metadata": {},
      "outputs": [],
      "source": [
        "text_max_len = 50\n",
        "headlines_max_len = 13"
      ]
    },
    {
      "cell_type": "code",
      "execution_count": 24,
      "metadata": {},
      "outputs": [],
      "source": [
        "def below_threshold_len(max_len, nested_list):\n",
        "  cnt = 0\n",
        "  for s in nested_list:\n",
        "    if(len(s.split()) <= max_len):\n",
        "        cnt = cnt + 1\n",
        "  print('전체 샘플 중 길이가 %s 이하인 샘플의 비율: %s'%(max_len, (cnt / len(nested_list))))"
      ]
    },
    {
      "cell_type": "code",
      "execution_count": 25,
      "metadata": {},
      "outputs": [
        {
          "name": "stdout",
          "output_type": "stream",
          "text": [
            "전체 샘플 중 길이가 50 이하인 샘플의 비율: 0.9998576657177715\n",
            "전체 샘플 중 길이가 13 이하인 샘플의 비율: 0.9981699877999186\n"
          ]
        }
      ],
      "source": [
        "below_threshold_len(text_max_len, data['text'])\n",
        "below_threshold_len(headlines_max_len,  data['headlines'])"
      ]
    },
    {
      "cell_type": "code",
      "execution_count": 26,
      "metadata": {},
      "outputs": [
        {
          "name": "stdout",
          "output_type": "stream",
          "text": [
            "전체 샘플수 : 98166\n",
            "전체 샘플수 : 98360\n"
          ]
        }
      ],
      "source": [
        "processed_data = data[data['text'].apply(lambda x: len(x.split())) <= text_max_len]\n",
        "processed_data = processed_data[processed_data['headlines'].apply(lambda x: len(x.split())) <= headlines_max_len]\n",
        "\n",
        "print('전체 샘플수 :', (len(processed_data)))\n",
        "print('전체 샘플수 :', (len(data)))\n",
        "\n",
        "temp = data\n",
        "data = processed_data"
      ]
    },
    {
      "cell_type": "code",
      "execution_count": 27,
      "metadata": {},
      "outputs": [
        {
          "data": {
            "text/html": [
              "<div>\n",
              "<style scoped>\n",
              "    .dataframe tbody tr th:only-of-type {\n",
              "        vertical-align: middle;\n",
              "    }\n",
              "\n",
              "    .dataframe tbody tr th {\n",
              "        vertical-align: top;\n",
              "    }\n",
              "\n",
              "    .dataframe thead th {\n",
              "        text-align: right;\n",
              "    }\n",
              "</style>\n",
              "<table border=\"1\" class=\"dataframe\">\n",
              "  <thead>\n",
              "    <tr style=\"text-align: right;\">\n",
              "      <th></th>\n",
              "      <th>headlines</th>\n",
              "      <th>text</th>\n",
              "      <th>decoder_input</th>\n",
              "      <th>decoder_target</th>\n",
              "    </tr>\n",
              "  </thead>\n",
              "  <tbody>\n",
              "    <tr>\n",
              "      <th>0</th>\n",
              "      <td>upgrad learner switches to career in ml al wit...</td>\n",
              "      <td>saurav kant alumnus upgrad iiit pg program mac...</td>\n",
              "      <td>sostoken upgrad learner switches to career in ...</td>\n",
              "      <td>upgrad learner switches to career in ml al wit...</td>\n",
              "    </tr>\n",
              "    <tr>\n",
              "      <th>1</th>\n",
              "      <td>delhi techie wins free food from swiggy for on...</td>\n",
              "      <td>kunal shah credit card bill payment platform c...</td>\n",
              "      <td>sostoken delhi techie wins free food from swig...</td>\n",
              "      <td>delhi techie wins free food from swiggy for on...</td>\n",
              "    </tr>\n",
              "    <tr>\n",
              "      <th>2</th>\n",
              "      <td>new zealand end rohit sharma led india match w...</td>\n",
              "      <td>new zealand defeated india wickets fourth odi ...</td>\n",
              "      <td>sostoken new zealand end rohit sharma led indi...</td>\n",
              "      <td>new zealand end rohit sharma led india match w...</td>\n",
              "    </tr>\n",
              "    <tr>\n",
              "      <th>3</th>\n",
              "      <td>aegon life iterm insurance plan helps customer...</td>\n",
              "      <td>aegon life iterm insurance plan customers enjo...</td>\n",
              "      <td>sostoken aegon life iterm insurance plan helps...</td>\n",
              "      <td>aegon life iterm insurance plan helps customer...</td>\n",
              "    </tr>\n",
              "    <tr>\n",
              "      <th>4</th>\n",
              "      <td>have known hirani for yrs what if metoo claims...</td>\n",
              "      <td>speaking sexual harassment allegations rajkuma...</td>\n",
              "      <td>sostoken have known hirani for yrs what if met...</td>\n",
              "      <td>have known hirani for yrs what if metoo claims...</td>\n",
              "    </tr>\n",
              "  </tbody>\n",
              "</table>\n",
              "</div>"
            ],
            "text/plain": [
              "                                           headlines  \\\n",
              "0  upgrad learner switches to career in ml al wit...   \n",
              "1  delhi techie wins free food from swiggy for on...   \n",
              "2  new zealand end rohit sharma led india match w...   \n",
              "3  aegon life iterm insurance plan helps customer...   \n",
              "4  have known hirani for yrs what if metoo claims...   \n",
              "\n",
              "                                                text  \\\n",
              "0  saurav kant alumnus upgrad iiit pg program mac...   \n",
              "1  kunal shah credit card bill payment platform c...   \n",
              "2  new zealand defeated india wickets fourth odi ...   \n",
              "3  aegon life iterm insurance plan customers enjo...   \n",
              "4  speaking sexual harassment allegations rajkuma...   \n",
              "\n",
              "                                       decoder_input  \\\n",
              "0  sostoken upgrad learner switches to career in ...   \n",
              "1  sostoken delhi techie wins free food from swig...   \n",
              "2  sostoken new zealand end rohit sharma led indi...   \n",
              "3  sostoken aegon life iterm insurance plan helps...   \n",
              "4  sostoken have known hirani for yrs what if met...   \n",
              "\n",
              "                                      decoder_target  \n",
              "0  upgrad learner switches to career in ml al wit...  \n",
              "1  delhi techie wins free food from swiggy for on...  \n",
              "2  new zealand end rohit sharma led india match w...  \n",
              "3  aegon life iterm insurance plan helps customer...  \n",
              "4  have known hirani for yrs what if metoo claims...  "
            ]
          },
          "execution_count": 27,
          "metadata": {},
          "output_type": "execute_result"
        }
      ],
      "source": [
        "# 요약 데이터에는 시작 토큰과 종료 토큰을 추가한다.\n",
        "data['headlines'] = data['headlines'].apply(str)\n",
        "data['decoder_input'] = data['headlines'].apply(lambda x : 'sostoken '+ x)\n",
        "data['decoder_target'] = data['headlines'].apply(lambda x : x + ' eostoken')\n",
        "data.head()"
      ]
    },
    {
      "cell_type": "code",
      "execution_count": 60,
      "metadata": {},
      "outputs": [],
      "source": [
        "encoder_input = np.array(data['text']) # 인코더의 입력\n",
        "decoder_input = np.array(data['decoder_input']) # 디코더의 입력\n",
        "decoder_target = np.array(data['decoder_target']) # 디코더의 레이블"
      ]
    },
    {
      "cell_type": "code",
      "execution_count": 31,
      "metadata": {},
      "outputs": [
        {
          "data": {
            "text/plain": [
              "array(['saurav kant alumnus upgrad iiit pg program machine learning artificial intelligence sr systems engineer infosys almost years work experience program upgrad degree career support helped transition data scientist tech mahindra salary hike upgrad online power learning powered lakh careers',\n",
              "       'kunal shah credit card bill payment platform cred gave users chance win free food swiggy one year pranav kaushik delhi techie bagged reward spending cred coins users get one cred coin per rupee bill paid used avail rewards brands like ixigo bookmyshow ubereats cult fit',\n",
              "       'new zealand defeated india wickets fourth odi hamilton thursday win first match five match odi series india lost international match rohit sharma captaincy consecutive victories dating back march match witnessed india getting seventh lowest total odi cricket history',\n",
              "       ...,\n",
              "       'according reports new version science fiction film matrix development michael jordan reportedly play lead role film screenwriter zak penn talks write script film reports added actor keanu reeves starred original film followed two sequels',\n",
              "       'new music video shows rapper snoop dogg aiming toy gun clown character parodying us president donald trump video also shows tv airing news conference headline ronald klump wants deport doggs airing live clown house video remixed version song lavender',\n",
              "       'madhesi morcha alliance seven political parties withdrawn support pm pushpa kamal dahal led nepal government failed meet seven day ultimatum fulfil demands including endorsement revised constitution amendment bill morcha seats parliament despite withdrawal support immediate threat government'],\n",
              "      dtype=object)"
            ]
          },
          "execution_count": 31,
          "metadata": {},
          "output_type": "execute_result"
        }
      ],
      "source": [
        "encoder_input"
      ]
    },
    {
      "cell_type": "code",
      "execution_count": 32,
      "metadata": {},
      "outputs": [
        {
          "data": {
            "text/plain": [
              "array(['sostoken upgrad learner switches to career in ml al with salary hike',\n",
              "       'sostoken delhi techie wins free food from swiggy for one year on cred',\n",
              "       'sostoken new zealand end rohit sharma led india match winning streak',\n",
              "       ..., 'sostoken the matrix film to get reboot reports',\n",
              "       'sostoken snoop dogg aims gun at clown dressed as trump in new video',\n",
              "       'sostoken madhesi morcha withdraws support to nepalese government'],\n",
              "      dtype=object)"
            ]
          },
          "execution_count": 32,
          "metadata": {},
          "output_type": "execute_result"
        }
      ],
      "source": [
        "decoder_input"
      ]
    },
    {
      "cell_type": "code",
      "execution_count": 33,
      "metadata": {},
      "outputs": [
        {
          "data": {
            "text/plain": [
              "array(['upgrad learner switches to career in ml al with salary hike eostoken',\n",
              "       'delhi techie wins free food from swiggy for one year on cred eostoken',\n",
              "       'new zealand end rohit sharma led india match winning streak eostoken',\n",
              "       ..., 'the matrix film to get reboot reports eostoken',\n",
              "       'snoop dogg aims gun at clown dressed as trump in new video eostoken',\n",
              "       'madhesi morcha withdraws support to nepalese government eostoken'],\n",
              "      dtype=object)"
            ]
          },
          "execution_count": 33,
          "metadata": {},
          "output_type": "execute_result"
        }
      ],
      "source": [
        "decoder_target"
      ]
    },
    {
      "cell_type": "markdown",
      "metadata": {},
      "source": [
        "---"
      ]
    },
    {
      "cell_type": "markdown",
      "metadata": {},
      "source": [
        "## 데이터셋 나누기"
      ]
    },
    {
      "cell_type": "code",
      "execution_count": 61,
      "metadata": {},
      "outputs": [
        {
          "name": "stdout",
          "output_type": "stream",
          "text": [
            "[11864 10272 55256 ... 42613 43567 68268]\n"
          ]
        }
      ],
      "source": [
        "np.random.seed(seed=0)\n",
        "\n",
        "indices = np.arange(encoder_input.shape[0])\n",
        "np.random.shuffle(indices)\n",
        "print(indices)"
      ]
    },
    {
      "cell_type": "code",
      "execution_count": 62,
      "metadata": {},
      "outputs": [],
      "source": [
        "encoder_input = encoder_input[indices]\n",
        "decoder_input = decoder_input[indices]\n",
        "decoder_target = decoder_target[indices]"
      ]
    },
    {
      "cell_type": "code",
      "execution_count": 63,
      "metadata": {},
      "outputs": [
        {
          "name": "stdout",
          "output_type": "stream",
          "text": [
            "테스트 데이터의 수 : 9816\n"
          ]
        }
      ],
      "source": [
        "n_of_val = int(len(encoder_input)*0.1)\n",
        "print('테스트 데이터의 수 :', n_of_val)"
      ]
    },
    {
      "cell_type": "code",
      "execution_count": 64,
      "metadata": {},
      "outputs": [
        {
          "name": "stdout",
          "output_type": "stream",
          "text": [
            "훈련 데이터의 개수 : 88350\n",
            "훈련 레이블의 개수 : 88350\n",
            "테스트 데이터의 개수 : 9816\n",
            "테스트 레이블의 개수 : 9816\n"
          ]
        }
      ],
      "source": [
        "encoder_input_train = encoder_input[:-n_of_val]\n",
        "decoder_input_train = decoder_input[:-n_of_val]\n",
        "decoder_target_train = decoder_target[:-n_of_val]\n",
        "\n",
        "encoder_input_test = encoder_input[-n_of_val:]\n",
        "decoder_input_test = decoder_input[-n_of_val:]\n",
        "decoder_target_test = decoder_target[-n_of_val:]\n",
        "\n",
        "print('훈련 데이터의 개수 :', len(encoder_input_train))\n",
        "print('훈련 레이블의 개수 :', len(decoder_input_train))\n",
        "print('테스트 데이터의 개수 :', len(encoder_input_test))\n",
        "print('테스트 레이블의 개수 :', len(decoder_input_test))"
      ]
    },
    {
      "cell_type": "markdown",
      "metadata": {},
      "source": [
        "---"
      ]
    },
    {
      "cell_type": "markdown",
      "metadata": {},
      "source": [
        "## 단어 집합(vocabulary) 만들기 및 정수 인코딩"
      ]
    },
    {
      "cell_type": "code",
      "execution_count": 65,
      "metadata": {},
      "outputs": [],
      "source": [
        "src_tokenizer = Tokenizer()\n",
        "src_tokenizer.fit_on_texts(encoder_input_train)"
      ]
    },
    {
      "cell_type": "code",
      "execution_count": 66,
      "metadata": {},
      "outputs": [
        {
          "name": "stdout",
          "output_type": "stream",
          "text": [
            "단어 집합(vocabulary)의 크기 : 73053\n",
            "등장 빈도가 13번 이하인 희귀 단어의 수: 56764\n",
            "단어 집합에서 희귀 단어를 제외시킬 경우의 단어 집합의 크기 16289\n",
            "단어 집합에서 희귀 단어의 비율: 77.70248997303327\n",
            "전체 등장 빈도에서 희귀 단어 등장 빈도 비율: 5.39781567117761\n"
          ]
        }
      ],
      "source": [
        "threshold = 14\n",
        "total_cnt = len(src_tokenizer.word_index) # 단어의 수\n",
        "rare_cnt = 0 # 등장 빈도수가 threshold보다 작은 단어의 개수를 카운트\n",
        "total_freq = 0 # 훈련 데이터의 전체 단어 빈도수 총 합\n",
        "rare_freq = 0 # 등장 빈도수가 threshold보다 작은 단어의 등장 빈도수의 총 합\n",
        "\n",
        "# 단어와 빈도수의 쌍(pair)을 key와 value로 받는다.\n",
        "for key, value in src_tokenizer.word_counts.items():\n",
        "    total_freq = total_freq + value\n",
        "\n",
        "    # 단어의 등장 빈도수가 threshold보다 작으면\n",
        "    if(value < threshold):\n",
        "        rare_cnt = rare_cnt + 1\n",
        "        rare_freq = rare_freq + value\n",
        "\n",
        "print('단어 집합(vocabulary)의 크기 :', total_cnt)\n",
        "print('등장 빈도가 %s번 이하인 희귀 단어의 수: %s'%(threshold - 1, rare_cnt))\n",
        "print('단어 집합에서 희귀 단어를 제외시킬 경우의 단어 집합의 크기 %s'%(total_cnt - rare_cnt))\n",
        "print(\"단어 집합에서 희귀 단어의 비율:\", (rare_cnt / total_cnt)*100)\n",
        "print(\"전체 등장 빈도에서 희귀 단어 등장 빈도 비율:\", (rare_freq / total_freq)*100)"
      ]
    },
    {
      "cell_type": "code",
      "execution_count": 67,
      "metadata": {},
      "outputs": [],
      "source": [
        "src_vocab = 16000\n",
        "src_tokenizer = Tokenizer(num_words=src_vocab) # 단어 집합의 크기를 8,000으로 제한\n",
        "src_tokenizer.fit_on_texts(encoder_input_train) # 단어 집합 재생성"
      ]
    },
    {
      "cell_type": "code",
      "execution_count": 68,
      "metadata": {},
      "outputs": [
        {
          "name": "stdout",
          "output_type": "stream",
          "text": [
            "[[1359, 738, 2, 282, 189, 311, 1119, 86, 305, 2, 91, 2615, 5327, 241, 5272, 677, 88, 91, 146, 311, 1792, 2, 100, 374, 199, 186, 7, 218, 11, 7423, 30, 1353, 311, 3480, 606, 311, 101, 230, 76, 60], [5541, 89, 14696, 4148, 41, 139, 1244, 107, 6216, 10, 490, 1250, 39, 1976, 674, 1524, 1247, 3040, 1247, 101, 2506, 3278, 157, 4, 14696, 4021, 1082, 284, 2279], [161, 62, 44, 14, 808, 773, 1, 8, 574, 130, 1335, 2393, 21, 145, 2814, 619, 1731, 1671, 7332, 808, 4, 8, 589, 1836, 22, 3279, 3535, 224, 677, 549, 3459]]\n"
          ]
        }
      ],
      "source": [
        "# 텍스트 시퀀스를 정수 시퀀스로 변환\n",
        "encoder_input_train = src_tokenizer.texts_to_sequences(encoder_input_train)\n",
        "encoder_input_test = src_tokenizer.texts_to_sequences(encoder_input_test)\n",
        "\n",
        "# 잘 진행되었는지 샘플 출력\n",
        "print(encoder_input_train[:3])"
      ]
    },
    {
      "cell_type": "code",
      "execution_count": 69,
      "metadata": {},
      "outputs": [],
      "source": [
        "tar_tokenizer = Tokenizer()\n",
        "tar_tokenizer.fit_on_texts(decoder_input_train)"
      ]
    },
    {
      "cell_type": "code",
      "execution_count": 70,
      "metadata": {},
      "outputs": [
        {
          "name": "stdout",
          "output_type": "stream",
          "text": [
            "단어 집합(vocabulary)의 크기 : 31355\n",
            "등장 빈도가 9번 이하인 희귀 단어의 수: 23150\n",
            "단어 집합에서 희귀 단어를 제외시킬 경우의 단어 집합의 크기 8205\n",
            "단어 집합에서 희귀 단어의 비율: 73.83192473289746\n",
            "전체 등장 빈도에서 희귀 단어 등장 빈도 비율: 6.561516625222806\n"
          ]
        }
      ],
      "source": [
        "threshold = 10\n",
        "total_cnt = len(tar_tokenizer.word_index) # 단어의 수\n",
        "rare_cnt = 0 # 등장 빈도수가 threshold보다 작은 단어의 개수를 카운트\n",
        "total_freq = 0 # 훈련 데이터의 전체 단어 빈도수 총 합\n",
        "rare_freq = 0 # 등장 빈도수가 threshold보다 작은 단어의 등장 빈도수의 총 합\n",
        "\n",
        "# 단어와 빈도수의 쌍(pair)을 key와 value로 받는다.\n",
        "for key, value in tar_tokenizer.word_counts.items():\n",
        "    total_freq = total_freq + value\n",
        "\n",
        "    # 단어의 등장 빈도수가 threshold보다 작으면\n",
        "    if(value < threshold):\n",
        "        rare_cnt = rare_cnt + 1\n",
        "        rare_freq = rare_freq + value\n",
        "\n",
        "print('단어 집합(vocabulary)의 크기 :', total_cnt)\n",
        "print('등장 빈도가 %s번 이하인 희귀 단어의 수: %s'%(threshold - 1, rare_cnt))\n",
        "print('단어 집합에서 희귀 단어를 제외시킬 경우의 단어 집합의 크기 %s'%(total_cnt - rare_cnt))\n",
        "print(\"단어 집합에서 희귀 단어의 비율:\", (rare_cnt / total_cnt)*100)\n",
        "print(\"전체 등장 빈도에서 희귀 단어 등장 빈도 비율:\", (rare_freq / total_freq)*100)"
      ]
    },
    {
      "cell_type": "code",
      "execution_count": 71,
      "metadata": {},
      "outputs": [
        {
          "name": "stdout",
          "output_type": "stream",
          "text": [
            "input\n",
            "input  [[1, 2155, 362, 8, 164, 3837, 3384, 597, 100, 909], [1, 682, 3, 49, 191, 171, 116, 1877], [1, 25, 271, 3, 269, 25, 766, 4, 4152], [1, 7318, 248, 220, 6327, 1180, 9, 437, 4, 1181], [1, 1255, 1264, 80, 44, 214, 2479, 2846, 76]]\n",
            "target\n",
            "decoder  [[2155, 362, 8, 164, 3837, 3384, 597, 100, 909, 2], [682, 3, 49, 191, 171, 116, 1877, 2], [25, 271, 3, 269, 25, 766, 4, 4152, 2], [7318, 248, 220, 6327, 1180, 9, 437, 4, 1181, 2], [1255, 1264, 80, 44, 214, 2479, 2846, 76, 2]]\n"
          ]
        }
      ],
      "source": [
        "tar_vocab = 8000\n",
        "tar_tokenizer = Tokenizer(num_words=tar_vocab)\n",
        "tar_tokenizer.fit_on_texts(decoder_input_train)\n",
        "tar_tokenizer.fit_on_texts(decoder_target_train)\n",
        "\n",
        "# 텍스트 시퀀스를 정수 시퀀스로 변환\n",
        "decoder_input_train = tar_tokenizer.texts_to_sequences(decoder_input_train)\n",
        "decoder_target_train = tar_tokenizer.texts_to_sequences(decoder_target_train)\n",
        "decoder_input_test = tar_tokenizer.texts_to_sequences(decoder_input_test)\n",
        "decoder_target_test = tar_tokenizer.texts_to_sequences(decoder_target_test)\n",
        "\n",
        "# 잘 변환되었는지 확인\n",
        "print('input')\n",
        "print('input ',decoder_input_train[:5])\n",
        "print('target')\n",
        "print('decoder ',decoder_target_train[:5])"
      ]
    },
    {
      "cell_type": "code",
      "execution_count": 72,
      "metadata": {},
      "outputs": [
        {
          "name": "stdout",
          "output_type": "stream",
          "text": [
            "삭제할 훈련 데이터의 개수 : 1\n",
            "삭제할 테스트 데이터의 개수 : 0\n",
            "훈련 데이터의 개수 : 88349\n",
            "훈련 레이블의 개수 : 88349\n",
            "테스트 데이터의 개수 : 9816\n",
            "테스트 레이블의 개수 : 9816\n"
          ]
        }
      ],
      "source": [
        "drop_train = [index for index, sentence in enumerate(decoder_input_train) if len(sentence) == 1]\n",
        "drop_test = [index for index, sentence in enumerate(decoder_input_test) if len(sentence) == 1]\n",
        "\n",
        "print('삭제할 훈련 데이터의 개수 :', len(drop_train))\n",
        "print('삭제할 테스트 데이터의 개수 :', len(drop_test))\n",
        "\n",
        "encoder_input_train = [sentence for index, sentence in enumerate(encoder_input_train) if index not in drop_train]\n",
        "decoder_input_train = [sentence for index, sentence in enumerate(decoder_input_train) if index not in drop_train]\n",
        "decoder_target_train = [sentence for index, sentence in enumerate(decoder_target_train) if index not in drop_train]\n",
        "\n",
        "encoder_input_test = [sentence for index, sentence in enumerate(encoder_input_test) if index not in drop_test]\n",
        "decoder_input_test = [sentence for index, sentence in enumerate(decoder_input_test) if index not in drop_test]\n",
        "decoder_target_test = [sentence for index, sentence in enumerate(decoder_target_test) if index not in drop_test]\n",
        "\n",
        "print('훈련 데이터의 개수 :', len(encoder_input_train))\n",
        "print('훈련 레이블의 개수 :', len(decoder_input_train))\n",
        "print('테스트 데이터의 개수 :', len(encoder_input_test))\n",
        "print('테스트 레이블의 개수 :', len(decoder_input_test))"
      ]
    },
    {
      "cell_type": "markdown",
      "metadata": {},
      "source": [
        "---"
      ]
    },
    {
      "cell_type": "markdown",
      "metadata": {},
      "source": [
        "## 패딩하기"
      ]
    },
    {
      "cell_type": "code",
      "execution_count": 73,
      "metadata": {},
      "outputs": [],
      "source": [
        "encoder_input_train = pad_sequences(encoder_input_train, maxlen=text_max_len, padding='post')\n",
        "encoder_input_test = pad_sequences(encoder_input_test, maxlen=text_max_len, padding='post')\n",
        "decoder_input_train = pad_sequences(decoder_input_train, maxlen=headlines_max_len, padding='post')\n",
        "decoder_target_train = pad_sequences(decoder_target_train, maxlen=headlines_max_len, padding='post')\n",
        "decoder_input_test = pad_sequences(decoder_input_test, maxlen=headlines_max_len, padding='post')\n",
        "decoder_target_test = pad_sequences(decoder_target_test, maxlen=headlines_max_len, padding='post')"
      ]
    },
    {
      "cell_type": "markdown",
      "metadata": {},
      "source": [
        "---"
      ]
    },
    {
      "cell_type": "markdown",
      "metadata": {},
      "source": [
        "# 모델 설계하기\n",
        "---"
      ]
    },
    {
      "cell_type": "markdown",
      "metadata": {},
      "source": [
        "## 인코더, 디코더"
      ]
    },
    {
      "cell_type": "code",
      "execution_count": 75,
      "metadata": {},
      "outputs": [],
      "source": [
        "from tensorflow.keras.layers import Input, LSTM, Embedding, Dense, Concatenate, TimeDistributed\n",
        "from tensorflow.keras.models import Model\n",
        "from tensorflow.keras.callbacks import EarlyStopping, ModelCheckpoint\n",
        "\n",
        "\n",
        "# 인코더 설계 시작\n",
        "embedding_dim = 128\n",
        "hidden_size = 256\n",
        "\n",
        "# 인코더\n",
        "encoder_inputs = Input(shape=(text_max_len,))\n",
        "\n",
        "# 인코더의 임베딩 층\n",
        "enc_emb = Embedding(src_vocab, embedding_dim)(encoder_inputs)\n",
        "\n",
        "# 인코더의 LSTM 1\n",
        "# encoder_lstm1 = LSTM(hidden_size, return_sequences=True, return_state=True ,dropout = 0.4, recurrent_dropout = 0.4)\n",
        "encoder_lstm1 = LSTM(hidden_size, return_sequences=True, return_state=True ,dropout = 0.4)\n",
        "encoder_output1, state_h1, state_c1 = encoder_lstm1(enc_emb)\n",
        "\n",
        "# 인코더의 LSTM 2\n",
        "encoder_lstm2 = LSTM(hidden_size, return_sequences=True, return_state=True, dropout=0.4)\n",
        "encoder_output2, state_h2, state_c2 = encoder_lstm2(encoder_output1)\n",
        "\n",
        "# 인코더의 LSTM 3\n",
        "encoder_lstm3 = LSTM(hidden_size, return_sequences=True, return_state=True, dropout=0.4)\n",
        "encoder_outputs, state_h, state_c = encoder_lstm3(encoder_output2)"
      ]
    },
    {
      "cell_type": "code",
      "execution_count": 76,
      "metadata": {},
      "outputs": [],
      "source": [
        "# 디코더 설계\n",
        "decoder_inputs = Input(shape=(None,))\n",
        "\n",
        "# 디코더의 임베딩 층\n",
        "dec_emb_layer = Embedding(tar_vocab, embedding_dim)\n",
        "dec_emb = dec_emb_layer(decoder_inputs)\n",
        "\n",
        "# 디코더의 LSTM\n",
        "# decoder_lstm = LSTM(hidden_size, return_sequences=True, return_state=True, dropout=0.4, recurrent_dropout=0.2)\n",
        "decoder_lstm = LSTM(hidden_size, return_sequences=True, return_state=True, dropout=0.4)\n",
        "decoder_outputs, _, _ = decoder_lstm(dec_emb, initial_state=[state_h, state_c])"
      ]
    },
    {
      "cell_type": "code",
      "execution_count": 77,
      "metadata": {},
      "outputs": [
        {
          "name": "stdout",
          "output_type": "stream",
          "text": [
            "Model: \"model\"\n",
            "__________________________________________________________________________________________________\n",
            "Layer (type)                    Output Shape         Param #     Connected to                     \n",
            "==================================================================================================\n",
            "input_1 (InputLayer)            [(None, 50)]         0                                            \n",
            "__________________________________________________________________________________________________\n",
            "embedding (Embedding)           (None, 50, 128)      2048000     input_1[0][0]                    \n",
            "__________________________________________________________________________________________________\n",
            "lstm (LSTM)                     [(None, 50, 256), (N 394240      embedding[0][0]                  \n",
            "__________________________________________________________________________________________________\n",
            "input_2 (InputLayer)            [(None, None)]       0                                            \n",
            "__________________________________________________________________________________________________\n",
            "lstm_1 (LSTM)                   [(None, 50, 256), (N 525312      lstm[0][0]                       \n",
            "__________________________________________________________________________________________________\n",
            "embedding_1 (Embedding)         (None, None, 128)    1024000     input_2[0][0]                    \n",
            "__________________________________________________________________________________________________\n",
            "lstm_2 (LSTM)                   [(None, 50, 256), (N 525312      lstm_1[0][0]                     \n",
            "__________________________________________________________________________________________________\n",
            "lstm_3 (LSTM)                   [(None, None, 256),  394240      embedding_1[0][0]                \n",
            "                                                                 lstm_2[0][1]                     \n",
            "                                                                 lstm_2[0][2]                     \n",
            "__________________________________________________________________________________________________\n",
            "dense (Dense)                   (None, None, 8000)   2056000     lstm_3[0][0]                     \n",
            "==================================================================================================\n",
            "Total params: 6,967,104\n",
            "Trainable params: 6,967,104\n",
            "Non-trainable params: 0\n",
            "__________________________________________________________________________________________________\n"
          ]
        }
      ],
      "source": [
        "# 디코더의 출력층\n",
        "decoder_softmax_layer = Dense(tar_vocab, activation='softmax')\n",
        "decoder_softmax_outputs = decoder_softmax_layer(decoder_outputs)\n",
        "\n",
        "# 모델 정의\n",
        "model = Model([encoder_inputs, decoder_inputs], decoder_softmax_outputs)\n",
        "model.summary()"
      ]
    },
    {
      "cell_type": "markdown",
      "metadata": {},
      "source": [
        "---"
      ]
    },
    {
      "cell_type": "markdown",
      "metadata": {},
      "source": [
        "## 어텐션 메커니즘"
      ]
    },
    {
      "cell_type": "code",
      "execution_count": 78,
      "metadata": {},
      "outputs": [
        {
          "name": "stdout",
          "output_type": "stream",
          "text": [
            "Model: \"model_1\"\n",
            "__________________________________________________________________________________________________\n",
            "Layer (type)                    Output Shape         Param #     Connected to                     \n",
            "==================================================================================================\n",
            "input_1 (InputLayer)            [(None, 50)]         0                                            \n",
            "__________________________________________________________________________________________________\n",
            "embedding (Embedding)           (None, 50, 128)      2048000     input_1[0][0]                    \n",
            "__________________________________________________________________________________________________\n",
            "lstm (LSTM)                     [(None, 50, 256), (N 394240      embedding[0][0]                  \n",
            "__________________________________________________________________________________________________\n",
            "input_2 (InputLayer)            [(None, None)]       0                                            \n",
            "__________________________________________________________________________________________________\n",
            "lstm_1 (LSTM)                   [(None, 50, 256), (N 525312      lstm[0][0]                       \n",
            "__________________________________________________________________________________________________\n",
            "embedding_1 (Embedding)         (None, None, 128)    1024000     input_2[0][0]                    \n",
            "__________________________________________________________________________________________________\n",
            "lstm_2 (LSTM)                   [(None, 50, 256), (N 525312      lstm_1[0][0]                     \n",
            "__________________________________________________________________________________________________\n",
            "lstm_3 (LSTM)                   [(None, None, 256),  394240      embedding_1[0][0]                \n",
            "                                                                 lstm_2[0][1]                     \n",
            "                                                                 lstm_2[0][2]                     \n",
            "__________________________________________________________________________________________________\n",
            "attention_layer (AdditiveAttent (None, None, 256)    256         lstm_3[0][0]                     \n",
            "                                                                 lstm_2[0][0]                     \n",
            "__________________________________________________________________________________________________\n",
            "concat_layer (Concatenate)      (None, None, 512)    0           lstm_3[0][0]                     \n",
            "                                                                 attention_layer[0][0]            \n",
            "__________________________________________________________________________________________________\n",
            "dense_1 (Dense)                 (None, None, 8000)   4104000     concat_layer[0][0]               \n",
            "==================================================================================================\n",
            "Total params: 9,015,360\n",
            "Trainable params: 9,015,360\n",
            "Non-trainable params: 0\n",
            "__________________________________________________________________________________________________\n"
          ]
        }
      ],
      "source": [
        "from tensorflow.keras.layers import AdditiveAttention\n",
        "\n",
        "# 어텐션 층(어텐션 함수)\n",
        "attn_layer = AdditiveAttention(name='attention_layer')\n",
        "\n",
        "# 인코더와 디코더의 모든 time step의 hidden state를 어텐션 층에 전달하고 결과를 리턴\n",
        "attn_out = attn_layer([decoder_outputs, encoder_outputs])\n",
        "\n",
        "\n",
        "# 어텐션의 결과와 디코더의 hidden state들을 연결\n",
        "decoder_concat_input = Concatenate(axis=-1, name='concat_layer')([decoder_outputs, attn_out])\n",
        "\n",
        "# 디코더의 출력층\n",
        "decoder_softmax_layer = Dense(tar_vocab, activation='softmax')\n",
        "decoder_softmax_outputs = decoder_softmax_layer(decoder_concat_input)\n",
        "\n",
        "# 모델 정의\n",
        "model = Model([encoder_inputs, decoder_inputs], decoder_softmax_outputs)\n",
        "model.summary()"
      ]
    },
    {
      "cell_type": "markdown",
      "metadata": {},
      "source": [
        "---"
      ]
    },
    {
      "cell_type": "markdown",
      "metadata": {},
      "source": [
        "# 모델 훈련하기"
      ]
    },
    {
      "cell_type": "code",
      "execution_count": 79,
      "metadata": {},
      "outputs": [
        {
          "name": "stdout",
          "output_type": "stream",
          "text": [
            "Epoch 1/50\n",
            "346/346 [==============================] - 92s 242ms/step - loss: 5.3817 - val_loss: 4.6472\n",
            "Epoch 2/50\n",
            "346/346 [==============================] - 173s 501ms/step - loss: 4.5117 - val_loss: 4.2832\n",
            "Epoch 3/50\n",
            "346/346 [==============================] - 186s 537ms/step - loss: 4.1466 - val_loss: 4.0321\n",
            "Epoch 4/50\n",
            "346/346 [==============================] - 169s 489ms/step - loss: 3.8895 - val_loss: 3.8511\n",
            "Epoch 5/50\n",
            "346/346 [==============================] - 212s 615ms/step - loss: 3.6907 - val_loss: 3.7295\n",
            "Epoch 6/50\n",
            "346/346 [==============================] - 212s 611ms/step - loss: 3.5261 - val_loss: 3.6304\n",
            "Epoch 7/50\n",
            "346/346 [==============================] - 185s 532ms/step - loss: 3.3901 - val_loss: 3.5435\n",
            "Epoch 8/50\n",
            "346/346 [==============================] - 196s 567ms/step - loss: 3.2702 - val_loss: 3.4707\n",
            "Epoch 9/50\n",
            "346/346 [==============================] - 212s 614ms/step - loss: 3.1712 - val_loss: 3.4381\n",
            "Epoch 10/50\n",
            "346/346 [==============================] - 258s 745ms/step - loss: 3.0772 - val_loss: 3.3799\n",
            "Epoch 11/50\n",
            "346/346 [==============================] - 260s 754ms/step - loss: 2.9959 - val_loss: 3.3540\n",
            "Epoch 12/50\n",
            "346/346 [==============================] - 276s 799ms/step - loss: 2.9300 - val_loss: 3.3193\n",
            "Epoch 13/50\n",
            "346/346 [==============================] - 289s 838ms/step - loss: 2.8583 - val_loss: 3.2933\n",
            "Epoch 14/50\n",
            "346/346 [==============================] - 292s 844ms/step - loss: 2.7967 - val_loss: 3.2766\n",
            "Epoch 15/50\n",
            "346/346 [==============================] - 302s 868ms/step - loss: 2.7450 - val_loss: 3.2510\n",
            "Epoch 16/50\n",
            "346/346 [==============================] - 297s 859ms/step - loss: 2.6963 - val_loss: 3.2317\n",
            "Epoch 17/50\n",
            "346/346 [==============================] - 291s 843ms/step - loss: 2.6438 - val_loss: 3.2261\n",
            "Epoch 18/50\n",
            "346/346 [==============================] - 294s 844ms/step - loss: 2.6019 - val_loss: 3.2140\n",
            "Epoch 19/50\n",
            "346/346 [==============================] - 303s 876ms/step - loss: 2.5662 - val_loss: 3.2087\n",
            "Epoch 20/50\n",
            "346/346 [==============================] - 318s 921ms/step - loss: 2.5309 - val_loss: 3.2057\n",
            "Epoch 21/50\n",
            "346/346 [==============================] - 352s 1s/step - loss: 2.4975 - val_loss: 3.1951\n",
            "Epoch 22/50\n",
            "346/346 [==============================] - 344s 993ms/step - loss: 2.4592 - val_loss: 3.1885\n",
            "Epoch 23/50\n",
            "346/346 [==============================] - 273s 790ms/step - loss: 2.4289 - val_loss: 3.1904\n",
            "Epoch 24/50\n",
            "346/346 [==============================] - 245s 708ms/step - loss: 2.3941 - val_loss: 3.1860\n",
            "Epoch 25/50\n",
            "346/346 [==============================] - 231s 670ms/step - loss: 2.3670 - val_loss: 3.1869\n",
            "Epoch 26/50\n",
            "346/346 [==============================] - 186s 536ms/step - loss: 2.3393 - val_loss: 3.1825\n",
            "Epoch 27/50\n",
            "346/346 [==============================] - 181s 523ms/step - loss: 2.3147 - val_loss: 3.1788\n",
            "Epoch 28/50\n",
            "346/346 [==============================] - 191s 554ms/step - loss: 2.2872 - val_loss: 3.1799\n",
            "Epoch 29/50\n",
            "346/346 [==============================] - 184s 533ms/step - loss: 2.2644 - val_loss: 3.1875\n",
            "Epoch 00029: early stopping\n"
          ]
        }
      ],
      "source": [
        "model.compile(optimizer='rmsprop', loss='sparse_categorical_crossentropy')\n",
        "es = EarlyStopping(monitor='val_loss', mode='min', patience=2, verbose=1)\n",
        "history = model.fit(x=[encoder_input_train, decoder_input_train], y=decoder_target_train, \\\n",
        "          validation_data=([encoder_input_test, decoder_input_test], decoder_target_test), \\\n",
        "          batch_size=256, callbacks=[es], epochs=50)"
      ]
    },
    {
      "cell_type": "code",
      "execution_count": 80,
      "metadata": {},
      "outputs": [
        {
          "data": {
            "image/png": "[encoded data removed]",
            "text/plain": [
              "<Figure size 640x480 with 1 Axes>"
            ]
          },
          "metadata": {},
          "output_type": "display_data"
        }
      ],
      "source": [
        "plt.plot(history.history['loss'], label='train')\n",
        "plt.plot(history.history['val_loss'], label='test')\n",
        "plt.legend()\n",
        "plt.show()"
      ]
    },
    {
      "cell_type": "markdown",
      "metadata": {},
      "source": [
        "## 추가 학습"
      ]
    },
    {
      "cell_type": "code",
      "execution_count": 81,
      "metadata": {},
      "outputs": [
        {
          "name": "stdout",
          "output_type": "stream",
          "text": [
            "Epoch 1/50\n",
            "346/346 [==============================] - 111s 300ms/step - loss: 2.2871 - val_loss: 3.1973\n",
            "Epoch 2/50\n",
            "346/346 [==============================] - 166s 480ms/step - loss: 2.2436 - val_loss: 3.1851\n",
            "Epoch 3/50\n",
            "346/346 [==============================] - 208s 597ms/step - loss: 2.2162 - val_loss: 3.1961\n",
            "Epoch 4/50\n",
            "346/346 [==============================] - 240s 694ms/step - loss: 2.1922 - val_loss: 3.1845\n",
            "Epoch 5/50\n",
            "346/346 [==============================] - 164s 474ms/step - loss: 2.1733 - val_loss: 3.1867\n",
            "Epoch 6/50\n",
            "346/346 [==============================] - 155s 449ms/step - loss: 2.1522 - val_loss: 3.1877\n",
            "Epoch 7/50\n",
            "346/346 [==============================] - 135s 391ms/step - loss: 2.1358 - val_loss: 3.1911\n",
            "Epoch 00007: early stopping\n"
          ]
        }
      ],
      "source": [
        "model.compile(optimizer='rmsprop', loss='sparse_categorical_crossentropy')\n",
        "es = EarlyStopping(monitor='val_loss', mode='min', patience=3, verbose=1)\n",
        "history = model.fit(x=[encoder_input_train, decoder_input_train], y=decoder_target_train, \\\n",
        "          validation_data=([encoder_input_test, decoder_input_test], decoder_target_test), \\\n",
        "          batch_size=256, callbacks=[es], epochs=50)"
      ]
    },
    {
      "cell_type": "code",
      "execution_count": 82,
      "metadata": {},
      "outputs": [
        {
          "data": {
            "image/png": "[encoded data removed]",
            "text/plain": [
              "<Figure size 640x480 with 1 Axes>"
            ]
          },
          "metadata": {},
          "output_type": "display_data"
        }
      ],
      "source": [
        "plt.plot(history.history['loss'], label='train')\n",
        "plt.plot(history.history['val_loss'], label='test')\n",
        "plt.legend()\n",
        "plt.show()"
      ]
    },
    {
      "cell_type": "markdown",
      "metadata": {},
      "source": [
        "## 학습률 조정 ( 0.0005 ~ 0.0007 ) 후 재학습"
      ]
    },
    {
      "cell_type": "code",
      "execution_count": 105,
      "metadata": {},
      "outputs": [
        {
          "name": "stdout",
          "output_type": "stream",
          "text": [
            "Epoch 1/50\n",
            "346/346 [==============================] - 95s 257ms/step - loss: 1.9033 - val_loss: 3.1385\n",
            "Epoch 2/50\n",
            "346/346 [==============================] - 144s 417ms/step - loss: 1.8876 - val_loss: 3.1396\n",
            "Epoch 3/50\n",
            "346/346 [==============================] - 179s 518ms/step - loss: 1.8748 - val_loss: 3.1412\n",
            "Epoch 00003: early stopping\n"
          ]
        }
      ],
      "source": [
        "import tensorflow as tf\n",
        "import datetime\n",
        "\n",
        "file_path='C:/Users/ligoan/OneDrive/바탕 화면/I/repository/quest/Exploration_quest/Quest02/best_model_learning_rate_adjust.keras'\n",
        "log_dir = \"logs/fit/\" + datetime.datetime.now().strftime(\"%Y%m%d-%H%M%S\")\n",
        "\n",
        "callbacks = [\n",
        "    EarlyStopping(monitor='val_loss', mode='min', patience=2, verbose=1),\n",
        "    ModelCheckpoint(file_path,\n",
        "                    save_best_only=True,\n",
        "                    monitor='val_loss'),\n",
        "    tf.keras.callbacks.TensorBoard(log_dir=log_dir)\n",
        "]\n",
        "\n",
        "model.compile(optimizer=tf.keras.optimizers.RMSprop(0.0006), loss='sparse_categorical_crossentropy')\n",
        "\n",
        "history = model.fit(x=[encoder_input_train, decoder_input_train], y=decoder_target_train, \\\n",
        "          validation_data=([encoder_input_test, decoder_input_test], decoder_target_test), \\\n",
        "          batch_size=256, callbacks=callbacks, epochs=50)"
      ]
    },
    {
      "cell_type": "code",
      "execution_count": 106,
      "metadata": {},
      "outputs": [
        {
          "data": {
            "image/png": "[encoded data removed]",
            "text/plain": [
              "<Figure size 640x480 with 1 Axes>"
            ]
          },
          "metadata": {},
          "output_type": "display_data"
        }
      ],
      "source": [
        "plt.plot(history.history['loss'], label='train')\n",
        "plt.plot(history.history['val_loss'], label='test')\n",
        "plt.legend()\n",
        "plt.show()"
      ]
    },
    {
      "cell_type": "markdown",
      "metadata": {},
      "source": [
        "## 옵티마이저 조정(RMSProp -> Adam) 후 재학습"
      ]
    },
    {
      "cell_type": "code",
      "execution_count": 107,
      "metadata": {},
      "outputs": [],
      "source": [
        "model = tf.keras.models.load_model('best_model_learning_rate_adjust.keras')"
      ]
    },
    {
      "cell_type": "code",
      "execution_count": 111,
      "metadata": {},
      "outputs": [
        {
          "name": "stdout",
          "output_type": "stream",
          "text": [
            "Epoch 1/50\n",
            "346/346 [==============================] - 109s 295ms/step - loss: 1.9246 - val_loss: 3.1211\n",
            "Epoch 2/50\n",
            "346/346 [==============================] - 189s 548ms/step - loss: 1.8332 - val_loss: 3.1304\n",
            "Epoch 3/50\n",
            "346/346 [==============================] - 187s 541ms/step - loss: 1.7692 - val_loss: 3.1378\n",
            "Epoch 00003: early stopping\n"
          ]
        }
      ],
      "source": [
        "import tensorflow as tf\n",
        "\n",
        "file_path='C:/Users/ligoan/OneDrive/바탕 화면/I/repository/quest/Exploration_quest/Quest02/best_model_change_optimizer_adam.keras'\n",
        "\n",
        "callbacks = [\n",
        "    EarlyStopping(monitor='val_loss', mode='min', patience=2, verbose=1),\n",
        "    ModelCheckpoint(file_path,\n",
        "                    save_best_only=True,\n",
        "                    monitor='val_loss'),\n",
        "]\n",
        "\n",
        "model.compile(optimizer='adam', loss='sparse_categorical_crossentropy')\n",
        "\n",
        "history = model.fit(x=[encoder_input_train, decoder_input_train], y=decoder_target_train, \\\n",
        "          validation_data=([encoder_input_test, decoder_input_test], decoder_target_test), \\\n",
        "          batch_size=256, callbacks=callbacks, epochs=50)"
      ]
    },
    {
      "cell_type": "code",
      "execution_count": 112,
      "metadata": {},
      "outputs": [
        {
          "data": {
            "image/png": "[encoded data removed]",
            "text/plain": [
              "<Figure size 640x480 with 1 Axes>"
            ]
          },
          "metadata": {},
          "output_type": "display_data"
        }
      ],
      "source": [
        "plt.plot(history.history['loss'], label='train')\n",
        "plt.plot(history.history['val_loss'], label='test')\n",
        "plt.legend()\n",
        "plt.show()"
      ]
    },
    {
      "cell_type": "markdown",
      "metadata": {},
      "source": [
        "## 학습률 조정 ( 0.0005 0.0007 )"
      ]
    },
    {
      "cell_type": "code",
      "execution_count": 113,
      "metadata": {},
      "outputs": [],
      "source": [
        "model = tf.keras.models.load_model('best_model_change_optimizer_adam.keras')"
      ]
    },
    {
      "cell_type": "code",
      "execution_count": 115,
      "metadata": {},
      "outputs": [
        {
          "name": "stdout",
          "output_type": "stream",
          "text": [
            "Epoch 1/50\n",
            "346/346 [==============================] - 146s 396ms/step - loss: 1.8169 - val_loss: 3.1255\n",
            "Epoch 2/50\n",
            "346/346 [==============================] - 186s 539ms/step - loss: 1.7621 - val_loss: 3.1292\n",
            "Epoch 3/50\n",
            "346/346 [==============================] - 212s 611ms/step - loss: 1.7235 - val_loss: 3.1353\n",
            "Epoch 00003: early stopping\n"
          ]
        }
      ],
      "source": [
        "import tensorflow as tf\n",
        "\n",
        "file_path='C:/Users/ligoan/OneDrive/바탕 화면/I/repository/quest/Exploration_quest/Quest02/best_model_change_optimizer_adam_lr_0.0005.keras'\n",
        "\n",
        "callbacks = [\n",
        "    EarlyStopping(monitor='val_loss', mode='min', patience=2, verbose=1),\n",
        "    ModelCheckpoint(file_path,\n",
        "                    save_best_only=True,\n",
        "                    monitor='val_loss'),\n",
        "]\n",
        "\n",
        "model.compile(optimizer=tf.keras.optimizers.Adam(0.0005), loss='sparse_categorical_crossentropy')\n",
        "\n",
        "history = model.fit(x=[encoder_input_train, decoder_input_train], y=decoder_target_train, \\\n",
        "          validation_data=([encoder_input_test, decoder_input_test], decoder_target_test), \\\n",
        "          batch_size=256, callbacks=callbacks, epochs=50)"
      ]
    },
    {
      "cell_type": "code",
      "execution_count": 116,
      "metadata": {},
      "outputs": [
        {
          "data": {
            "image/png": "[encoded data removed]",
            "text/plain": [
              "<Figure size 640x480 with 1 Axes>"
            ]
          },
          "metadata": {},
          "output_type": "display_data"
        }
      ],
      "source": [
        "plt.plot(history.history['loss'], label='train')\n",
        "plt.plot(history.history['val_loss'], label='test')\n",
        "plt.legend()\n",
        "plt.show()"
      ]
    },
    {
      "cell_type": "code",
      "execution_count": 117,
      "metadata": {},
      "outputs": [],
      "source": [
        "model = tf.keras.models.load_model('best_model_change_optimizer_adam.keras')"
      ]
    },
    {
      "cell_type": "markdown",
      "metadata": {},
      "source": [
        "---"
      ]
    },
    {
      "cell_type": "markdown",
      "metadata": {},
      "source": [
        "# 인퍼런스 모델 구현하기"
      ]
    },
    {
      "cell_type": "code",
      "execution_count": 118,
      "metadata": {},
      "outputs": [],
      "source": [
        "src_index_to_word = src_tokenizer.index_word # 원문 단어 집합에서 정수 -> 단어를 얻음\n",
        "tar_word_to_index = tar_tokenizer.word_index # 요약 단어 집합에서 단어 -> 정수를 얻음\n",
        "tar_index_to_word = tar_tokenizer.index_word # 요약 단어 집합에서 정수 -> 단어를 얻음"
      ]
    },
    {
      "cell_type": "code",
      "execution_count": 119,
      "metadata": {},
      "outputs": [],
      "source": [
        "# 인코더 설계\n",
        "encoder_model = Model(inputs=encoder_inputs, outputs=[encoder_outputs, state_h, state_c])\n",
        "\n",
        "# 테스트 단게의 디코더\n",
        "# 이전 시점의 상태들을 저장하는 텐서\n",
        "decoder_state_input_h = Input(shape=(hidden_size,))\n",
        "decoder_state_input_c = Input(shape=(hidden_size,))\n",
        "\n",
        "dec_emb2 = dec_emb_layer(decoder_inputs)\n",
        "\n",
        "# 문장의 다음 단어를 예측하기 위해서 초기 상태(initial_state)를 이전 시점의 상태로 사용. 이는 뒤의 함수 decode_sequence()에 구현\n",
        "# 훈련 과정에서와 달리 LSTM의 리턴하는 은닉 상태와 셀 상태인 state_h와 state_c를 버리지 않음.\n",
        "decoder_outputs2, state_h2, state_c2 = decoder_lstm(dec_emb2, initial_state=[decoder_state_input_h, decoder_state_input_c])"
      ]
    },
    {
      "cell_type": "code",
      "execution_count": 120,
      "metadata": {},
      "outputs": [],
      "source": [
        "# 어텐션 함수\n",
        "decoder_hidden_state_input = Input(shape=(text_max_len, hidden_size))\n",
        "attn_out_inf = attn_layer([decoder_outputs2, decoder_hidden_state_input])\n",
        "decoder_inf_concat = Concatenate(axis=-1, name='concat')([decoder_outputs2, attn_out_inf])\n",
        "\n",
        "# 디코더의 출력층\n",
        "decoder_outputs2 = decoder_softmax_layer(decoder_inf_concat)\n",
        "\n",
        "# 최종 디코더 모델\n",
        "decoder_model = Model(\n",
        "    [decoder_inputs] + [decoder_hidden_state_input,decoder_state_input_h, decoder_state_input_c],\n",
        "    [decoder_outputs2] + [state_h2, state_c2])\n"
      ]
    },
    {
      "cell_type": "code",
      "execution_count": 121,
      "metadata": {},
      "outputs": [],
      "source": [
        "def decode_sequence(input_seq):\n",
        "    # 입력으로부터 인코더의 상태를 얻음\n",
        "    e_out, e_h, e_c = encoder_model.predict(input_seq)\n",
        "\n",
        "     # <SOS>에 해당하는 토큰 생성\n",
        "    target_seq = np.zeros((1,1))\n",
        "    target_seq[0, 0] = tar_word_to_index['sostoken']\n",
        "\n",
        "    stop_condition = False\n",
        "    decoded_sentence = ''\n",
        "    while not stop_condition: # stop_condition이 True가 될 때까지 루프 반복\n",
        "\n",
        "        output_tokens, h, c = decoder_model.predict([target_seq] + [e_out, e_h, e_c])\n",
        "        sampled_token_index = np.argmax(output_tokens[0, -1, :])\n",
        "        sampled_token = tar_index_to_word[sampled_token_index]\n",
        "\n",
        "        if (sampled_token!='eostoken'):\n",
        "            decoded_sentence += ' '+sampled_token\n",
        "\n",
        "        #  <eos>에 도달하거나 최대 길이를 넘으면 중단.\n",
        "        if (sampled_token == 'eostoken'  or len(decoded_sentence.split()) >= (headlines_max_len-1)):\n",
        "            stop_condition = True\n",
        "\n",
        "        # 길이가 1인 타겟 시퀀스를 업데이트\n",
        "        target_seq = np.zeros((1,1))\n",
        "        target_seq[0, 0] = sampled_token_index\n",
        "\n",
        "        # 상태를 업데이트 합니다.\n",
        "        e_h, e_c = h, c\n",
        "\n",
        "    return decoded_sentence"
      ]
    },
    {
      "cell_type": "markdown",
      "metadata": {},
      "source": [
        "---"
      ]
    },
    {
      "cell_type": "markdown",
      "metadata": {},
      "source": [
        "## 모델 테스트"
      ]
    },
    {
      "cell_type": "code",
      "execution_count": 122,
      "metadata": {},
      "outputs": [],
      "source": [
        "# 원문의 정수 시퀀스를 텍스트 시퀀스로 변환\n",
        "def seq2text(input_seq):\n",
        "    sentence=''\n",
        "    for i in input_seq:\n",
        "        if(i!=0):\n",
        "            sentence = sentence + src_index_to_word[i]+' '\n",
        "    return sentence\n",
        "\n",
        "# 요약문의 정수 시퀀스를 텍스트 시퀀스로 변환\n",
        "def seq2summary(input_seq):\n",
        "    sentence=''\n",
        "    for i in input_seq:\n",
        "        if((i!=0 and i!=tar_word_to_index['sostoken']) and i!=tar_word_to_index['eostoken']):\n",
        "            sentence = sentence + tar_index_to_word[i] + ' '\n",
        "    return sentence"
      ]
    },
    {
      "cell_type": "code",
      "execution_count": 123,
      "metadata": {},
      "outputs": [
        {
          "name": "stdout",
          "output_type": "stream",
          "text": [
            "원문 : sealed envelope used first harry potter movie bearing school witchcraft auctioned us made marble effect paper seemingly contains letters inside used scene wherein household letters informing harry acceptance \n",
            "실제 요약 : harry potter letter auctioned for lakh \n",
            "예측 요약 :  hyderabad school to be auctioned for\n",
            "\n",
            "\n",
            "원문 : two brothers arrested dubai airport allegedly tried smuggle kg heroin hiding many capsules recovered charged possession smuggling drugs two suspected involved smuggling past well \n",
            "실제 요약 : brothers held with kg heroin in in dubai \n",
            "예측 요약 :  two held for smuggling drugs in mumbai airport\n",
            "\n",
            "\n",
            "원문 : us senate confirmed three indian americans picked president donald trump key governmental posts three indian americans neil chatterjee vishal krishna chatterjee serve member federal energy regulatory commission confirmed intellectual property enforcement coordinator us ambassador peru respectively nn \n",
            "실제 요약 : us senate confirms three indian americans to key govt posts \n",
            "예측 요약 :  us state secy trump named indo indo asia sena\n",
            "\n",
            "\n",
            "원문 : prime minister narendra modi tuesday tweeted birthday wishes former prime minister dr manmohan singh pm modi wished long life filled good health singh turned years old singh started political career finance minister helped privatisation indian economy \n",
            "실제 요약 : pm narendra modi wishes manmohan singh on his birthday \n",
            "예측 요약 :  pm modi wishes his birthday to wish ex pm modi\n",
            "\n",
            "\n",
            "원문 : many staff members including seven house keeping members seven coach attendants suspended connection recent theft mumbai delhi rajdhani express comes passengers reportedly raised suspicion staff involvement incident notably passengers allegedly drugged robbed valuables worth lakh onboard \n",
            "실제 요약 : staff members suspended in rajdhani express theft case \n",
            "예측 요약 :  staff leave over coach security leave in mumbai\n",
            "\n",
            "\n",
            "원문 : italy us based researchers co developed optical control electrical activity brain light thick probe designed large brain light affected regions without moving device scientists believe probe would help development diagnosis treatment neurological disorders \n",
            "실제 요약 : probe times than human hair made \n",
            "예측 요약 :  scientists develop device to monitor wounds\n",
            "\n",
            "\n",
            "원문 : gulshan grover said actors nowadays follow script added avoid working hard adding something new role make interesting grover shared fans tell makes negative characters portrays look different \n",
            "실제 요약 : actors are follow script grover \n",
            "예측 요약 :  do not want to do films do not do it to do\n",
            "\n",
            "\n",
            "원문 : aamir khan son junaid make professional acting debut play mother courage children adaptation play junaid giving actor cares lot whole production part said play staged mumbai august september \n",
            "실제 요약 : aamir khan son to make acting debut with play \n",
            "예측 요약 :  aamir khan mother together together for film\n",
            "\n",
            "\n",
            "원문 : reserve bank india said kyc verification payments bank customers done telecom companies permissible instructed payments banks complete kyc process independently third parties comes airtel penalised uidai allegedly opening payments bank accounts without informed consent users \n",
            "실제 요약 : telco run payments banks need to do kyc rbi \n",
            "예측 요약 :  rbi asks banks to provide rbi banking system to rbi\n",
            "\n",
            "\n",
            "원문 : talking goa cm manohar parrikar undergoing treatment pancreatic ailment akhil bharat hindu mahasabha leader swami maharaj said beef ban goa cure parrikar positive impact health however parrikar earlier backed beef trade asserting anyone trying stop legal import state would punished \n",
            "실제 요약 : ban beef in goa to cure cm parrikar swami \n",
            "예측 요약 :  goa cm parrikar to be removed from party\n",
            "\n",
            "\n",
            "원문 : delhi high court monday sought responses delhi government lieutenant governor director general prisons women prisoners denied benefits semi open open jails statement came response plea filed former tihar jail legal advisor seeks set special jails women prisoners capital \n",
            "실제 요약 : why no open jail facility for women hc asks delhi govt \n",
            "예측 요약 :  delhi hc dismisses plea to delhi govt for women\n",
            "\n",
            "\n",
            "원문 : electricity bill defaulters puducherry paid crore due lieutenant governor kiran bedi name shame policy puducherry power department unpaid bills worth crore announced names defaulters newspapers radio direction puducherry facing financial crisis choice name shame defaulters bedi tweeted \n",
            "실제 요약 : puducherry bill defaulters pay cr post name shame policy \n",
            "예측 요약 :  rajya sabha adjourned over cr bill of obc quota\n",
            "\n",
            "\n",
            "원문 : delhi cm aap national convenor arvind kejriwal tuesday said party funds contest upcoming haryana assembly elections adding people fight elections behalf added people tell hoardings aap haryana tell never indulged corruption \n",
            "실제 요약 : do not have money to fight polls in haryana says kejriwal \n",
            "예측 요약 :  aap will contest all seats in delhi aap\n",
            "\n",
            "\n",
            "원문 : indian cricket team captain virat kohli revealed tried hard cry india world cup victory want odd one everyone crying first world cup emotional guys like sachin tendulkar five world cups added \n",
            "실제 요약 : was not as emotional tried hard to cry after wc win kohli \n",
            "예측 요약 :  kohli is the world cup manager\n",
            "\n",
            "\n",
            "원문 : ysr congress party chief jagan mohan reddy said tdp must leave nda alliance sincere getting special category status andhra pradesh even two tdp ministers resigned union cabinet last week party ruled leaving alliance came centre rejected demand special category status andhra \n",
            "실제 요약 : tdp must quit nda if on andhra special status \n",
            "예측 요약 :  will not take back to any andhra pradesh chief minister\n",
            "\n",
            "\n",
            "원문 : addressing parliament commencement budget session president ram nath kovind monday said kumbh mela recognised unesco cultural heritage humanity matter pride india said unesco also designated ahmedabad heritage city chennai included list creative cities unesco \n",
            "실제 요약 : proud as kumbh mela given unesco cultural heritage tag prez \n",
            "예측 요약 :  heritage status to be built in india heritage minister\n",
            "\n",
            "\n",
            "원문 : co passenger teen bollywood actress said molested middle aged man flight claimed alleged innocent fault kept legs wrong see misbehaving also apologised actor shouted passenger added \n",
            "실제 요약 : teen actress co passenger says alleged is innocent \n",
            "예측 요약 :  passenger molested me during flight molesting me passenger\n",
            "\n",
            "\n",
            "원문 : maharashtra government reportedly plans launch mobile app used farmers fill loan waiver forms app two page form farmers put personal details including name pan card number aadhaar number farmers last month loan waiver expected fill forms \n",
            "실제 요약 : maharashtra farmers can fill loan waiver forms on mobile app \n",
            "예측 요약 :  maha govt to launch app to mobile farmers in maharashtra\n",
            "\n",
            "\n",
            "원문 : indian cricketing legend sachin tendulkar son arjun tendulkar says father wants fearless cricketer rounder grabbed four wickets scored ball playing cricket club india bradman oval recently speaking sachin advice arjun said says team man give everything got \n",
            "실제 요약 : dad wants me to be cricketer arjun tendulkar \n",
            "예측 요약 :  sachin was family of his father arjun\n",
            "\n",
            "\n",
            "원문 : consumer affairs minister ram vilas paswan asked central board direct taxes consider service charge hotels income tax returns said renowned hotels restaurants guidelines consumer complaints still received notably guidelines issued april made payment service charge voluntary \n",
            "실제 요약 : consider hotels service charge as income minister to cbdt \n",
            "예측 요약 :  centre proposes rules for filing payments by points\n",
            "\n",
            "\n",
            "원문 : india largest carmaker maruti suzuki chairman bhargava said relocation company gurgaon plant another site inevitable due congestion traffic besides gurgaon maruti another manufacturing unit haryana manesar bhargava declined share timeline shifting gurgaon facility rolled first maruti \n",
            "실제 요약 : of plant due to traffic maruti \n",
            "예측 요약 :  maruti suzuki recalls continue after chairman\n",
            "\n",
            "\n",
            "원문 : footage jewish passengers praying together flight forced make emergency landing emerged passengers seen reading ani sacred books wearing oxygen masks aircraft flying london poland air pressure issues forced land amsterdam \n",
            "실제 요약 : fliers pray while flight makes emergency landing \n",
            "예측 요약 :  flight makes emergency landing after engine fails\n",
            "\n",
            "\n",
            "원문 : world first hybrid electric powered hydrogen fuel cells started running china three seats run kilometres maximum speed kilometres per hour kilograms hydrogen water emission pollutants \n",
            "실제 요약 : world first hydrogen begins operating in china \n",
            "예측 요약 :  world first electric operating unveiled in\n",
            "\n",
            "\n",
            "원문 : adopt lion campaign new zealand rugby fans offered free stay visiting irish british rugby fans expected fly new zealand june rugby tour visitors expected new offered free accommodation many also offered pick visitors airports \n",
            "실제 요약 : nz rugby fans offer to host british visitors for free \n",
            "예측 요약 :  free football match serves to free white house\n",
            "\n",
            "\n",
            "원문 : speaking lionel messi left contention fifa best player award barcelona official spokesperson said world best player lionel messi need awards prove credibility first time since messi appear list players contention fifa best men player award \n",
            "실제 요약 : messi needs no awards to show he is world best barcelona \n",
            "예측 요약 :  messi no one best best player to messi european\n",
            "\n",
            "\n",
            "원문 : us president donald trump threatened impose tariffs chinese imports worth billion politics right thing country ripped china long time trump added us china earlier imposed tariffs billion imports \n",
            "실제 요약 : trump threatens tariffs on all billion chinese imports \n",
            "예측 요약 :  china warns of trade trade with tariffs\n",
            "\n",
            "\n",
            "원문 : india advanced second round asia cup defeating arch rivals pakistan last pool match dhaka sunday third meeting two teams year india ending victorious three matches pakistan also advanced second round finishing second pool \n",
            "실제 요약 : indian hockey team beats pakistan for the rd time this year \n",
            "예측 요약 :  india beat pakistan to reach asia cup final\n",
            "\n",
            "\n",
            "원문 : us oldest known wwii military veteran credited whisky long life died texas age smoking years old still smoking twelve day richard said honoured veterans day ex president barack obama \n",
            "실제 요약 : us veteran who for long life dies aged \n",
            "예측 요약 :  years since became first death of us history\n",
            "\n",
            "\n",
            "원문 : police constable beaten family members local bjp politician madhya pradesh district imposing fine two relatives triple riding police station charge vivek asthana said police arrested two persons charges assaulting government official duty obstructing duty \n",
            "실제 요약 : bjp leader kin thrash cop over fine for traffic violation \n",
            "예측 요약 :  cop who bjp mp cop thrashed for bjp cop who refused to\n",
            "\n",
            "\n",
            "원문 : indian spinner harbhajan singh compared indian batsmen virat kohli rohit sharma saying virat numbers grown last couple years say anybody near say rohit speak talent rohit kohli hard work kohli left everyone behind harbhajan added \n",
            "실제 요약 : if anybody is near kohli it is rohit harbhajan singh \n",
            "예측 요약 :  virat kohli is my place virat kohli\n",
            "\n",
            "\n",
            "원문 : harley davidson decided move production us president donald trump said administration working bring motorcycle companies country harley said decision taken avoid retaliatory tariffs imposed european union major motorcycle companies outside us include honda hero bajaj auto \n",
            "실제 요약 : us other motorcycle firms trump amid harley spat \n",
            "예측 요약 :  harley davidson to produce us on harley davidson\n",
            "\n",
            "\n",
            "원문 : us senate thursday voted favour appointing us president donald trump nominee intelligence agency cia director appointment became first woman lead spy agency appointment faced opposition amid role torture terror suspects \n",
            "실제 요약 : cia st female director appointment confirmed by senate \n",
            "예측 요약 :  us state secy charged with nsa for spying\n",
            "\n",
            "\n",
            "원문 : uttar pradesh cm yogi adityanath tuesday expressed confidence winning upcoming chhattisgarh assembly elections saying bjp win elections huge majority adityanath arrived raipur participate election campaign said present incumbent cm raman singh nomination filing two phased elections november \n",
            "실제 요약 : bjp will form govt in garh with huge majority up cm yogi \n",
            "예측 요약 :  yogi to contest polls in up polls in up polls\n",
            "\n",
            "\n",
            "원문 : scientists discovered chemical tan skin types without need substance release dark skin would tan even fair individuals turn pink rather bronze sun due lack would lower skin cancer risk absorbed uv rays \n",
            "실제 요약 : chemical all skin types without sun lowers cancer risk \n",
            "예측 요약 :  skin skin patch explains how skin skin claims\n",
            "\n",
            "\n",
            "원문 : centre said received complaints online trolling harassment social media platforms like facebook twitter instagram last year complaints received social media platforms ministry women child development set cell july report online trolling complaints \n",
            "실제 요약 : centre received online trolling complaints last year \n",
            "예측 요약 :  govt asks twitter to name politicians posts\n",
            "\n",
            "\n",
            "원문 : responding pakistan pm imran khan comments treatment minorities india foreign ministry spokesperson raveesh kumar said pakistan last country lecture us inclusive society world aware situation minorities pakistan added pakistan statements intended attention problems said \n",
            "실제 요약 : pak should be last country to lecture us on india \n",
            "예측 요약 :  india pak pm on pak foreign policy\n",
            "\n",
            "\n",
            "원문 : world bank group monday said double year investments billion fight climate change fund aid high quality forecasts early warning systems climate information services world bank contribute billion rest raised international finance corporation investment guarantee agency private capital \n",
            "실제 요약 : world bank to raise billion to fight climate change \n",
            "예측 요약 :  world bank imf to hit billion imf world bank\n",
            "\n",
            "\n",
            "원문 : talking release padman aiyaary day akshay kumar said media refers simultaneous release two films clash added padman aiyaary absolutely different neeraj pandey dear friend mine \n",
            "실제 요약 : only media calls it clash akshay on padman aiyaary release \n",
            "예측 요약 :  clash with clash with clash with padman release manoj\n",
            "\n",
            "\n",
            "원문 : responding archaeological survey india blaming algae higher parts taj mahal poor maintenance supreme court said algae fly court added situation would asi done job surprised way asi defending \n",
            "실제 요약 : can fly sc asks for failing to preserve taj mahal \n",
            "예측 요약 :  taj mahal can be in the industry sc tells sc\n",
            "\n",
            "\n",
            "원문 : hours us president donald trump attacked lebron james tweet wife melania trump praised nba star work children lebron said interview trump using sports create division throughout country following lebron remarks trump said made lebron look smart \n",
            "실제 요약 : melania praises lebron james hours after trump him \n",
            "예측 요약 :  trump wife obama with donald obama\n",
            "\n",
            "\n",
            "원문 : former ceo infosys kris gopalakrishnan said indian companies need learn manage expectations employees growth rate said technology companies must invest employees employees must invest time learning also said automation impacted services like infrastructure management maintenance \n",
            "실제 요약 : it firms should manage employee ex infosys ceo \n",
            "예측 요약 :  infosys is not to hire people ex infosys md\n",
            "\n",
            "\n",
            "원문 : registering first win captain delhi daredevils shreyas iyer revealed former captain gautam gambhir decision sit playing xi ahead fixture year old scored unbeaten ball called gambhir decision courageous one said respect former captain gone really high \n",
            "실제 요약 : it was gambhir decision to sit out of final xi dd captain \n",
            "예측 요약 :  gambhir shares video of his career gambhir gambhir\n",
            "\n",
            "\n",
            "원문 : aam aadmi party mla kapil mishra thursday thrown allegedly creating ruckus delhi assembly mishra brought along woman assembly alleged abuse three aap mlas several aap mlas objected entered argument mishra disrupt assembly proceedings following \n",
            "실제 요약 : aap mla kapil mishra thrown out of delhi assembly \n",
            "예측 요약 :  aap mla kumar delhi assembly speaker delhi assembly\n",
            "\n",
            "\n",
            "원문 : lawyer uttar pradesh filed petition supreme court seeking declared former pm atal bihari vajpayee son calling vajpayee petitioner said former pm since parliament speech worried vajpayee health therefore wants declared son added \n",
            "실제 요약 : up lawyer moves sc to declare him ex pm ab vajpayee son \n",
            "예측 요약 :  bjp has no case against him ex pm vajpayee\n",
            "\n",
            "\n",
            "원문 : six people died injured crane collapsed samsung heavy industries south korea monday company said crane collided another crane collapsed onto ship workers constructing oil platform french energy company total \n",
            "실제 요약 : samsung workers killed after collapses at \n",
            "예측 요약 :  killed as cargo cargo building collapses in china\n",
            "\n",
            "\n",
            "원문 : per reports actor salman khan fight pack action scene upcoming film tiger zinda hai sequel film ek tha tiger according sources producer aditya chopra wants action sequences film par international standards scene reportedly shot austria \n",
            "실제 요약 : salman to fight for scene in tiger zinda hai reports \n",
            "예측 요약 :  salman to star in salman khan in upcoming film report\n",
            "\n",
            "\n",
            "원문 : pakistani government refuted reports bollywood film pad man banned country clarifying central board film yet watch government stated decision grant film yet taken irresponsible political affect decision \n",
            "실제 요약 : pakistan censor board denies reports of banning pad man \n",
            "예측 요약 :  pakistan govt orders ban on screen of\n",
            "\n",
            "\n",
            "원문 : ncp chief sharad pawar wednesday said situation poll bound gujarat favour congress traders community bjp far stands due decisions like demonetisation gst rollout added two phase gujarat state assembly elections scheduled next month \n",
            "실제 요약 : situation in poll bound guj to cong ncp chief \n",
            "예측 요약 :  sharad pawar is sharad yadav\n",
            "\n",
            "\n",
            "원문 : members local team wore pakistan cricket team jersey played country national anthem domestic match central kashmir district recently baba ud din team stood hands chest anthem played announcement made people stand prior anthem \n",
            "실제 요약 : local kashmir team wears pakistan team jersey plays anthem \n",
            "예측 요약 :  pakistani cricket team wearing hair in\n",
            "\n",
            "\n",
            "원문 : makers telugu film alleged sushant singh rajput kriti sanon upcoming film raabta copied unique story plot line violation copyright reported trade analyst ramesh makers approached hyderabad court wednesday seek injunction release hindi film hearing scheduled june \n",
            "실제 요약 : telugu filmmakers allege sushant raabta copied their story \n",
            "예측 요약 :  sushant singh rajput raabta to star in upcoming film\n",
            "\n",
            "\n"
          ]
        }
      ],
      "source": [
        "for i in range(50, 100):\n",
        "    print(\"원문 :\", seq2text(encoder_input_test[i]))\n",
        "    print(\"실제 요약 :\", seq2summary(decoder_input_test[i]))\n",
        "    print(\"예측 요약 :\", decode_sequence(encoder_input_test[i].reshape(1, text_max_len)))\n",
        "    print(\"\\n\")"
      ]
    },
    {
      "cell_type": "markdown",
      "metadata": {},
      "source": [
        "# 추출적 요약"
      ]
    },
    {
      "cell_type": "code",
      "execution_count": 124,
      "metadata": {},
      "outputs": [],
      "source": [
        "import requests\n",
        "from summa.summarizer import summarize"
      ]
    },
    {
      "cell_type": "markdown",
      "metadata": {},
      "source": [
        "## summarize 사용"
      ]
    },
    {
      "cell_type": "code",
      "execution_count": 148,
      "metadata": {},
      "outputs": [
        {
          "name": "stdout",
          "output_type": "stream",
          "text": [
            "Headline:\n",
            "\n"
          ]
        }
      ],
      "source": [
        "print('Headline:')\n",
        "print(summarize(data['text'][0], ratio=0.5))"
      ]
    },
    {
      "cell_type": "code",
      "execution_count": 149,
      "metadata": {},
      "outputs": [
        {
          "name": "stdout",
          "output_type": "stream",
          "text": [
            "Headline:\n",
            "[]\n"
          ]
        }
      ],
      "source": [
        "print('Headline:')\n",
        "print(summarize(data['text'][0], ratio=0.5, split=True))"
      ]
    },
    {
      "cell_type": "code",
      "execution_count": 150,
      "metadata": {},
      "outputs": [
        {
          "name": "stdout",
          "output_type": "stream",
          "text": [
            "Headline:\n",
            "\n"
          ]
        }
      ],
      "source": [
        "print('Headline:')\n",
        "print(summarize(data['text'][0], words=1000))"
      ]
    },
    {
      "cell_type": "markdown",
      "metadata": {},
      "source": [
        "## 텍스트 랭크(TextRank Based on Sentence Embedding)"
      ]
    },
    {
      "cell_type": "markdown",
      "metadata": {},
      "source": [
        "### GloVe"
      ]
    },
    {
      "cell_type": "code",
      "execution_count": 3,
      "metadata": {},
      "outputs": [],
      "source": [
        "import numpy as np\n",
        "import gensim\n",
        "from urllib.request import urlretrieve, urlopen\n",
        "import gzip\n",
        "import zipfile"
      ]
    },
    {
      "cell_type": "markdown",
      "metadata": {},
      "source": [
        "---"
      ]
    },
    {
      "cell_type": "markdown",
      "metadata": {},
      "source": [
        "#### 다운로드"
      ]
    },
    {
      "cell_type": "code",
      "execution_count": null,
      "metadata": {},
      "outputs": [],
      "source": [
        "urlretrieve(\"http://nlp.stanford.edu/data/glove.6B.zip\", filename=\"glove.6B.zip\")\n",
        "zf = zipfile.ZipFile('glove.6B.zip')\n",
        "zf.extractall() \n",
        "zf.close()"
      ]
    },
    {
      "cell_type": "code",
      "execution_count": 4,
      "metadata": {},
      "outputs": [],
      "source": [
        "glove_dict = dict()\n",
        "f = open('glove.6B.100d.txt', encoding=\"utf8\") # 100차원의 GloVe 벡터를 사용\n",
        "\n",
        "for line in f:\n",
        "    word_vector = line.split()\n",
        "    word = word_vector[0]\n",
        "    word_vector_arr = np.asarray(word_vector[1:], dtype='float32') # 100개의 값을 가지는 array로 변환\n",
        "    glove_dict[word] = word_vector_arr\n",
        "f.close()"
      ]
    },
    {
      "cell_type": "code",
      "execution_count": 5,
      "metadata": {},
      "outputs": [
        {
          "data": {
            "text/plain": [
              "array([ 0.23088  ,  0.28283  ,  0.6318   , -0.59411  , -0.58599  ,\n",
              "        0.63255  ,  0.24402  , -0.14108  ,  0.060815 , -0.7898   ,\n",
              "       -0.29102  ,  0.14287  ,  0.72274  ,  0.20428  ,  0.1407   ,\n",
              "        0.98757  ,  0.52533  ,  0.097456 ,  0.8822   ,  0.51221  ,\n",
              "        0.40204  ,  0.21169  , -0.013109 , -0.71616  ,  0.55387  ,\n",
              "        1.1452   , -0.88044  , -0.50216  , -0.22814  ,  0.023885 ,\n",
              "        0.1072   ,  0.083739 ,  0.55015  ,  0.58479  ,  0.75816  ,\n",
              "        0.45706  , -0.28001  ,  0.25225  ,  0.68965  , -0.60972  ,\n",
              "        0.19578  ,  0.044209 , -0.31136  , -0.68826  , -0.22721  ,\n",
              "        0.46185  , -0.77162  ,  0.10208  ,  0.55636  ,  0.067417 ,\n",
              "       -0.57207  ,  0.23735  ,  0.4717   ,  0.82765  , -0.29263  ,\n",
              "       -1.3422   , -0.099277 ,  0.28139  ,  0.41604  ,  0.10583  ,\n",
              "        0.62203  ,  0.89496  , -0.23446  ,  0.51349  ,  0.99379  ,\n",
              "        1.1846   , -0.16364  ,  0.20653  ,  0.73854  ,  0.24059  ,\n",
              "       -0.96473  ,  0.13481  , -0.0072484,  0.33016  , -0.12365  ,\n",
              "        0.27191  , -0.40951  ,  0.021909 , -0.6069   ,  0.40755  ,\n",
              "        0.19566  , -0.41802  ,  0.18636  , -0.032652 , -0.78571  ,\n",
              "       -0.13847  ,  0.044007 , -0.084423 ,  0.04911  ,  0.24104  ,\n",
              "        0.45273  , -0.18682  ,  0.46182  ,  0.089068 , -0.18185  ,\n",
              "       -0.01523  , -0.7368   , -0.14532  ,  0.15104  , -0.71493  ],\n",
              "      dtype=float32)"
            ]
          },
          "execution_count": 5,
          "metadata": {},
          "output_type": "execute_result"
        }
      ],
      "source": [
        "glove_dict['cat']"
      ]
    },
    {
      "cell_type": "markdown",
      "metadata": {},
      "source": [
        "---"
      ]
    },
    {
      "cell_type": "markdown",
      "metadata": {},
      "source": [
        "#### 문장 임베딩"
      ]
    },
    {
      "cell_type": "code",
      "execution_count": 6,
      "metadata": {},
      "outputs": [],
      "source": [
        "# glove_dict에 존재하지 않는 단어가 문장에 존재할 경우에 대비\n",
        "embedding_dim = 100\n",
        "zero_vector = np.zeros(embedding_dim)"
      ]
    },
    {
      "cell_type": "code",
      "execution_count": 7,
      "metadata": {},
      "outputs": [],
      "source": [
        "# 단어 벡터의 평균으로부터 문장 벡터 얻기\n",
        "def calculate_sentence_vector(sentence):\n",
        "  return sum([glove_dict.get(word, zero_vector) for word in sentence])/len(sentence)"
      ]
    },
    {
      "cell_type": "code",
      "execution_count": 8,
      "metadata": {},
      "outputs": [
        {
          "name": "stdout",
          "output_type": "stream",
          "text": [
            "100\n"
          ]
        }
      ],
      "source": [
        "eng_sent = ['I', 'am', 'a', 'student']\n",
        "sentence_vector = calculate_sentence_vector(eng_sent)\n",
        "print(len(sentence_vector))"
      ]
    },
    {
      "cell_type": "code",
      "execution_count": 9,
      "metadata": {},
      "outputs": [
        {
          "name": "stdout",
          "output_type": "stream",
          "text": [
            "[0. 0. 0. 0. 0. 0. 0. 0. 0. 0. 0. 0. 0. 0. 0. 0. 0. 0. 0. 0. 0. 0. 0. 0.\n",
            " 0. 0. 0. 0. 0. 0. 0. 0. 0. 0. 0. 0. 0. 0. 0. 0. 0. 0. 0. 0. 0. 0. 0. 0.\n",
            " 0. 0. 0. 0. 0. 0. 0. 0. 0. 0. 0. 0. 0. 0. 0. 0. 0. 0. 0. 0. 0. 0. 0. 0.\n",
            " 0. 0. 0. 0. 0. 0. 0. 0. 0. 0. 0. 0. 0. 0. 0. 0. 0. 0. 0. 0. 0. 0. 0. 0.\n",
            " 0. 0. 0. 0.]\n"
          ]
        }
      ],
      "source": [
        "kor_sent = ['전', '좋은', '학생', '입니다']\n",
        "sentence_vector = calculate_sentence_vector(kor_sent)\n",
        "print(sentence_vector)"
      ]
    },
    {
      "cell_type": "markdown",
      "metadata": {},
      "source": [
        "---"
      ]
    },
    {
      "cell_type": "markdown",
      "metadata": {},
      "source": [
        "#### 텍스트 요약"
      ]
    },
    {
      "cell_type": "code",
      "execution_count": 10,
      "metadata": {},
      "outputs": [],
      "source": [
        "import numpy as np\n",
        "import re\n",
        "import pandas as pd\n",
        "import matplotlib.pyplot as plt\n",
        "from nltk.tokenize import sent_tokenize, word_tokenize\n",
        "from nltk.corpus import stopwords\n",
        "from urllib.request import urlretrieve\n",
        "import zipfile\n",
        "from sklearn.metrics.pairwise import cosine_similarity\n",
        "import networkx as nx"
      ]
    },
    {
      "cell_type": "code",
      "execution_count": 11,
      "metadata": {},
      "outputs": [],
      "source": [
        "# nltk 제공 영어 불용어\n",
        "stop_words = stopwords.words('english')"
      ]
    },
    {
      "cell_type": "code",
      "execution_count": 14,
      "metadata": {},
      "outputs": [],
      "source": [
        "# 데이터 생성\n",
        "df = pd.read_csv('news_summary_more.csv', encoding='iso-8859-1')"
      ]
    },
    {
      "cell_type": "code",
      "execution_count": 15,
      "metadata": {},
      "outputs": [],
      "source": [
        "# 중복 데이터 제거\n",
        "df.drop_duplicates(subset=['text'], inplace=True)"
      ]
    },
    {
      "cell_type": "code",
      "execution_count": 16,
      "metadata": {},
      "outputs": [
        {
          "data": {
            "text/html": [
              "<div>\n",
              "<style scoped>\n",
              "    .dataframe tbody tr th:only-of-type {\n",
              "        vertical-align: middle;\n",
              "    }\n",
              "\n",
              "    .dataframe tbody tr th {\n",
              "        vertical-align: top;\n",
              "    }\n",
              "\n",
              "    .dataframe thead th {\n",
              "        text-align: right;\n",
              "    }\n",
              "</style>\n",
              "<table border=\"1\" class=\"dataframe\">\n",
              "  <thead>\n",
              "    <tr style=\"text-align: right;\">\n",
              "      <th></th>\n",
              "      <th>headlines</th>\n",
              "      <th>text</th>\n",
              "    </tr>\n",
              "  </thead>\n",
              "  <tbody>\n",
              "    <tr>\n",
              "      <th>0</th>\n",
              "      <td>upGrad learner switches to career in ML &amp; Al w...</td>\n",
              "      <td>Saurav Kant, an alumnus of upGrad and IIIT-B's...</td>\n",
              "    </tr>\n",
              "    <tr>\n",
              "      <th>1</th>\n",
              "      <td>Delhi techie wins free food from Swiggy for on...</td>\n",
              "      <td>Kunal Shah's credit card bill payment platform...</td>\n",
              "    </tr>\n",
              "    <tr>\n",
              "      <th>2</th>\n",
              "      <td>New Zealand end Rohit Sharma-led India's 12-ma...</td>\n",
              "      <td>New Zealand defeated India by 8 wickets in the...</td>\n",
              "    </tr>\n",
              "    <tr>\n",
              "      <th>3</th>\n",
              "      <td>Aegon life iTerm insurance plan helps customer...</td>\n",
              "      <td>With Aegon Life iTerm Insurance plan, customer...</td>\n",
              "    </tr>\n",
              "    <tr>\n",
              "      <th>4</th>\n",
              "      <td>Have known Hirani for yrs, what if MeToo claim...</td>\n",
              "      <td>Speaking about the sexual harassment allegatio...</td>\n",
              "    </tr>\n",
              "    <tr>\n",
              "      <th>5</th>\n",
              "      <td>Rahat Fateh Ali Khan denies getting notice for...</td>\n",
              "      <td>Pakistani singer Rahat Fateh Ali Khan has deni...</td>\n",
              "    </tr>\n",
              "    <tr>\n",
              "      <th>6</th>\n",
              "      <td>India get all out for 92, their lowest ODI tot...</td>\n",
              "      <td>India recorded their lowest ODI total in New Z...</td>\n",
              "    </tr>\n",
              "    <tr>\n",
              "      <th>7</th>\n",
              "      <td>Govt directs Alok Verma to join work 1 day bef...</td>\n",
              "      <td>Weeks after ex-CBI Director Alok Verma told th...</td>\n",
              "    </tr>\n",
              "    <tr>\n",
              "      <th>8</th>\n",
              "      <td>Called PM Modi 'sir' 10 times to satisfy his e...</td>\n",
              "      <td>Andhra Pradesh CM N Chandrababu Naidu has said...</td>\n",
              "    </tr>\n",
              "    <tr>\n",
              "      <th>9</th>\n",
              "      <td>Cong wins Ramgarh bypoll in Rajasthan, takes t...</td>\n",
              "      <td>Congress candidate Shafia Zubair won the Ramga...</td>\n",
              "    </tr>\n",
              "  </tbody>\n",
              "</table>\n",
              "</div>"
            ],
            "text/plain": [
              "                                           headlines  \\\n",
              "0  upGrad learner switches to career in ML & Al w...   \n",
              "1  Delhi techie wins free food from Swiggy for on...   \n",
              "2  New Zealand end Rohit Sharma-led India's 12-ma...   \n",
              "3  Aegon life iTerm insurance plan helps customer...   \n",
              "4  Have known Hirani for yrs, what if MeToo claim...   \n",
              "5  Rahat Fateh Ali Khan denies getting notice for...   \n",
              "6  India get all out for 92, their lowest ODI tot...   \n",
              "7  Govt directs Alok Verma to join work 1 day bef...   \n",
              "8  Called PM Modi 'sir' 10 times to satisfy his e...   \n",
              "9  Cong wins Ramgarh bypoll in Rajasthan, takes t...   \n",
              "\n",
              "                                                text  \n",
              "0  Saurav Kant, an alumnus of upGrad and IIIT-B's...  \n",
              "1  Kunal Shah's credit card bill payment platform...  \n",
              "2  New Zealand defeated India by 8 wickets in the...  \n",
              "3  With Aegon Life iTerm Insurance plan, customer...  \n",
              "4  Speaking about the sexual harassment allegatio...  \n",
              "5  Pakistani singer Rahat Fateh Ali Khan has deni...  \n",
              "6  India recorded their lowest ODI total in New Z...  \n",
              "7  Weeks after ex-CBI Director Alok Verma told th...  \n",
              "8  Andhra Pradesh CM N Chandrababu Naidu has said...  \n",
              "9  Congress candidate Shafia Zubair won the Ramga...  "
            ]
          },
          "execution_count": 16,
          "metadata": {},
          "output_type": "execute_result"
        }
      ],
      "source": [
        "df.head(10)"
      ]
    },
    {
      "cell_type": "code",
      "execution_count": 19,
      "metadata": {},
      "outputs": [],
      "source": [
        "# 인덱스 재정렬\n",
        "df.reset_index(drop=True, inplace=True)"
      ]
    },
    {
      "cell_type": "code",
      "execution_count": 20,
      "metadata": {},
      "outputs": [],
      "source": [
        "# headlines 문장 토큰화\n",
        "df['sentences'] = df['text'].apply(sent_tokenize)"
      ]
    },
    {
      "cell_type": "code",
      "execution_count": 21,
      "metadata": {},
      "outputs": [
        {
          "data": {
            "text/html": [
              "<div>\n",
              "<style scoped>\n",
              "    .dataframe tbody tr th:only-of-type {\n",
              "        vertical-align: middle;\n",
              "    }\n",
              "\n",
              "    .dataframe tbody tr th {\n",
              "        vertical-align: top;\n",
              "    }\n",
              "\n",
              "    .dataframe thead th {\n",
              "        text-align: right;\n",
              "    }\n",
              "</style>\n",
              "<table border=\"1\" class=\"dataframe\">\n",
              "  <thead>\n",
              "    <tr style=\"text-align: right;\">\n",
              "      <th></th>\n",
              "      <th>headlines</th>\n",
              "      <th>text</th>\n",
              "      <th>sentences</th>\n",
              "    </tr>\n",
              "  </thead>\n",
              "  <tbody>\n",
              "    <tr>\n",
              "      <th>0</th>\n",
              "      <td>upGrad learner switches to career in ML &amp; Al w...</td>\n",
              "      <td>Saurav Kant, an alumnus of upGrad and IIIT-B's...</td>\n",
              "      <td>[Saurav Kant, an alumnus of upGrad and IIIT-B'...</td>\n",
              "    </tr>\n",
              "    <tr>\n",
              "      <th>1</th>\n",
              "      <td>Delhi techie wins free food from Swiggy for on...</td>\n",
              "      <td>Kunal Shah's credit card bill payment platform...</td>\n",
              "      <td>[Kunal Shah's credit card bill payment platfor...</td>\n",
              "    </tr>\n",
              "    <tr>\n",
              "      <th>2</th>\n",
              "      <td>New Zealand end Rohit Sharma-led India's 12-ma...</td>\n",
              "      <td>New Zealand defeated India by 8 wickets in the...</td>\n",
              "      <td>[New Zealand defeated India by 8 wickets in th...</td>\n",
              "    </tr>\n",
              "    <tr>\n",
              "      <th>3</th>\n",
              "      <td>Aegon life iTerm insurance plan helps customer...</td>\n",
              "      <td>With Aegon Life iTerm Insurance plan, customer...</td>\n",
              "      <td>[With Aegon Life iTerm Insurance plan, custome...</td>\n",
              "    </tr>\n",
              "    <tr>\n",
              "      <th>4</th>\n",
              "      <td>Have known Hirani for yrs, what if MeToo claim...</td>\n",
              "      <td>Speaking about the sexual harassment allegatio...</td>\n",
              "      <td>[Speaking about the sexual harassment allegati...</td>\n",
              "    </tr>\n",
              "    <tr>\n",
              "      <th>5</th>\n",
              "      <td>Rahat Fateh Ali Khan denies getting notice for...</td>\n",
              "      <td>Pakistani singer Rahat Fateh Ali Khan has deni...</td>\n",
              "      <td>[Pakistani singer Rahat Fateh Ali Khan has den...</td>\n",
              "    </tr>\n",
              "    <tr>\n",
              "      <th>6</th>\n",
              "      <td>India get all out for 92, their lowest ODI tot...</td>\n",
              "      <td>India recorded their lowest ODI total in New Z...</td>\n",
              "      <td>[India recorded their lowest ODI total in New ...</td>\n",
              "    </tr>\n",
              "    <tr>\n",
              "      <th>7</th>\n",
              "      <td>Govt directs Alok Verma to join work 1 day bef...</td>\n",
              "      <td>Weeks after ex-CBI Director Alok Verma told th...</td>\n",
              "      <td>[Weeks after ex-CBI Director Alok Verma told t...</td>\n",
              "    </tr>\n",
              "    <tr>\n",
              "      <th>8</th>\n",
              "      <td>Called PM Modi 'sir' 10 times to satisfy his e...</td>\n",
              "      <td>Andhra Pradesh CM N Chandrababu Naidu has said...</td>\n",
              "      <td>[Andhra Pradesh CM N Chandrababu Naidu has sai...</td>\n",
              "    </tr>\n",
              "    <tr>\n",
              "      <th>9</th>\n",
              "      <td>Cong wins Ramgarh bypoll in Rajasthan, takes t...</td>\n",
              "      <td>Congress candidate Shafia Zubair won the Ramga...</td>\n",
              "      <td>[Congress candidate Shafia Zubair won the Ramg...</td>\n",
              "    </tr>\n",
              "  </tbody>\n",
              "</table>\n",
              "</div>"
            ],
            "text/plain": [
              "                                           headlines  \\\n",
              "0  upGrad learner switches to career in ML & Al w...   \n",
              "1  Delhi techie wins free food from Swiggy for on...   \n",
              "2  New Zealand end Rohit Sharma-led India's 12-ma...   \n",
              "3  Aegon life iTerm insurance plan helps customer...   \n",
              "4  Have known Hirani for yrs, what if MeToo claim...   \n",
              "5  Rahat Fateh Ali Khan denies getting notice for...   \n",
              "6  India get all out for 92, their lowest ODI tot...   \n",
              "7  Govt directs Alok Verma to join work 1 day bef...   \n",
              "8  Called PM Modi 'sir' 10 times to satisfy his e...   \n",
              "9  Cong wins Ramgarh bypoll in Rajasthan, takes t...   \n",
              "\n",
              "                                                text  \\\n",
              "0  Saurav Kant, an alumnus of upGrad and IIIT-B's...   \n",
              "1  Kunal Shah's credit card bill payment platform...   \n",
              "2  New Zealand defeated India by 8 wickets in the...   \n",
              "3  With Aegon Life iTerm Insurance plan, customer...   \n",
              "4  Speaking about the sexual harassment allegatio...   \n",
              "5  Pakistani singer Rahat Fateh Ali Khan has deni...   \n",
              "6  India recorded their lowest ODI total in New Z...   \n",
              "7  Weeks after ex-CBI Director Alok Verma told th...   \n",
              "8  Andhra Pradesh CM N Chandrababu Naidu has said...   \n",
              "9  Congress candidate Shafia Zubair won the Ramga...   \n",
              "\n",
              "                                           sentences  \n",
              "0  [Saurav Kant, an alumnus of upGrad and IIIT-B'...  \n",
              "1  [Kunal Shah's credit card bill payment platfor...  \n",
              "2  [New Zealand defeated India by 8 wickets in th...  \n",
              "3  [With Aegon Life iTerm Insurance plan, custome...  \n",
              "4  [Speaking about the sexual harassment allegati...  \n",
              "5  [Pakistani singer Rahat Fateh Ali Khan has den...  \n",
              "6  [India recorded their lowest ODI total in New ...  \n",
              "7  [Weeks after ex-CBI Director Alok Verma told t...  \n",
              "8  [Andhra Pradesh CM N Chandrababu Naidu has sai...  \n",
              "9  [Congress candidate Shafia Zubair won the Ramg...  "
            ]
          },
          "execution_count": 21,
          "metadata": {},
          "output_type": "execute_result"
        }
      ],
      "source": [
        "df.head(10)"
      ]
    },
    {
      "cell_type": "markdown",
      "metadata": {},
      "source": [
        "#### 토큰화와 전처리 함수 정의"
      ]
    },
    {
      "cell_type": "code",
      "execution_count": 22,
      "metadata": {},
      "outputs": [],
      "source": [
        "# 토큰화 함수\n",
        "def tokenization(sentences):\n",
        "    return [word_tokenize(sentence) for sentence in sentences]\n",
        "\n",
        "# 전처리 함수\n",
        "def preprocess_sentence(sentence):\n",
        "  # 영어를 제외한 숫자, 특수 문자 등은 전부 제거. 모든 알파벳은 소문자화\n",
        "  sentence = [re.sub(r'[^a-zA-z\\s]', '', word).lower() for word in sentence]\n",
        "  # 불용어가 아니면서 단어가 실제로 존재해야 한다.\n",
        "  return [word for word in sentence if word not in stop_words and word]\n",
        "\n",
        "# 위 전처리 함수를 모든 문장에 대해서 수행. 이 함수를 호출하면 모든 행에 대해서 수행.\n",
        "def preprocess_sentences(sentences):\n",
        "    return [preprocess_sentence(sentence) for sentence in sentences]"
      ]
    },
    {
      "cell_type": "code",
      "execution_count": 23,
      "metadata": {},
      "outputs": [],
      "source": [
        "df.dropna(inplace=True)"
      ]
    },
    {
      "cell_type": "code",
      "execution_count": 24,
      "metadata": {},
      "outputs": [],
      "source": [
        "# 단어 토큰화\n",
        "df['tokenized_sentences'] = df['sentences'].apply(tokenization)\n",
        "df['tokenized_sentences'] = df['tokenized_sentences'].apply(preprocess_sentences)"
      ]
    },
    {
      "cell_type": "code",
      "execution_count": 25,
      "metadata": {},
      "outputs": [
        {
          "data": {
            "text/html": [
              "<div>\n",
              "<style scoped>\n",
              "    .dataframe tbody tr th:only-of-type {\n",
              "        vertical-align: middle;\n",
              "    }\n",
              "\n",
              "    .dataframe tbody tr th {\n",
              "        vertical-align: top;\n",
              "    }\n",
              "\n",
              "    .dataframe thead th {\n",
              "        text-align: right;\n",
              "    }\n",
              "</style>\n",
              "<table border=\"1\" class=\"dataframe\">\n",
              "  <thead>\n",
              "    <tr style=\"text-align: right;\">\n",
              "      <th></th>\n",
              "      <th>headlines</th>\n",
              "      <th>text</th>\n",
              "      <th>sentences</th>\n",
              "      <th>tokenized_sentences</th>\n",
              "    </tr>\n",
              "  </thead>\n",
              "  <tbody>\n",
              "    <tr>\n",
              "      <th>0</th>\n",
              "      <td>upGrad learner switches to career in ML &amp; Al w...</td>\n",
              "      <td>Saurav Kant, an alumnus of upGrad and IIIT-B's...</td>\n",
              "      <td>[Saurav Kant, an alumnus of upGrad and IIIT-B'...</td>\n",
              "      <td>[[saurav, kant, alumnus, upgrad, iiitb, pg, pr...</td>\n",
              "    </tr>\n",
              "    <tr>\n",
              "      <th>1</th>\n",
              "      <td>Delhi techie wins free food from Swiggy for on...</td>\n",
              "      <td>Kunal Shah's credit card bill payment platform...</td>\n",
              "      <td>[Kunal Shah's credit card bill payment platfor...</td>\n",
              "      <td>[[kunal, shah, credit, card, bill, payment, pl...</td>\n",
              "    </tr>\n",
              "    <tr>\n",
              "      <th>2</th>\n",
              "      <td>New Zealand end Rohit Sharma-led India's 12-ma...</td>\n",
              "      <td>New Zealand defeated India by 8 wickets in the...</td>\n",
              "      <td>[New Zealand defeated India by 8 wickets in th...</td>\n",
              "      <td>[[new, zealand, defeated, india, wickets, four...</td>\n",
              "    </tr>\n",
              "    <tr>\n",
              "      <th>3</th>\n",
              "      <td>Aegon life iTerm insurance plan helps customer...</td>\n",
              "      <td>With Aegon Life iTerm Insurance plan, customer...</td>\n",
              "      <td>[With Aegon Life iTerm Insurance plan, custome...</td>\n",
              "      <td>[[aegon, life, iterm, insurance, plan, custome...</td>\n",
              "    </tr>\n",
              "    <tr>\n",
              "      <th>4</th>\n",
              "      <td>Have known Hirani for yrs, what if MeToo claim...</td>\n",
              "      <td>Speaking about the sexual harassment allegatio...</td>\n",
              "      <td>[Speaking about the sexual harassment allegati...</td>\n",
              "      <td>[[speaking, sexual, harassment, allegations, r...</td>\n",
              "    </tr>\n",
              "    <tr>\n",
              "      <th>5</th>\n",
              "      <td>Rahat Fateh Ali Khan denies getting notice for...</td>\n",
              "      <td>Pakistani singer Rahat Fateh Ali Khan has deni...</td>\n",
              "      <td>[Pakistani singer Rahat Fateh Ali Khan has den...</td>\n",
              "      <td>[[pakistani, singer, rahat, fateh, ali, khan, ...</td>\n",
              "    </tr>\n",
              "    <tr>\n",
              "      <th>6</th>\n",
              "      <td>India get all out for 92, their lowest ODI tot...</td>\n",
              "      <td>India recorded their lowest ODI total in New Z...</td>\n",
              "      <td>[India recorded their lowest ODI total in New ...</td>\n",
              "      <td>[[india, recorded, lowest, odi, total, new, ze...</td>\n",
              "    </tr>\n",
              "    <tr>\n",
              "      <th>7</th>\n",
              "      <td>Govt directs Alok Verma to join work 1 day bef...</td>\n",
              "      <td>Weeks after ex-CBI Director Alok Verma told th...</td>\n",
              "      <td>[Weeks after ex-CBI Director Alok Verma told t...</td>\n",
              "      <td>[[weeks, excbi, director, alok, verma, told, d...</td>\n",
              "    </tr>\n",
              "    <tr>\n",
              "      <th>8</th>\n",
              "      <td>Called PM Modi 'sir' 10 times to satisfy his e...</td>\n",
              "      <td>Andhra Pradesh CM N Chandrababu Naidu has said...</td>\n",
              "      <td>[Andhra Pradesh CM N Chandrababu Naidu has sai...</td>\n",
              "      <td>[[andhra, pradesh, cm, n, chandrababu, naidu, ...</td>\n",
              "    </tr>\n",
              "    <tr>\n",
              "      <th>9</th>\n",
              "      <td>Cong wins Ramgarh bypoll in Rajasthan, takes t...</td>\n",
              "      <td>Congress candidate Shafia Zubair won the Ramga...</td>\n",
              "      <td>[Congress candidate Shafia Zubair won the Ramg...</td>\n",
              "      <td>[[congress, candidate, shafia, zubair, ramgarh...</td>\n",
              "    </tr>\n",
              "  </tbody>\n",
              "</table>\n",
              "</div>"
            ],
            "text/plain": [
              "                                           headlines  \\\n",
              "0  upGrad learner switches to career in ML & Al w...   \n",
              "1  Delhi techie wins free food from Swiggy for on...   \n",
              "2  New Zealand end Rohit Sharma-led India's 12-ma...   \n",
              "3  Aegon life iTerm insurance plan helps customer...   \n",
              "4  Have known Hirani for yrs, what if MeToo claim...   \n",
              "5  Rahat Fateh Ali Khan denies getting notice for...   \n",
              "6  India get all out for 92, their lowest ODI tot...   \n",
              "7  Govt directs Alok Verma to join work 1 day bef...   \n",
              "8  Called PM Modi 'sir' 10 times to satisfy his e...   \n",
              "9  Cong wins Ramgarh bypoll in Rajasthan, takes t...   \n",
              "\n",
              "                                                text  \\\n",
              "0  Saurav Kant, an alumnus of upGrad and IIIT-B's...   \n",
              "1  Kunal Shah's credit card bill payment platform...   \n",
              "2  New Zealand defeated India by 8 wickets in the...   \n",
              "3  With Aegon Life iTerm Insurance plan, customer...   \n",
              "4  Speaking about the sexual harassment allegatio...   \n",
              "5  Pakistani singer Rahat Fateh Ali Khan has deni...   \n",
              "6  India recorded their lowest ODI total in New Z...   \n",
              "7  Weeks after ex-CBI Director Alok Verma told th...   \n",
              "8  Andhra Pradesh CM N Chandrababu Naidu has said...   \n",
              "9  Congress candidate Shafia Zubair won the Ramga...   \n",
              "\n",
              "                                           sentences  \\\n",
              "0  [Saurav Kant, an alumnus of upGrad and IIIT-B'...   \n",
              "1  [Kunal Shah's credit card bill payment platfor...   \n",
              "2  [New Zealand defeated India by 8 wickets in th...   \n",
              "3  [With Aegon Life iTerm Insurance plan, custome...   \n",
              "4  [Speaking about the sexual harassment allegati...   \n",
              "5  [Pakistani singer Rahat Fateh Ali Khan has den...   \n",
              "6  [India recorded their lowest ODI total in New ...   \n",
              "7  [Weeks after ex-CBI Director Alok Verma told t...   \n",
              "8  [Andhra Pradesh CM N Chandrababu Naidu has sai...   \n",
              "9  [Congress candidate Shafia Zubair won the Ramg...   \n",
              "\n",
              "                                 tokenized_sentences  \n",
              "0  [[saurav, kant, alumnus, upgrad, iiitb, pg, pr...  \n",
              "1  [[kunal, shah, credit, card, bill, payment, pl...  \n",
              "2  [[new, zealand, defeated, india, wickets, four...  \n",
              "3  [[aegon, life, iterm, insurance, plan, custome...  \n",
              "4  [[speaking, sexual, harassment, allegations, r...  \n",
              "5  [[pakistani, singer, rahat, fateh, ali, khan, ...  \n",
              "6  [[india, recorded, lowest, odi, total, new, ze...  \n",
              "7  [[weeks, excbi, director, alok, verma, told, d...  \n",
              "8  [[andhra, pradesh, cm, n, chandrababu, naidu, ...  \n",
              "9  [[congress, candidate, shafia, zubair, ramgarh...  "
            ]
          },
          "execution_count": 25,
          "metadata": {},
          "output_type": "execute_result"
        }
      ],
      "source": [
        "df.head(10)"
      ]
    },
    {
      "cell_type": "code",
      "execution_count": 26,
      "metadata": {},
      "outputs": [],
      "source": [
        "# 인덱스 재정렬\n",
        "df.reset_index(drop=True, inplace=True)"
      ]
    },
    {
      "cell_type": "code",
      "execution_count": 27,
      "metadata": {},
      "outputs": [],
      "source": [
        "embedding_dim = 100\n",
        "zero_vector = np.zeros(embedding_dim)\n",
        "\n",
        "# 단어 벡터의 평균으로부터 문장 벡터 얻는 함수\n",
        "def calculate_sentence_vector(sentence):\n",
        "  if len(sentence) != 0:\n",
        "    return sum([glove_dict.get(word, zero_vector) \n",
        "                  for word in sentence])/len(sentence)\n",
        "  else:\n",
        "    return zero_vector\n",
        "\n",
        "# 각 문장에 대해서 문장 벡터 반환\n",
        "def sentences_to_vectors(sentences):\n",
        "    return [calculate_sentence_vector(sentence) \n",
        "              for sentence in sentences]"
      ]
    },
    {
      "cell_type": "code",
      "execution_count": 28,
      "metadata": {},
      "outputs": [
        {
          "data": {
            "text/html": [
              "<div>\n",
              "<style scoped>\n",
              "    .dataframe tbody tr th:only-of-type {\n",
              "        vertical-align: middle;\n",
              "    }\n",
              "\n",
              "    .dataframe tbody tr th {\n",
              "        vertical-align: top;\n",
              "    }\n",
              "\n",
              "    .dataframe thead th {\n",
              "        text-align: right;\n",
              "    }\n",
              "</style>\n",
              "<table border=\"1\" class=\"dataframe\">\n",
              "  <thead>\n",
              "    <tr style=\"text-align: right;\">\n",
              "      <th></th>\n",
              "      <th>SentenceEmbedding</th>\n",
              "    </tr>\n",
              "  </thead>\n",
              "  <tbody>\n",
              "    <tr>\n",
              "      <th>0</th>\n",
              "      <td>[[-0.03110142209027943, 0.2509987346435848, 0....</td>\n",
              "    </tr>\n",
              "    <tr>\n",
              "      <th>1</th>\n",
              "      <td>[[0.07118500330868889, 0.1200263500213623, 0.2...</td>\n",
              "    </tr>\n",
              "    <tr>\n",
              "      <th>2</th>\n",
              "      <td>[[-0.3938936829566956, 0.08775366445382436, 0....</td>\n",
              "    </tr>\n",
              "    <tr>\n",
              "      <th>3</th>\n",
              "      <td>[[-0.13275814748236112, 0.2197451437158244, 0....</td>\n",
              "    </tr>\n",
              "    <tr>\n",
              "      <th>4</th>\n",
              "      <td>[[0.1350858618638345, 0.11717160325497389, 0.0...</td>\n",
              "    </tr>\n",
              "    <tr>\n",
              "      <th>...</th>\n",
              "      <td>...</td>\n",
              "    </tr>\n",
              "    <tr>\n",
              "      <th>98355</th>\n",
              "      <td>[[-0.17640973329544068, -0.08033666635553043, ...</td>\n",
              "    </tr>\n",
              "    <tr>\n",
              "      <th>98356</th>\n",
              "      <td>[[-0.31426433, -0.4974924, 0.13351959, -0.3342...</td>\n",
              "    </tr>\n",
              "    <tr>\n",
              "      <th>98357</th>\n",
              "      <td>[[-0.11475078, 0.20882098, 0.37073195, -0.0543...</td>\n",
              "    </tr>\n",
              "    <tr>\n",
              "      <th>98358</th>\n",
              "      <td>[[0.08184077, -0.091733046, 0.38981992, -0.241...</td>\n",
              "    </tr>\n",
              "    <tr>\n",
              "      <th>98359</th>\n",
              "      <td>[[-0.18000658977633485, 0.03287449898198247, 0...</td>\n",
              "    </tr>\n",
              "  </tbody>\n",
              "</table>\n",
              "<p>98360 rows × 1 columns</p>\n",
              "</div>"
            ],
            "text/plain": [
              "                                       SentenceEmbedding\n",
              "0      [[-0.03110142209027943, 0.2509987346435848, 0....\n",
              "1      [[0.07118500330868889, 0.1200263500213623, 0.2...\n",
              "2      [[-0.3938936829566956, 0.08775366445382436, 0....\n",
              "3      [[-0.13275814748236112, 0.2197451437158244, 0....\n",
              "4      [[0.1350858618638345, 0.11717160325497389, 0.0...\n",
              "...                                                  ...\n",
              "98355  [[-0.17640973329544068, -0.08033666635553043, ...\n",
              "98356  [[-0.31426433, -0.4974924, 0.13351959, -0.3342...\n",
              "98357  [[-0.11475078, 0.20882098, 0.37073195, -0.0543...\n",
              "98358  [[0.08184077, -0.091733046, 0.38981992, -0.241...\n",
              "98359  [[-0.18000658977633485, 0.03287449898198247, 0...\n",
              "\n",
              "[98360 rows x 1 columns]"
            ]
          },
          "execution_count": 28,
          "metadata": {},
          "output_type": "execute_result"
        }
      ],
      "source": [
        "df['SentenceEmbedding'] = df['tokenized_sentences'].apply(sentences_to_vectors)\n",
        "df[['SentenceEmbedding']]"
      ]
    },
    {
      "cell_type": "code",
      "execution_count": 29,
      "metadata": {},
      "outputs": [],
      "source": [
        "# 유사도(크기 == 문장 개수의 제곱) 행렬 생성\n",
        "def similarity_matrix(sentence_embedding):\n",
        "  sim_mat = np.zeros([len(sentence_embedding), len(sentence_embedding)])\n",
        "  for i in range(len(sentence_embedding)):\n",
        "      for j in range(len(sentence_embedding)):\n",
        "        sim_mat[i][j] = cosine_similarity(sentence_embedding[i].reshape(1, embedding_dim),\n",
        "                                          sentence_embedding[j].reshape(1, embedding_dim))[0,0]\n",
        "  return sim_mat"
      ]
    },
    {
      "cell_type": "code",
      "execution_count": 30,
      "metadata": {},
      "outputs": [
        {
          "data": {
            "text/plain": [
              "0        [[1.0000000000000002, 0.8437472794731611, 0.78...\n",
              "1        [[0.9999999999999999, 0.5244610885670492, 0.90...\n",
              "2        [[1.0000000000000002, 0.9064620738749639, 0.90...\n",
              "3        [[1.0000000000000002, 0.7802564345056789, 0.81...\n",
              "4        [[1.0000000000000002, 0.8746701110513524, 0.73...\n",
              "                               ...                        \n",
              "98355    [[1.0, 0.796665638448078, 0.6237575858456107],...\n",
              "98356    [[1.0, 0.578364543707745, 0.7477105533099697, ...\n",
              "98357    [[1.000000238418579, 0.7564843893051147, 0.788...\n",
              "98358    [[1.0, 0.8094996575434227, 0.7127675414085388]...\n",
              "98359    [[1.0000000000000002, 0.9110210990375208], [0....\n",
              "Name: SimMatrix, Length: 98360, dtype: object"
            ]
          },
          "execution_count": 30,
          "metadata": {},
          "output_type": "execute_result"
        }
      ],
      "source": [
        "# 코사인 유사도 열 생성\n",
        "df['SimMatrix'] = df['SentenceEmbedding'].apply(similarity_matrix)\n",
        "df['SimMatrix']"
      ]
    },
    {
      "cell_type": "code",
      "execution_count": 31,
      "metadata": {},
      "outputs": [
        {
          "name": "stdout",
          "output_type": "stream",
          "text": [
            "두 번째 샘플의 문장 개수 : 3\n",
            "두 번째 샘플의 문장 벡터가 모인 문장 행렬의 크기(shape) : (3, 100)\n",
            "두 번째 샘플의 유사도 행렬의 크기(shape) : (3, 3)\n"
          ]
        }
      ],
      "source": [
        "print('두 번째 샘플의 문장 개수 :',len(df['tokenized_sentences'][1]))\n",
        "print('두 번째 샘플의 문장 벡터가 모인 문장 행렬의 크기(shape) :',np.shape(df['SentenceEmbedding'][1]))\n",
        "print('두 번째 샘플의 유사도 행렬의 크기(shape) :',df['SimMatrix'][1].shape)"
      ]
    },
    {
      "cell_type": "code",
      "execution_count": 32,
      "metadata": {},
      "outputs": [],
      "source": [
        "# 그래프\n",
        "def draw_graphs(sim_matrix):\n",
        "  nx_graph = nx.from_numpy_array(sim_matrix)\n",
        "  plt.figure(figsize=(10, 10))\n",
        "  pos = nx.spring_layout(nx_graph)\n",
        "  nx.draw(nx_graph, with_labels=True, font_weight='bold')\n",
        "  nx.draw_networkx_edge_labels(nx_graph,pos,font_color='red')\n",
        "  plt.show()"
      ]
    },
    {
      "cell_type": "code",
      "execution_count": 33,
      "metadata": {},
      "outputs": [
        {
          "data": {
            "image/png": "[encoded data removed]",
            "text/plain": [
              "<Figure size 1000x1000 with 1 Axes>"
            ]
          },
          "metadata": {},
          "output_type": "display_data"
        }
      ],
      "source": [
        "draw_graphs(df['SimMatrix'][1])"
      ]
    },
    {
      "cell_type": "code",
      "execution_count": 44,
      "metadata": {},
      "outputs": [],
      "source": [
        "# 페이지 랭크 알고림 기반 문장 점수 산정\n",
        "def calculate_score(sim_matrix):\n",
        "    nx_graph = nx.from_numpy_array(sim_matrix)\n",
        "    scores = nx.pagerank(nx_graph)\n",
        "    return scores"
      ]
    },
    {
      "cell_type": "code",
      "execution_count": 45,
      "metadata": {},
      "outputs": [
        {
          "data": {
            "text/html": [
              "<div>\n",
              "<style scoped>\n",
              "    .dataframe tbody tr th:only-of-type {\n",
              "        vertical-align: middle;\n",
              "    }\n",
              "\n",
              "    .dataframe tbody tr th {\n",
              "        vertical-align: top;\n",
              "    }\n",
              "\n",
              "    .dataframe thead th {\n",
              "        text-align: right;\n",
              "    }\n",
              "</style>\n",
              "<table border=\"1\" class=\"dataframe\">\n",
              "  <thead>\n",
              "    <tr style=\"text-align: right;\">\n",
              "      <th></th>\n",
              "      <th>headlines</th>\n",
              "      <th>text</th>\n",
              "      <th>sentences</th>\n",
              "      <th>tokenized_sentences</th>\n",
              "      <th>SentenceEmbedding</th>\n",
              "      <th>SimMatrix</th>\n",
              "    </tr>\n",
              "  </thead>\n",
              "  <tbody>\n",
              "    <tr>\n",
              "      <th>0</th>\n",
              "      <td>upGrad learner switches to career in ML &amp; Al w...</td>\n",
              "      <td>Saurav Kant, an alumnus of upGrad and IIIT-B's...</td>\n",
              "      <td>[Saurav Kant, an alumnus of upGrad and IIIT-B'...</td>\n",
              "      <td>[[saurav, kant, alumnus, upgrad, iiitb, pg, pr...</td>\n",
              "      <td>[[-0.03110142209027943, 0.2509987346435848, 0....</td>\n",
              "      <td>[[1.0000000000000002, 0.8437472794731611, 0.78...</td>\n",
              "    </tr>\n",
              "    <tr>\n",
              "      <th>1</th>\n",
              "      <td>Delhi techie wins free food from Swiggy for on...</td>\n",
              "      <td>Kunal Shah's credit card bill payment platform...</td>\n",
              "      <td>[Kunal Shah's credit card bill payment platfor...</td>\n",
              "      <td>[[kunal, shah, credit, card, bill, payment, pl...</td>\n",
              "      <td>[[0.07118500330868889, 0.1200263500213623, 0.2...</td>\n",
              "      <td>[[0.9999999999999999, 0.5244610885670492, 0.90...</td>\n",
              "    </tr>\n",
              "    <tr>\n",
              "      <th>2</th>\n",
              "      <td>New Zealand end Rohit Sharma-led India's 12-ma...</td>\n",
              "      <td>New Zealand defeated India by 8 wickets in the...</td>\n",
              "      <td>[New Zealand defeated India by 8 wickets in th...</td>\n",
              "      <td>[[new, zealand, defeated, india, wickets, four...</td>\n",
              "      <td>[[-0.3938936829566956, 0.08775366445382436, 0....</td>\n",
              "      <td>[[1.0000000000000002, 0.9064620738749639, 0.90...</td>\n",
              "    </tr>\n",
              "    <tr>\n",
              "      <th>3</th>\n",
              "      <td>Aegon life iTerm insurance plan helps customer...</td>\n",
              "      <td>With Aegon Life iTerm Insurance plan, customer...</td>\n",
              "      <td>[With Aegon Life iTerm Insurance plan, custome...</td>\n",
              "      <td>[[aegon, life, iterm, insurance, plan, custome...</td>\n",
              "      <td>[[-0.13275814748236112, 0.2197451437158244, 0....</td>\n",
              "      <td>[[1.0000000000000002, 0.7802564345056789, 0.81...</td>\n",
              "    </tr>\n",
              "    <tr>\n",
              "      <th>4</th>\n",
              "      <td>Have known Hirani for yrs, what if MeToo claim...</td>\n",
              "      <td>Speaking about the sexual harassment allegatio...</td>\n",
              "      <td>[Speaking about the sexual harassment allegati...</td>\n",
              "      <td>[[speaking, sexual, harassment, allegations, r...</td>\n",
              "      <td>[[0.1350858618638345, 0.11717160325497389, 0.0...</td>\n",
              "      <td>[[1.0000000000000002, 0.8746701110513524, 0.73...</td>\n",
              "    </tr>\n",
              "    <tr>\n",
              "      <th>5</th>\n",
              "      <td>Rahat Fateh Ali Khan denies getting notice for...</td>\n",
              "      <td>Pakistani singer Rahat Fateh Ali Khan has deni...</td>\n",
              "      <td>[Pakistani singer Rahat Fateh Ali Khan has den...</td>\n",
              "      <td>[[pakistani, singer, rahat, fateh, ali, khan, ...</td>\n",
              "      <td>[[0.13778362, -0.33314914, 0.0022416227, -0.01...</td>\n",
              "      <td>[[0.9999998807907104, 0.7336646318435669, 0.62...</td>\n",
              "    </tr>\n",
              "    <tr>\n",
              "      <th>6</th>\n",
              "      <td>India get all out for 92, their lowest ODI tot...</td>\n",
              "      <td>India recorded their lowest ODI total in New Z...</td>\n",
              "      <td>[India recorded their lowest ODI total in New ...</td>\n",
              "      <td>[[india, recorded, lowest, odi, total, new, ze...</td>\n",
              "      <td>[[-0.26723042, 0.19925502, 0.65842146, 0.09804...</td>\n",
              "      <td>[[1.0000001192092896, 0.8258096473734144, 0.95...</td>\n",
              "    </tr>\n",
              "    <tr>\n",
              "      <th>7</th>\n",
              "      <td>Govt directs Alok Verma to join work 1 day bef...</td>\n",
              "      <td>Weeks after ex-CBI Director Alok Verma told th...</td>\n",
              "      <td>[Weeks after ex-CBI Director Alok Verma told t...</td>\n",
              "      <td>[[weeks, excbi, director, alok, verma, told, d...</td>\n",
              "      <td>[[-0.08084332045506347, -0.15078631636093964, ...</td>\n",
              "      <td>[[1.0, 0.891227904381532], [0.891227904381532,...</td>\n",
              "    </tr>\n",
              "    <tr>\n",
              "      <th>8</th>\n",
              "      <td>Called PM Modi 'sir' 10 times to satisfy his e...</td>\n",
              "      <td>Andhra Pradesh CM N Chandrababu Naidu has said...</td>\n",
              "      <td>[Andhra Pradesh CM N Chandrababu Naidu has sai...</td>\n",
              "      <td>[[andhra, pradesh, cm, n, chandrababu, naidu, ...</td>\n",
              "      <td>[[-0.6156039, -0.0150465425, 0.55135095, 0.169...</td>\n",
              "      <td>[[0.9999998211860657, 0.7671647667884827, 0.78...</td>\n",
              "    </tr>\n",
              "    <tr>\n",
              "      <th>9</th>\n",
              "      <td>Cong wins Ramgarh bypoll in Rajasthan, takes t...</td>\n",
              "      <td>Congress candidate Shafia Zubair won the Ramga...</td>\n",
              "      <td>[Congress candidate Shafia Zubair won the Ramg...</td>\n",
              "      <td>[[congress, candidate, shafia, zubair, ramgarh...</td>\n",
              "      <td>[[-0.45722999473412834, 0.04787431073685487, 0...</td>\n",
              "      <td>[[0.9999999999999999, 0.8179704300314184, 0.85...</td>\n",
              "    </tr>\n",
              "  </tbody>\n",
              "</table>\n",
              "</div>"
            ],
            "text/plain": [
              "                                           headlines  \\\n",
              "0  upGrad learner switches to career in ML & Al w...   \n",
              "1  Delhi techie wins free food from Swiggy for on...   \n",
              "2  New Zealand end Rohit Sharma-led India's 12-ma...   \n",
              "3  Aegon life iTerm insurance plan helps customer...   \n",
              "4  Have known Hirani for yrs, what if MeToo claim...   \n",
              "5  Rahat Fateh Ali Khan denies getting notice for...   \n",
              "6  India get all out for 92, their lowest ODI tot...   \n",
              "7  Govt directs Alok Verma to join work 1 day bef...   \n",
              "8  Called PM Modi 'sir' 10 times to satisfy his e...   \n",
              "9  Cong wins Ramgarh bypoll in Rajasthan, takes t...   \n",
              "\n",
              "                                                text  \\\n",
              "0  Saurav Kant, an alumnus of upGrad and IIIT-B's...   \n",
              "1  Kunal Shah's credit card bill payment platform...   \n",
              "2  New Zealand defeated India by 8 wickets in the...   \n",
              "3  With Aegon Life iTerm Insurance plan, customer...   \n",
              "4  Speaking about the sexual harassment allegatio...   \n",
              "5  Pakistani singer Rahat Fateh Ali Khan has deni...   \n",
              "6  India recorded their lowest ODI total in New Z...   \n",
              "7  Weeks after ex-CBI Director Alok Verma told th...   \n",
              "8  Andhra Pradesh CM N Chandrababu Naidu has said...   \n",
              "9  Congress candidate Shafia Zubair won the Ramga...   \n",
              "\n",
              "                                           sentences  \\\n",
              "0  [Saurav Kant, an alumnus of upGrad and IIIT-B'...   \n",
              "1  [Kunal Shah's credit card bill payment platfor...   \n",
              "2  [New Zealand defeated India by 8 wickets in th...   \n",
              "3  [With Aegon Life iTerm Insurance plan, custome...   \n",
              "4  [Speaking about the sexual harassment allegati...   \n",
              "5  [Pakistani singer Rahat Fateh Ali Khan has den...   \n",
              "6  [India recorded their lowest ODI total in New ...   \n",
              "7  [Weeks after ex-CBI Director Alok Verma told t...   \n",
              "8  [Andhra Pradesh CM N Chandrababu Naidu has sai...   \n",
              "9  [Congress candidate Shafia Zubair won the Ramg...   \n",
              "\n",
              "                                 tokenized_sentences  \\\n",
              "0  [[saurav, kant, alumnus, upgrad, iiitb, pg, pr...   \n",
              "1  [[kunal, shah, credit, card, bill, payment, pl...   \n",
              "2  [[new, zealand, defeated, india, wickets, four...   \n",
              "3  [[aegon, life, iterm, insurance, plan, custome...   \n",
              "4  [[speaking, sexual, harassment, allegations, r...   \n",
              "5  [[pakistani, singer, rahat, fateh, ali, khan, ...   \n",
              "6  [[india, recorded, lowest, odi, total, new, ze...   \n",
              "7  [[weeks, excbi, director, alok, verma, told, d...   \n",
              "8  [[andhra, pradesh, cm, n, chandrababu, naidu, ...   \n",
              "9  [[congress, candidate, shafia, zubair, ramgarh...   \n",
              "\n",
              "                                   SentenceEmbedding  \\\n",
              "0  [[-0.03110142209027943, 0.2509987346435848, 0....   \n",
              "1  [[0.07118500330868889, 0.1200263500213623, 0.2...   \n",
              "2  [[-0.3938936829566956, 0.08775366445382436, 0....   \n",
              "3  [[-0.13275814748236112, 0.2197451437158244, 0....   \n",
              "4  [[0.1350858618638345, 0.11717160325497389, 0.0...   \n",
              "5  [[0.13778362, -0.33314914, 0.0022416227, -0.01...   \n",
              "6  [[-0.26723042, 0.19925502, 0.65842146, 0.09804...   \n",
              "7  [[-0.08084332045506347, -0.15078631636093964, ...   \n",
              "8  [[-0.6156039, -0.0150465425, 0.55135095, 0.169...   \n",
              "9  [[-0.45722999473412834, 0.04787431073685487, 0...   \n",
              "\n",
              "                                           SimMatrix  \n",
              "0  [[1.0000000000000002, 0.8437472794731611, 0.78...  \n",
              "1  [[0.9999999999999999, 0.5244610885670492, 0.90...  \n",
              "2  [[1.0000000000000002, 0.9064620738749639, 0.90...  \n",
              "3  [[1.0000000000000002, 0.7802564345056789, 0.81...  \n",
              "4  [[1.0000000000000002, 0.8746701110513524, 0.73...  \n",
              "5  [[0.9999998807907104, 0.7336646318435669, 0.62...  \n",
              "6  [[1.0000001192092896, 0.8258096473734144, 0.95...  \n",
              "7  [[1.0, 0.891227904381532], [0.891227904381532,...  \n",
              "8  [[0.9999998211860657, 0.7671647667884827, 0.78...  \n",
              "9  [[0.9999999999999999, 0.8179704300314184, 0.85...  "
            ]
          },
          "execution_count": 45,
          "metadata": {},
          "output_type": "execute_result"
        }
      ],
      "source": [
        "df.head(10)"
      ]
    },
    {
      "cell_type": "code",
      "execution_count": 46,
      "metadata": {},
      "outputs": [
        {
          "ename": "PowerIterationFailedConvergence",
          "evalue": "(PowerIterationFailedConvergence(...), 'power iteration failed to converge within 100 iterations')",
          "output_type": "error",
          "traceback": [
            "\u001b[1;31m---------------------------------------------------------------------------\u001b[0m",
            "\u001b[1;31mPowerIterationFailedConvergence\u001b[0m           Traceback (most recent call last)",
            "Cell \u001b[1;32mIn[46], line 1\u001b[0m\n\u001b[1;32m----> 1\u001b[0m df[\u001b[38;5;124m'\u001b[39m\u001b[38;5;124mscore\u001b[39m\u001b[38;5;124m'\u001b[39m] \u001b[38;5;241m=\u001b[39m \u001b[43mdf\u001b[49m\u001b[43m[\u001b[49m\u001b[38;5;124;43m'\u001b[39;49m\u001b[38;5;124;43mSimMatrix\u001b[39;49m\u001b[38;5;124;43m'\u001b[39;49m\u001b[43m]\u001b[49m\u001b[38;5;241;43m.\u001b[39;49m\u001b[43mapply\u001b[49m\u001b[43m(\u001b[49m\u001b[43mcalculate_score\u001b[49m\u001b[43m)\u001b[49m\n\u001b[0;32m      2\u001b[0m df[[\u001b[38;5;124m'\u001b[39m\u001b[38;5;124mSimMatrix\u001b[39m\u001b[38;5;124m'\u001b[39m, \u001b[38;5;124m'\u001b[39m\u001b[38;5;124mscore\u001b[39m\u001b[38;5;124m'\u001b[39m]]\n",
            "File \u001b[1;32mc:\\Users\\ligoan\\anaconda3\\envs\\dtt\\lib\\site-packages\\pandas\\core\\series.py:4213\u001b[0m, in \u001b[0;36mSeries.apply\u001b[1;34m(self, func, convert_dtype, args, **kwds)\u001b[0m\n\u001b[0;32m   4211\u001b[0m     \u001b[38;5;28;01melse\u001b[39;00m:\n\u001b[0;32m   4212\u001b[0m         values \u001b[38;5;241m=\u001b[39m \u001b[38;5;28mself\u001b[39m\u001b[38;5;241m.\u001b[39mastype(\u001b[38;5;28mobject\u001b[39m)\u001b[38;5;241m.\u001b[39m_values\n\u001b[1;32m-> 4213\u001b[0m         mapped \u001b[38;5;241m=\u001b[39m \u001b[43mlib\u001b[49m\u001b[38;5;241;43m.\u001b[39;49m\u001b[43mmap_infer\u001b[49m\u001b[43m(\u001b[49m\u001b[43mvalues\u001b[49m\u001b[43m,\u001b[49m\u001b[43m \u001b[49m\u001b[43mf\u001b[49m\u001b[43m,\u001b[49m\u001b[43m \u001b[49m\u001b[43mconvert\u001b[49m\u001b[38;5;241;43m=\u001b[39;49m\u001b[43mconvert_dtype\u001b[49m\u001b[43m)\u001b[49m\n\u001b[0;32m   4215\u001b[0m \u001b[38;5;28;01mif\u001b[39;00m \u001b[38;5;28mlen\u001b[39m(mapped) \u001b[38;5;129;01mand\u001b[39;00m \u001b[38;5;28misinstance\u001b[39m(mapped[\u001b[38;5;241m0\u001b[39m], Series):\n\u001b[0;32m   4216\u001b[0m     \u001b[38;5;66;03m# GH 25959 use pd.array instead of tolist\u001b[39;00m\n\u001b[0;32m   4217\u001b[0m     \u001b[38;5;66;03m# so extension arrays can be used\u001b[39;00m\n\u001b[0;32m   4218\u001b[0m     \u001b[38;5;28;01mreturn\u001b[39;00m \u001b[38;5;28mself\u001b[39m\u001b[38;5;241m.\u001b[39m_constructor_expanddim(pd\u001b[38;5;241m.\u001b[39marray(mapped), index\u001b[38;5;241m=\u001b[39m\u001b[38;5;28mself\u001b[39m\u001b[38;5;241m.\u001b[39mindex)\n",
            "File \u001b[1;32mpandas\\_libs\\lib.pyx:2403\u001b[0m, in \u001b[0;36mpandas._libs.lib.map_infer\u001b[1;34m()\u001b[0m\n",
            "Cell \u001b[1;32mIn[44], line 4\u001b[0m, in \u001b[0;36mcalculate_score\u001b[1;34m(sim_matrix)\u001b[0m\n\u001b[0;32m      2\u001b[0m \u001b[38;5;28;01mdef\u001b[39;00m \u001b[38;5;21mcalculate_score\u001b[39m(sim_matrix):\n\u001b[0;32m      3\u001b[0m     nx_graph \u001b[38;5;241m=\u001b[39m nx\u001b[38;5;241m.\u001b[39mfrom_numpy_array(sim_matrix)\n\u001b[1;32m----> 4\u001b[0m     scores \u001b[38;5;241m=\u001b[39m \u001b[43mnx\u001b[49m\u001b[38;5;241;43m.\u001b[39;49m\u001b[43mpagerank\u001b[49m\u001b[43m(\u001b[49m\u001b[43mnx_graph\u001b[49m\u001b[43m)\u001b[49m\n\u001b[0;32m      5\u001b[0m     \u001b[38;5;28;01mreturn\u001b[39;00m scores\n",
            "File \u001b[1;32mc:\\Users\\ligoan\\anaconda3\\envs\\dtt\\lib\\site-packages\\networkx\\classes\\backends.py:148\u001b[0m, in \u001b[0;36m_dispatch.<locals>.wrapper\u001b[1;34m(*args, **kwds)\u001b[0m\n\u001b[0;32m    144\u001b[0m         \u001b[38;5;28;01melse\u001b[39;00m:\n\u001b[0;32m    145\u001b[0m             \u001b[38;5;28;01mraise\u001b[39;00m NetworkXNotImplemented(\n\u001b[0;32m    146\u001b[0m                 \u001b[38;5;124mf\u001b[39m\u001b[38;5;124m\"\u001b[39m\u001b[38;5;124m'\u001b[39m\u001b[38;5;132;01m{\u001b[39;00mname\u001b[38;5;132;01m}\u001b[39;00m\u001b[38;5;124m'\u001b[39m\u001b[38;5;124m not implemented by \u001b[39m\u001b[38;5;132;01m{\u001b[39;00mplugin_name\u001b[38;5;132;01m}\u001b[39;00m\u001b[38;5;124m\"\u001b[39m\n\u001b[0;32m    147\u001b[0m             )\n\u001b[1;32m--> 148\u001b[0m \u001b[38;5;28;01mreturn\u001b[39;00m \u001b[43mfunc\u001b[49m\u001b[43m(\u001b[49m\u001b[38;5;241;43m*\u001b[39;49m\u001b[43margs\u001b[49m\u001b[43m,\u001b[49m\u001b[43m \u001b[49m\u001b[38;5;241;43m*\u001b[39;49m\u001b[38;5;241;43m*\u001b[39;49m\u001b[43mkwds\u001b[49m\u001b[43m)\u001b[49m\n",
            "File \u001b[1;32mc:\\Users\\ligoan\\anaconda3\\envs\\dtt\\lib\\site-packages\\networkx\\algorithms\\link_analysis\\pagerank_alg.py:110\u001b[0m, in \u001b[0;36mpagerank\u001b[1;34m(G, alpha, personalization, max_iter, tol, nstart, weight, dangling)\u001b[0m\n\u001b[0;32m      9\u001b[0m \u001b[38;5;129m@nx\u001b[39m\u001b[38;5;241m.\u001b[39m_dispatch\n\u001b[0;32m     10\u001b[0m \u001b[38;5;28;01mdef\u001b[39;00m \u001b[38;5;21mpagerank\u001b[39m(\n\u001b[0;32m     11\u001b[0m     G,\n\u001b[1;32m   (...)\u001b[0m\n\u001b[0;32m     18\u001b[0m     dangling\u001b[38;5;241m=\u001b[39m\u001b[38;5;28;01mNone\u001b[39;00m,\n\u001b[0;32m     19\u001b[0m ):\n\u001b[0;32m     20\u001b[0m \u001b[38;5;250m    \u001b[39m\u001b[38;5;124;03m\"\"\"Returns the PageRank of the nodes in the graph.\u001b[39;00m\n\u001b[0;32m     21\u001b[0m \n\u001b[0;32m     22\u001b[0m \u001b[38;5;124;03m    PageRank computes a ranking of the nodes in the graph G based on\u001b[39;00m\n\u001b[1;32m   (...)\u001b[0m\n\u001b[0;32m    108\u001b[0m \n\u001b[0;32m    109\u001b[0m \u001b[38;5;124;03m    \"\"\"\u001b[39;00m\n\u001b[1;32m--> 110\u001b[0m     \u001b[38;5;28;01mreturn\u001b[39;00m \u001b[43m_pagerank_scipy\u001b[49m\u001b[43m(\u001b[49m\n\u001b[0;32m    111\u001b[0m \u001b[43m        \u001b[49m\u001b[43mG\u001b[49m\u001b[43m,\u001b[49m\u001b[43m \u001b[49m\u001b[43malpha\u001b[49m\u001b[43m,\u001b[49m\u001b[43m \u001b[49m\u001b[43mpersonalization\u001b[49m\u001b[43m,\u001b[49m\u001b[43m \u001b[49m\u001b[43mmax_iter\u001b[49m\u001b[43m,\u001b[49m\u001b[43m \u001b[49m\u001b[43mtol\u001b[49m\u001b[43m,\u001b[49m\u001b[43m \u001b[49m\u001b[43mnstart\u001b[49m\u001b[43m,\u001b[49m\u001b[43m \u001b[49m\u001b[43mweight\u001b[49m\u001b[43m,\u001b[49m\u001b[43m \u001b[49m\u001b[43mdangling\u001b[49m\n\u001b[0;32m    112\u001b[0m \u001b[43m    \u001b[49m\u001b[43m)\u001b[49m\n",
            "File \u001b[1;32mc:\\Users\\ligoan\\anaconda3\\envs\\dtt\\lib\\site-packages\\networkx\\algorithms\\link_analysis\\pagerank_alg.py:500\u001b[0m, in \u001b[0;36m_pagerank_scipy\u001b[1;34m(G, alpha, personalization, max_iter, tol, nstart, weight, dangling)\u001b[0m\n\u001b[0;32m    498\u001b[0m     \u001b[38;5;28;01mif\u001b[39;00m err \u001b[38;5;241m<\u001b[39m N \u001b[38;5;241m*\u001b[39m tol:\n\u001b[0;32m    499\u001b[0m         \u001b[38;5;28;01mreturn\u001b[39;00m \u001b[38;5;28mdict\u001b[39m(\u001b[38;5;28mzip\u001b[39m(nodelist, \u001b[38;5;28mmap\u001b[39m(\u001b[38;5;28mfloat\u001b[39m, x)))\n\u001b[1;32m--> 500\u001b[0m \u001b[38;5;28;01mraise\u001b[39;00m nx\u001b[38;5;241m.\u001b[39mPowerIterationFailedConvergence(max_iter)\n",
            "\u001b[1;31mPowerIterationFailedConvergence\u001b[0m: (PowerIterationFailedConvergence(...), 'power iteration failed to converge within 100 iterations')"
          ]
        }
      ],
      "source": [
        "df['score'] = df['SimMatrix'].apply(calculate_score)\n",
        "df[['SimMatrix', 'score']]"
      ]
    },
    {
      "cell_type": "code",
      "execution_count": 47,
      "metadata": {},
      "outputs": [
        {
          "name": "stdout",
          "output_type": "stream",
          "text": [
            "PageRank failed to converge. Try adjusting alpha or max_iter.\n",
            "PageRank failed to converge. Try adjusting alpha or max_iter.\n",
            "PageRank failed to converge. Try adjusting alpha or max_iter.\n",
            "PageRank failed to converge. Try adjusting alpha or max_iter.\n",
            "PageRank failed to converge. Try adjusting alpha or max_iter.\n",
            "PageRank failed to converge. Try adjusting alpha or max_iter.\n",
            "PageRank failed to converge. Try adjusting alpha or max_iter.\n",
            "PageRank failed to converge. Try adjusting alpha or max_iter.\n",
            "PageRank failed to converge. Try adjusting alpha or max_iter.\n",
            "PageRank failed to converge. Try adjusting alpha or max_iter.\n",
            "PageRank failed to converge. Try adjusting alpha or max_iter.\n",
            "PageRank failed to converge. Try adjusting alpha or max_iter.\n",
            "PageRank failed to converge. Try adjusting alpha or max_iter.\n",
            "PageRank failed to converge. Try adjusting alpha or max_iter.\n",
            "PageRank failed to converge. Try adjusting alpha or max_iter.\n",
            "PageRank failed to converge. Try adjusting alpha or max_iter.\n",
            "PageRank failed to converge. Try adjusting alpha or max_iter.\n",
            "PageRank failed to converge. Try adjusting alpha or max_iter.\n",
            "PageRank failed to converge. Try adjusting alpha or max_iter.\n",
            "PageRank failed to converge. Try adjusting alpha or max_iter.\n",
            "PageRank failed to converge. Try adjusting alpha or max_iter.\n",
            "PageRank failed to converge. Try adjusting alpha or max_iter.\n",
            "PageRank failed to converge. Try adjusting alpha or max_iter.\n",
            "PageRank failed to converge. Try adjusting alpha or max_iter.\n",
            "PageRank failed to converge. Try adjusting alpha or max_iter.\n",
            "PageRank failed to converge. Try adjusting alpha or max_iter.\n",
            "PageRank failed to converge. Try adjusting alpha or max_iter.\n",
            "PageRank failed to converge. Try adjusting alpha or max_iter.\n",
            "PageRank failed to converge. Try adjusting alpha or max_iter.\n",
            "PageRank failed to converge. Try adjusting alpha or max_iter.\n",
            "PageRank failed to converge. Try adjusting alpha or max_iter.\n",
            "PageRank failed to converge. Try adjusting alpha or max_iter.\n",
            "PageRank failed to converge. Try adjusting alpha or max_iter.\n",
            "PageRank failed to converge. Try adjusting alpha or max_iter.\n",
            "PageRank failed to converge. Try adjusting alpha or max_iter.\n",
            "PageRank failed to converge. Try adjusting alpha or max_iter.\n",
            "PageRank failed to converge. Try adjusting alpha or max_iter.\n",
            "PageRank failed to converge. Try adjusting alpha or max_iter.\n",
            "PageRank failed to converge. Try adjusting alpha or max_iter.\n",
            "PageRank failed to converge. Try adjusting alpha or max_iter.\n",
            "PageRank failed to converge. Try adjusting alpha or max_iter.\n",
            "PageRank failed to converge. Try adjusting alpha or max_iter.\n",
            "PageRank failed to converge. Try adjusting alpha or max_iter.\n",
            "PageRank failed to converge. Try adjusting alpha or max_iter.\n",
            "PageRank failed to converge. Try adjusting alpha or max_iter.\n",
            "PageRank failed to converge. Try adjusting alpha or max_iter.\n",
            "PageRank failed to converge. Try adjusting alpha or max_iter.\n",
            "PageRank failed to converge. Try adjusting alpha or max_iter.\n",
            "PageRank failed to converge. Try adjusting alpha or max_iter.\n",
            "PageRank failed to converge. Try adjusting alpha or max_iter.\n",
            "PageRank failed to converge. Try adjusting alpha or max_iter.\n",
            "PageRank failed to converge. Try adjusting alpha or max_iter.\n",
            "PageRank failed to converge. Try adjusting alpha or max_iter.\n",
            "PageRank failed to converge. Try adjusting alpha or max_iter.\n",
            "PageRank failed to converge. Try adjusting alpha or max_iter.\n",
            "PageRank failed to converge. Try adjusting alpha or max_iter.\n",
            "PageRank failed to converge. Try adjusting alpha or max_iter.\n",
            "PageRank failed to converge. Try adjusting alpha or max_iter.\n",
            "PageRank failed to converge. Try adjusting alpha or max_iter.\n",
            "PageRank failed to converge. Try adjusting alpha or max_iter.\n",
            "PageRank failed to converge. Try adjusting alpha or max_iter.\n",
            "PageRank failed to converge. Try adjusting alpha or max_iter.\n",
            "PageRank failed to converge. Try adjusting alpha or max_iter.\n",
            "PageRank failed to converge. Try adjusting alpha or max_iter.\n",
            "PageRank failed to converge. Try adjusting alpha or max_iter.\n",
            "PageRank failed to converge. Try adjusting alpha or max_iter.\n",
            "PageRank failed to converge. Try adjusting alpha or max_iter.\n",
            "PageRank failed to converge. Try adjusting alpha or max_iter.\n",
            "PageRank failed to converge. Try adjusting alpha or max_iter.\n",
            "PageRank failed to converge. Try adjusting alpha or max_iter.\n",
            "PageRank failed to converge. Try adjusting alpha or max_iter.\n",
            "PageRank failed to converge. Try adjusting alpha or max_iter.\n",
            "PageRank failed to converge. Try adjusting alpha or max_iter.\n",
            "PageRank failed to converge. Try adjusting alpha or max_iter.\n",
            "PageRank failed to converge. Try adjusting alpha or max_iter.\n",
            "PageRank failed to converge. Try adjusting alpha or max_iter.\n",
            "PageRank failed to converge. Try adjusting alpha or max_iter.\n",
            "PageRank failed to converge. Try adjusting alpha or max_iter.\n",
            "PageRank failed to converge. Try adjusting alpha or max_iter.\n",
            "PageRank failed to converge. Try adjusting alpha or max_iter.\n",
            "PageRank failed to converge. Try adjusting alpha or max_iter.\n",
            "PageRank failed to converge. Try adjusting alpha or max_iter.\n",
            "PageRank failed to converge. Try adjusting alpha or max_iter.\n",
            "PageRank failed to converge. Try adjusting alpha or max_iter.\n",
            "PageRank failed to converge. Try adjusting alpha or max_iter.\n",
            "PageRank failed to converge. Try adjusting alpha or max_iter.\n",
            "PageRank failed to converge. Try adjusting alpha or max_iter.\n",
            "PageRank failed to converge. Try adjusting alpha or max_iter.\n",
            "PageRank failed to converge. Try adjusting alpha or max_iter.\n",
            "PageRank failed to converge. Try adjusting alpha or max_iter.\n",
            "PageRank failed to converge. Try adjusting alpha or max_iter.\n",
            "PageRank failed to converge. Try adjusting alpha or max_iter.\n",
            "PageRank failed to converge. Try adjusting alpha or max_iter.\n",
            "PageRank failed to converge. Try adjusting alpha or max_iter.\n",
            "PageRank failed to converge. Try adjusting alpha or max_iter.\n",
            "PageRank failed to converge. Try adjusting alpha or max_iter.\n",
            "PageRank failed to converge. Try adjusting alpha or max_iter.\n",
            "PageRank failed to converge. Try adjusting alpha or max_iter.\n",
            "PageRank failed to converge. Try adjusting alpha or max_iter.\n",
            "PageRank failed to converge. Try adjusting alpha or max_iter.\n",
            "PageRank failed to converge. Try adjusting alpha or max_iter.\n",
            "PageRank failed to converge. Try adjusting alpha or max_iter.\n",
            "PageRank failed to converge. Try adjusting alpha or max_iter.\n",
            "PageRank failed to converge. Try adjusting alpha or max_iter.\n",
            "PageRank failed to converge. Try adjusting alpha or max_iter.\n",
            "PageRank failed to converge. Try adjusting alpha or max_iter.\n",
            "PageRank failed to converge. Try adjusting alpha or max_iter.\n",
            "PageRank failed to converge. Try adjusting alpha or max_iter.\n",
            "PageRank failed to converge. Try adjusting alpha or max_iter.\n",
            "PageRank failed to converge. Try adjusting alpha or max_iter.\n",
            "PageRank failed to converge. Try adjusting alpha or max_iter.\n",
            "PageRank failed to converge. Try adjusting alpha or max_iter.\n",
            "PageRank failed to converge. Try adjusting alpha or max_iter.\n",
            "PageRank failed to converge. Try adjusting alpha or max_iter.\n",
            "PageRank failed to converge. Try adjusting alpha or max_iter.\n",
            "PageRank failed to converge. Try adjusting alpha or max_iter.\n",
            "PageRank failed to converge. Try adjusting alpha or max_iter.\n",
            "PageRank failed to converge. Try adjusting alpha or max_iter.\n",
            "PageRank failed to converge. Try adjusting alpha or max_iter.\n",
            "PageRank failed to converge. Try adjusting alpha or max_iter.\n",
            "PageRank failed to converge. Try adjusting alpha or max_iter.\n",
            "PageRank failed to converge. Try adjusting alpha or max_iter.\n",
            "PageRank failed to converge. Try adjusting alpha or max_iter.\n",
            "PageRank failed to converge. Try adjusting alpha or max_iter.\n",
            "PageRank failed to converge. Try adjusting alpha or max_iter.\n",
            "PageRank failed to converge. Try adjusting alpha or max_iter.\n",
            "PageRank failed to converge. Try adjusting alpha or max_iter.\n",
            "PageRank failed to converge. Try adjusting alpha or max_iter.\n",
            "PageRank failed to converge. Try adjusting alpha or max_iter.\n",
            "PageRank failed to converge. Try adjusting alpha or max_iter.\n",
            "PageRank failed to converge. Try adjusting alpha or max_iter.\n",
            "PageRank failed to converge. Try adjusting alpha or max_iter.\n",
            "PageRank failed to converge. Try adjusting alpha or max_iter.\n",
            "PageRank failed to converge. Try adjusting alpha or max_iter.\n",
            "PageRank failed to converge. Try adjusting alpha or max_iter.\n",
            "PageRank failed to converge. Try adjusting alpha or max_iter.\n",
            "PageRank failed to converge. Try adjusting alpha or max_iter.\n",
            "PageRank failed to converge. Try adjusting alpha or max_iter.\n",
            "PageRank failed to converge. Try adjusting alpha or max_iter.\n",
            "PageRank failed to converge. Try adjusting alpha or max_iter.\n",
            "PageRank failed to converge. Try adjusting alpha or max_iter.\n",
            "PageRank failed to converge. Try adjusting alpha or max_iter.\n",
            "PageRank failed to converge. Try adjusting alpha or max_iter.\n",
            "PageRank failed to converge. Try adjusting alpha or max_iter.\n",
            "PageRank failed to converge. Try adjusting alpha or max_iter.\n",
            "PageRank failed to converge. Try adjusting alpha or max_iter.\n",
            "PageRank failed to converge. Try adjusting alpha or max_iter.\n",
            "PageRank failed to converge. Try adjusting alpha or max_iter.\n",
            "PageRank failed to converge. Try adjusting alpha or max_iter.\n",
            "PageRank failed to converge. Try adjusting alpha or max_iter.\n",
            "PageRank failed to converge. Try adjusting alpha or max_iter.\n",
            "PageRank failed to converge. Try adjusting alpha or max_iter.\n",
            "PageRank failed to converge. Try adjusting alpha or max_iter.\n",
            "PageRank failed to converge. Try adjusting alpha or max_iter.\n",
            "PageRank failed to converge. Try adjusting alpha or max_iter.\n",
            "PageRank failed to converge. Try adjusting alpha or max_iter.\n",
            "PageRank failed to converge. Try adjusting alpha or max_iter.\n",
            "PageRank failed to converge. Try adjusting alpha or max_iter.\n",
            "PageRank failed to converge. Try adjusting alpha or max_iter.\n",
            "PageRank failed to converge. Try adjusting alpha or max_iter.\n",
            "PageRank failed to converge. Try adjusting alpha or max_iter.\n",
            "PageRank failed to converge. Try adjusting alpha or max_iter.\n",
            "PageRank failed to converge. Try adjusting alpha or max_iter.\n",
            "PageRank failed to converge. Try adjusting alpha or max_iter.\n",
            "PageRank failed to converge. Try adjusting alpha or max_iter.\n",
            "PageRank failed to converge. Try adjusting alpha or max_iter.\n",
            "PageRank failed to converge. Try adjusting alpha or max_iter.\n"
          ]
        },
        {
          "data": {
            "text/html": [
              "<div>\n",
              "<style scoped>\n",
              "    .dataframe tbody tr th:only-of-type {\n",
              "        vertical-align: middle;\n",
              "    }\n",
              "\n",
              "    .dataframe tbody tr th {\n",
              "        vertical-align: top;\n",
              "    }\n",
              "\n",
              "    .dataframe thead th {\n",
              "        text-align: right;\n",
              "    }\n",
              "</style>\n",
              "<table border=\"1\" class=\"dataframe\">\n",
              "  <thead>\n",
              "    <tr style=\"text-align: right;\">\n",
              "      <th></th>\n",
              "      <th>SimMatrix</th>\n",
              "      <th>score</th>\n",
              "    </tr>\n",
              "  </thead>\n",
              "  <tbody>\n",
              "    <tr>\n",
              "      <th>0</th>\n",
              "      <td>[[1.0000000000000002, 0.8437472794731611, 0.78...</td>\n",
              "      <td>{0: 0.3369241329963341, 1: 0.3346311297253937,...</td>\n",
              "    </tr>\n",
              "    <tr>\n",
              "      <th>1</th>\n",
              "      <td>[[0.9999999999999999, 0.5244610885670492, 0.90...</td>\n",
              "      <td>{0: 0.34437261094300664, 1: 0.3059427797319144...</td>\n",
              "    </tr>\n",
              "    <tr>\n",
              "      <th>2</th>\n",
              "      <td>[[1.0000000000000002, 0.9064620738749639, 0.90...</td>\n",
              "      <td>{0: 0.33430031392252924, 1: 0.3327397388457738...</td>\n",
              "    </tr>\n",
              "    <tr>\n",
              "      <th>3</th>\n",
              "      <td>[[1.0000000000000002, 0.7802564345056789, 0.81...</td>\n",
              "      <td>{0: 0.32473581176115723, 1: 0.3358684594852912...</td>\n",
              "    </tr>\n",
              "    <tr>\n",
              "      <th>4</th>\n",
              "      <td>[[1.0000000000000002, 0.8746701110513524, 0.73...</td>\n",
              "      <td>{0: 0.27071878516528236, 1: 0.2619623170477332...</td>\n",
              "    </tr>\n",
              "    <tr>\n",
              "      <th>...</th>\n",
              "      <td>...</td>\n",
              "      <td>...</td>\n",
              "    </tr>\n",
              "    <tr>\n",
              "      <th>98355</th>\n",
              "      <td>[[1.0, 0.796665638448078, 0.6237575858456107],...</td>\n",
              "      <td>{0: 0.33213242961789397, 1: 0.3438288706272035...</td>\n",
              "    </tr>\n",
              "    <tr>\n",
              "      <th>98356</th>\n",
              "      <td>[[1.0, 0.578364543707745, 0.7477105533099697, ...</td>\n",
              "      <td>{0: 0.26660090125314545, 1: 0.2253605764193263...</td>\n",
              "    </tr>\n",
              "    <tr>\n",
              "      <th>98357</th>\n",
              "      <td>[[1.000000238418579, 0.7564843893051147, 0.788...</td>\n",
              "      <td>{0: 0.2467302392525479, 1: 0.25020619859533194...</td>\n",
              "    </tr>\n",
              "    <tr>\n",
              "      <th>98358</th>\n",
              "      <td>[[1.0, 0.8094996575434227, 0.7127675414085388]...</td>\n",
              "      <td>{0: 0.34358751068430926, 1: 0.3336460856900828...</td>\n",
              "    </tr>\n",
              "    <tr>\n",
              "      <th>98359</th>\n",
              "      <td>[[1.0000000000000002, 0.9110210990375208], [0....</td>\n",
              "      <td>{0: 0.5, 1: 0.49999999999999994}</td>\n",
              "    </tr>\n",
              "  </tbody>\n",
              "</table>\n",
              "<p>98360 rows × 2 columns</p>\n",
              "</div>"
            ],
            "text/plain": [
              "                                               SimMatrix  \\\n",
              "0      [[1.0000000000000002, 0.8437472794731611, 0.78...   \n",
              "1      [[0.9999999999999999, 0.5244610885670492, 0.90...   \n",
              "2      [[1.0000000000000002, 0.9064620738749639, 0.90...   \n",
              "3      [[1.0000000000000002, 0.7802564345056789, 0.81...   \n",
              "4      [[1.0000000000000002, 0.8746701110513524, 0.73...   \n",
              "...                                                  ...   \n",
              "98355  [[1.0, 0.796665638448078, 0.6237575858456107],...   \n",
              "98356  [[1.0, 0.578364543707745, 0.7477105533099697, ...   \n",
              "98357  [[1.000000238418579, 0.7564843893051147, 0.788...   \n",
              "98358  [[1.0, 0.8094996575434227, 0.7127675414085388]...   \n",
              "98359  [[1.0000000000000002, 0.9110210990375208], [0....   \n",
              "\n",
              "                                                   score  \n",
              "0      {0: 0.3369241329963341, 1: 0.3346311297253937,...  \n",
              "1      {0: 0.34437261094300664, 1: 0.3059427797319144...  \n",
              "2      {0: 0.33430031392252924, 1: 0.3327397388457738...  \n",
              "3      {0: 0.32473581176115723, 1: 0.3358684594852912...  \n",
              "4      {0: 0.27071878516528236, 1: 0.2619623170477332...  \n",
              "...                                                  ...  \n",
              "98355  {0: 0.33213242961789397, 1: 0.3438288706272035...  \n",
              "98356  {0: 0.26660090125314545, 1: 0.2253605764193263...  \n",
              "98357  {0: 0.2467302392525479, 1: 0.25020619859533194...  \n",
              "98358  {0: 0.34358751068430926, 1: 0.3336460856900828...  \n",
              "98359                   {0: 0.5, 1: 0.49999999999999994}  \n",
              "\n",
              "[98360 rows x 2 columns]"
            ]
          },
          "execution_count": 47,
          "metadata": {},
          "output_type": "execute_result"
        }
      ],
      "source": [
        "import networkx as nx\n",
        "\n",
        "def calculate_score(sim_matrix, alpha=0.85, max_iter=500, tol=1e-6):\n",
        "    # Convert similarity matrix to a graph\n",
        "    nx_graph = nx.from_numpy_array(sim_matrix)\n",
        "    \n",
        "    # Try to compute PageRank with increased iterations and a specified tolerance\n",
        "    try:\n",
        "        scores = nx.pagerank(nx_graph, alpha=alpha, max_iter=max_iter, tol=tol)\n",
        "    except nx.PowerIterationFailedConvergence:\n",
        "        print(\"PageRank failed to converge. Try adjusting alpha or max_iter.\")\n",
        "        scores = {i: 0 for i in range(len(sim_matrix))}  # Default to zero if failure\n",
        "    \n",
        "    return scores\n",
        "\n",
        "df['score'] = df['SimMatrix'].apply(calculate_score)\n",
        "df[['SimMatrix', 'score']]\n"
      ]
    },
    {
      "cell_type": "code",
      "execution_count": 48,
      "metadata": {},
      "outputs": [
        {
          "data": {
            "text/plain": [
              "{0: 0.34437261094300664, 1: 0.30594277973191447, 2: 0.3496846093250784}"
            ]
          },
          "execution_count": 48,
          "metadata": {},
          "output_type": "execute_result"
        }
      ],
      "source": [
        "df['score'][1]"
      ]
    },
    {
      "cell_type": "code",
      "execution_count": 49,
      "metadata": {},
      "outputs": [],
      "source": [
        "# score 중 가장 높은 점수 3개 선택하여 text를 summary하는 함수\n",
        "def ranked_sentences(sentences, scores, n=3):\n",
        "    top_scores = sorted(((scores[i],s) \n",
        "                         for i,s in enumerate(sentences)), \n",
        "                                reverse=True)\n",
        "    top_n_sentences = [sentence \n",
        "                        for score,sentence in top_scores[:n]]\n",
        "    return \" \".join(top_n_sentences)"
      ]
    },
    {
      "cell_type": "code",
      "execution_count": 51,
      "metadata": {},
      "outputs": [],
      "source": [
        "df['summary'] = df.apply(lambda x: \n",
        "                            ranked_sentences(x.sentences, \n",
        "                            x.score), axis=1)"
      ]
    },
    {
      "cell_type": "code",
      "execution_count": 53,
      "metadata": {},
      "outputs": [],
      "source": [
        "# 텍스트를 키로\n",
        "df = df.set_index('text')"
      ]
    },
    {
      "cell_type": "code",
      "execution_count": 55,
      "metadata": {},
      "outputs": [],
      "source": [
        "new_df = df[['headlines', 'summary']]"
      ]
    },
    {
      "cell_type": "code",
      "execution_count": 57,
      "metadata": {},
      "outputs": [
        {
          "data": {
            "text/html": [
              "<div>\n",
              "<style scoped>\n",
              "    .dataframe tbody tr th:only-of-type {\n",
              "        vertical-align: middle;\n",
              "    }\n",
              "\n",
              "    .dataframe tbody tr th {\n",
              "        vertical-align: top;\n",
              "    }\n",
              "\n",
              "    .dataframe thead th {\n",
              "        text-align: right;\n",
              "    }\n",
              "</style>\n",
              "<table border=\"1\" class=\"dataframe\">\n",
              "  <thead>\n",
              "    <tr style=\"text-align: right;\">\n",
              "      <th></th>\n",
              "      <th>headlines</th>\n",
              "      <th>summary</th>\n",
              "    </tr>\n",
              "    <tr>\n",
              "      <th>text</th>\n",
              "      <th></th>\n",
              "      <th></th>\n",
              "    </tr>\n",
              "  </thead>\n",
              "  <tbody>\n",
              "    <tr>\n",
              "      <th>Saurav Kant, an alumnus of upGrad and IIIT-B's PG Program in Machine learning and Artificial Intelligence, was a Sr Systems Engineer at Infosys with almost 5 years of work experience. The program and upGrad's 360-degree career support helped him transition to a Data Scientist at Tech Mahindra with 90% salary hike. upGrad's Online Power Learning has powered 3 lakh+ careers.</th>\n",
              "      <td>upGrad learner switches to career in ML &amp; Al w...</td>\n",
              "      <td>Saurav Kant, an alumnus of upGrad and IIIT-B's...</td>\n",
              "    </tr>\n",
              "    <tr>\n",
              "      <th>Kunal Shah's credit card bill payment platform, CRED, gave users a chance to win free food from Swiggy for one year. Pranav Kaushik, a Delhi techie, bagged this reward after spending 2000 CRED coins. Users get one CRED coin per rupee of bill paid, which can be used to avail rewards from brands like Ixigo, BookMyShow, UberEats, Cult.Fit and more.</th>\n",
              "      <td>Delhi techie wins free food from Swiggy for on...</td>\n",
              "      <td>Users get one CRED coin per rupee of bill paid...</td>\n",
              "    </tr>\n",
              "    <tr>\n",
              "      <th>New Zealand defeated India by 8 wickets in the fourth ODI at Hamilton on Thursday to win their first match of the five-match ODI series. India lost an international match under Rohit Sharma's captaincy after 12 consecutive victories dating back to March 2018. The match witnessed India getting all out for 92, their seventh lowest total in ODI cricket history.</th>\n",
              "      <td>New Zealand end Rohit Sharma-led India's 12-ma...</td>\n",
              "      <td>New Zealand defeated India by 8 wickets in the...</td>\n",
              "    </tr>\n",
              "    <tr>\n",
              "      <th>With Aegon Life iTerm Insurance plan, customers can enjoy tax benefits on your premiums paid and save up to Ã¢ÂÂ¹46,800^ on taxes. The plan provides life cover up to the age of 100 years. Also, customers have options to insure against Critical Illnesses, Disability and Accidental Death Benefit Rider with a life cover up to the age of 80 years.</th>\n",
              "      <td>Aegon life iTerm insurance plan helps customer...</td>\n",
              "      <td>Also, customers have options to insure against...</td>\n",
              "    </tr>\n",
              "    <tr>\n",
              "      <th>Speaking about the sexual harassment allegations against Rajkumar Hirani, Sonam Kapoor said, \"I've known Hirani for many years...What if it's not true, the [#MeToo] movement will get derailed.\" \"In the #MeToo movement, I always believe a woman. But in this case, we need to reserve our judgment,\" she added. Hirani has been accused by an assistant who worked in 'Sanju'.</th>\n",
              "      <td>Have known Hirani for yrs, what if MeToo claim...</td>\n",
              "      <td>Speaking about the sexual harassment allegatio...</td>\n",
              "    </tr>\n",
              "    <tr>\n",
              "      <th>Pakistani singer Rahat Fateh Ali Khan has denied receiving any notice from the Enforcement Directorate over allegedly smuggling foreign currency out of India. \"It would have been better if the authorities would have served the notice first if any and then publicised this,\" reads a press release issued on behalf of Rahat. The statement further called the allegation \"bizarre\".</th>\n",
              "      <td>Rahat Fateh Ali Khan denies getting notice for...</td>\n",
              "      <td>\"It would have been better if the authorities ...</td>\n",
              "    </tr>\n",
              "    <tr>\n",
              "      <th>India recorded their lowest ODI total in New Zealand after getting all out for 92 runs in 30.5 overs in the fourth ODI at Hamilton on Thursday. Seven of India's batsmen were dismissed for single-digit scores, while their number ten batsman Yuzvendra Chahal top-scored with 18*(37). India's previous lowest ODI total in New Zealand was 108.</th>\n",
              "      <td>India get all out for 92, their lowest ODI tot...</td>\n",
              "      <td>India recorded their lowest ODI total in New Z...</td>\n",
              "    </tr>\n",
              "    <tr>\n",
              "      <th>Weeks after ex-CBI Director Alok Verma told the Department of Personnel and Training to consider him retired, the Home Ministry asked him to join work on the last day of his fixed tenure as Director on Thursday. The ministry directed him to immediately join as DG, Fire Services, the post he was transferred to after his removal as CBI chief.</th>\n",
              "      <td>Govt directs Alok Verma to join work 1 day bef...</td>\n",
              "      <td>The ministry directed him to immediately join ...</td>\n",
              "    </tr>\n",
              "    <tr>\n",
              "      <th>Andhra Pradesh CM N Chandrababu Naidu has said, \"When I met then US President Bill Clinton, I addressed him as Mr Clinton, not as 'sir'. (PM Narendra) Modi is my junior in politics...I addressed him as sir 10 times.\" \"I did this...to satisfy his ego in the hope that he will do justice to the state,\" he added.</th>\n",
              "      <td>Called PM Modi 'sir' 10 times to satisfy his e...</td>\n",
              "      <td>Andhra Pradesh CM N Chandrababu Naidu has said...</td>\n",
              "    </tr>\n",
              "    <tr>\n",
              "      <th>Congress candidate Shafia Zubair won the Ramgarh Assembly seat in Rajasthan, by defeating BJP's Sukhwant Singh with a margin of 12,228 votes in the bypoll. With this victory, Congress has taken its total to 100 seats in the 200-member assembly. The election to the Ramgarh seat was delayed due to the death of sitting MLA and BSP candidate Laxman Singh.</th>\n",
              "      <td>Cong wins Ramgarh bypoll in Rajasthan, takes t...</td>\n",
              "      <td>Congress candidate Shafia Zubair won the Ramga...</td>\n",
              "    </tr>\n",
              "  </tbody>\n",
              "</table>\n",
              "</div>"
            ],
            "text/plain": [
              "                                                                                            headlines  \\\n",
              "text                                                                                                    \n",
              "Saurav Kant, an alumnus of upGrad and IIIT-B's ...  upGrad learner switches to career in ML & Al w...   \n",
              "Kunal Shah's credit card bill payment platform,...  Delhi techie wins free food from Swiggy for on...   \n",
              "New Zealand defeated India by 8 wickets in the ...  New Zealand end Rohit Sharma-led India's 12-ma...   \n",
              "With Aegon Life iTerm Insurance plan, customers...  Aegon life iTerm insurance plan helps customer...   \n",
              "Speaking about the sexual harassment allegation...  Have known Hirani for yrs, what if MeToo claim...   \n",
              "Pakistani singer Rahat Fateh Ali Khan has denie...  Rahat Fateh Ali Khan denies getting notice for...   \n",
              "India recorded their lowest ODI total in New Ze...  India get all out for 92, their lowest ODI tot...   \n",
              "Weeks after ex-CBI Director Alok Verma told the...  Govt directs Alok Verma to join work 1 day bef...   \n",
              "Andhra Pradesh CM N Chandrababu Naidu has said,...  Called PM Modi 'sir' 10 times to satisfy his e...   \n",
              "Congress candidate Shafia Zubair won the Ramgar...  Cong wins Ramgarh bypoll in Rajasthan, takes t...   \n",
              "\n",
              "                                                                                              summary  \n",
              "text                                                                                                   \n",
              "Saurav Kant, an alumnus of upGrad and IIIT-B's ...  Saurav Kant, an alumnus of upGrad and IIIT-B's...  \n",
              "Kunal Shah's credit card bill payment platform,...  Users get one CRED coin per rupee of bill paid...  \n",
              "New Zealand defeated India by 8 wickets in the ...  New Zealand defeated India by 8 wickets in the...  \n",
              "With Aegon Life iTerm Insurance plan, customers...  Also, customers have options to insure against...  \n",
              "Speaking about the sexual harassment allegation...  Speaking about the sexual harassment allegatio...  \n",
              "Pakistani singer Rahat Fateh Ali Khan has denie...  \"It would have been better if the authorities ...  \n",
              "India recorded their lowest ODI total in New Ze...  India recorded their lowest ODI total in New Z...  \n",
              "Weeks after ex-CBI Director Alok Verma told the...  The ministry directed him to immediately join ...  \n",
              "Andhra Pradesh CM N Chandrababu Naidu has said,...  Andhra Pradesh CM N Chandrababu Naidu has said...  \n",
              "Congress candidate Shafia Zubair won the Ramgar...  Congress candidate Shafia Zubair won the Ramga...  "
            ]
          },
          "execution_count": 57,
          "metadata": {},
          "output_type": "execute_result"
        }
      ],
      "source": [
        "new_df.head(10)"
      ]
    },
    {
      "cell_type": "markdown",
      "metadata": {},
      "source": [
        "### 결과 비교"
      ]
    },
    {
      "cell_type": "code",
      "execution_count": 59,
      "metadata": {},
      "outputs": [
        {
          "data": {
            "text/html": [
              "<div>\n",
              "<style scoped>\n",
              "    .dataframe tbody tr th:only-of-type {\n",
              "        vertical-align: middle;\n",
              "    }\n",
              "\n",
              "    .dataframe tbody tr th {\n",
              "        vertical-align: top;\n",
              "    }\n",
              "\n",
              "    .dataframe thead th {\n",
              "        text-align: right;\n",
              "    }\n",
              "</style>\n",
              "<table border=\"1\" class=\"dataframe\">\n",
              "  <thead>\n",
              "    <tr style=\"text-align: right;\">\n",
              "      <th></th>\n",
              "      <th>headlines</th>\n",
              "      <th>summary</th>\n",
              "    </tr>\n",
              "    <tr>\n",
              "      <th>text</th>\n",
              "      <th></th>\n",
              "      <th></th>\n",
              "    </tr>\n",
              "  </thead>\n",
              "  <tbody>\n",
              "    <tr>\n",
              "      <th>Saurav Kant, an alumnus of upGrad and IIIT-B's PG Program in Machine learning and Artificial Intelligence, was a Sr Systems Engineer at Infosys with almost 5 years of work experience. The program and upGrad's 360-degree career support helped him transition to a Data Scientist at Tech Mahindra with 90% salary hike. upGrad's Online Power Learning has powered 3 lakh+ careers.</th>\n",
              "      <td>upGrad learner switches to career in ML &amp; Al w...</td>\n",
              "      <td>Saurav Kant, an alumnus of upGrad and IIIT-B's...</td>\n",
              "    </tr>\n",
              "    <tr>\n",
              "      <th>Kunal Shah's credit card bill payment platform, CRED, gave users a chance to win free food from Swiggy for one year. Pranav Kaushik, a Delhi techie, bagged this reward after spending 2000 CRED coins. Users get one CRED coin per rupee of bill paid, which can be used to avail rewards from brands like Ixigo, BookMyShow, UberEats, Cult.Fit and more.</th>\n",
              "      <td>Delhi techie wins free food from Swiggy for on...</td>\n",
              "      <td>Users get one CRED coin per rupee of bill paid...</td>\n",
              "    </tr>\n",
              "    <tr>\n",
              "      <th>New Zealand defeated India by 8 wickets in the fourth ODI at Hamilton on Thursday to win their first match of the five-match ODI series. India lost an international match under Rohit Sharma's captaincy after 12 consecutive victories dating back to March 2018. The match witnessed India getting all out for 92, their seventh lowest total in ODI cricket history.</th>\n",
              "      <td>New Zealand end Rohit Sharma-led India's 12-ma...</td>\n",
              "      <td>New Zealand defeated India by 8 wickets in the...</td>\n",
              "    </tr>\n",
              "    <tr>\n",
              "      <th>With Aegon Life iTerm Insurance plan, customers can enjoy tax benefits on your premiums paid and save up to Ã¢ÂÂ¹46,800^ on taxes. The plan provides life cover up to the age of 100 years. Also, customers have options to insure against Critical Illnesses, Disability and Accidental Death Benefit Rider with a life cover up to the age of 80 years.</th>\n",
              "      <td>Aegon life iTerm insurance plan helps customer...</td>\n",
              "      <td>Also, customers have options to insure against...</td>\n",
              "    </tr>\n",
              "    <tr>\n",
              "      <th>Speaking about the sexual harassment allegations against Rajkumar Hirani, Sonam Kapoor said, \"I've known Hirani for many years...What if it's not true, the [#MeToo] movement will get derailed.\" \"In the #MeToo movement, I always believe a woman. But in this case, we need to reserve our judgment,\" she added. Hirani has been accused by an assistant who worked in 'Sanju'.</th>\n",
              "      <td>Have known Hirani for yrs, what if MeToo claim...</td>\n",
              "      <td>Speaking about the sexual harassment allegatio...</td>\n",
              "    </tr>\n",
              "    <tr>\n",
              "      <th>...</th>\n",
              "      <td>...</td>\n",
              "      <td>...</td>\n",
              "    </tr>\n",
              "    <tr>\n",
              "      <th>A CRPF jawan was on Tuesday axed to death with sharp-edged weapons by Maoists at a local village fair in Chhattisgarh's insurgency-hit Bijapur district. As per preliminary information, Maoists attacked the jawan while he had gone to visit the fair along with his family, a police official said. A combing operation was launched to nab the assailants, he added.</th>\n",
              "      <td>CRPF jawan axed to death by Maoists in Chhatti...</td>\n",
              "      <td>As per preliminary information, Maoists attack...</td>\n",
              "    </tr>\n",
              "    <tr>\n",
              "      <th>'Uff Yeh', the first song from the Sonakshi Sinha starrer upcoming drama film 'Noor' has been released. The song has been composed by Amaal Mallik with vocals by Armaan Malik and lyrics by Manoj Muntashir. Sonakshi will be seen portraying a Pakistani journalist-writer in the film. Directed by Sunhil Sippy, the film is scheduled to release on April 21.</th>\n",
              "      <td>First song from Sonakshi Sinha's 'Noor' titled...</td>\n",
              "      <td>'Uff Yeh', the first song from the Sonakshi Si...</td>\n",
              "    </tr>\n",
              "    <tr>\n",
              "      <th>According to reports, a new version of the 1999 science fiction film 'The Matrix' is in development. Michael B Jordan will reportedly play the lead role in the film. Screenwriter Zak Penn is in talks to write the script of the film, reports added. Actor Keanu Reeves starred in the original film, which was followed by two sequels.</th>\n",
              "      <td>'The Matrix' film to get a reboot: Reports</td>\n",
              "      <td>Screenwriter Zak Penn is in talks to write the...</td>\n",
              "    </tr>\n",
              "    <tr>\n",
              "      <th>A new music video shows rapper Snoop Dogg aiming a toy gun at a clown character parodying US President Donald Trump. The video also shows a TV airing a news conference with the headline 'Ronald Klump wants to deport all doggs' airing live from 'The Clown House'. The video is for a remixed version of the song 'Lavender'.</th>\n",
              "      <td>Snoop Dogg aims gun at clown dressed as Trump ...</td>\n",
              "      <td>A new music video shows rapper Snoop Dogg aimi...</td>\n",
              "    </tr>\n",
              "    <tr>\n",
              "      <th>Madhesi Morcha, an alliance of seven political parties, has withdrawn support to PM Pushpa Kamal Dahal-led Nepal government after it failed to meet a seven-day ultimatum to fulfil their demands including endorsement for the revised Constitution amendment bill. The Morcha has 36 seats in the Parliament, but despite the withdrawal of support, there is no immediate threat to the government.</th>\n",
              "      <td>Madhesi Morcha withdraws support to Nepalese g...</td>\n",
              "      <td>Madhesi Morcha, an alliance of seven political...</td>\n",
              "    </tr>\n",
              "  </tbody>\n",
              "</table>\n",
              "<p>98360 rows × 2 columns</p>\n",
              "</div>"
            ],
            "text/plain": [
              "                                                                                            headlines  \\\n",
              "text                                                                                                    \n",
              "Saurav Kant, an alumnus of upGrad and IIIT-B's ...  upGrad learner switches to career in ML & Al w...   \n",
              "Kunal Shah's credit card bill payment platform,...  Delhi techie wins free food from Swiggy for on...   \n",
              "New Zealand defeated India by 8 wickets in the ...  New Zealand end Rohit Sharma-led India's 12-ma...   \n",
              "With Aegon Life iTerm Insurance plan, customers...  Aegon life iTerm insurance plan helps customer...   \n",
              "Speaking about the sexual harassment allegation...  Have known Hirani for yrs, what if MeToo claim...   \n",
              "...                                                                                               ...   \n",
              "A CRPF jawan was on Tuesday axed to death with ...  CRPF jawan axed to death by Maoists in Chhatti...   \n",
              "'Uff Yeh', the first song from the Sonakshi Sin...  First song from Sonakshi Sinha's 'Noor' titled...   \n",
              "According to reports, a new version of the 1999...         'The Matrix' film to get a reboot: Reports   \n",
              "A new music video shows rapper Snoop Dogg aimin...  Snoop Dogg aims gun at clown dressed as Trump ...   \n",
              "Madhesi Morcha, an alliance of seven political ...  Madhesi Morcha withdraws support to Nepalese g...   \n",
              "\n",
              "                                                                                              summary  \n",
              "text                                                                                                   \n",
              "Saurav Kant, an alumnus of upGrad and IIIT-B's ...  Saurav Kant, an alumnus of upGrad and IIIT-B's...  \n",
              "Kunal Shah's credit card bill payment platform,...  Users get one CRED coin per rupee of bill paid...  \n",
              "New Zealand defeated India by 8 wickets in the ...  New Zealand defeated India by 8 wickets in the...  \n",
              "With Aegon Life iTerm Insurance plan, customers...  Also, customers have options to insure against...  \n",
              "Speaking about the sexual harassment allegation...  Speaking about the sexual harassment allegatio...  \n",
              "...                                                                                               ...  \n",
              "A CRPF jawan was on Tuesday axed to death with ...  As per preliminary information, Maoists attack...  \n",
              "'Uff Yeh', the first song from the Sonakshi Sin...  'Uff Yeh', the first song from the Sonakshi Si...  \n",
              "According to reports, a new version of the 1999...  Screenwriter Zak Penn is in talks to write the...  \n",
              "A new music video shows rapper Snoop Dogg aimin...  A new music video shows rapper Snoop Dogg aimi...  \n",
              "Madhesi Morcha, an alliance of seven political ...  Madhesi Morcha, an alliance of seven political...  \n",
              "\n",
              "[98360 rows x 2 columns]"
            ]
          },
          "execution_count": 59,
          "metadata": {},
          "output_type": "execute_result"
        }
      ],
      "source": [
        "new_df[['headlines', 'summary']]"
      ]
    }
  ],
  "metadata": {
    "colab": {
      "provenance": [],
      "toc_visible": true
    },
    "kernelspec": {
      "display_name": "Python 3",
      "name": "python3"
    },
    "language_info": {
      "codemirror_mode": {
        "name": "ipython",
        "version": 3
      },
      "file_extension": ".py",
      "mimetype": "text/x-python",
      "name": "python",
      "nbconvert_exporter": "python",
      "pygments_lexer": "ipython3",
      "version": "3.8.19"
    }
  },
  "nbformat": 4,
  "nbformat_minor": 0
}
